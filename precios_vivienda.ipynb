{
 "cells": [
  {
   "cell_type": "code",
   "execution_count": 1,
   "id": "d93463ff-834a-42c2-bfe0-c20b53adb915",
   "metadata": {},
   "outputs": [],
   "source": [
    "import pandas as pd\n",
    "import numpy as np\n",
    "import matplotlib.pyplot as plt\n",
    "#import seaborn as sns\n",
    "#import plotly.express as px"
   ]
  },
  {
   "cell_type": "code",
   "execution_count": 61,
   "id": "9e290a7e-1f96-4d04-b88c-8143bd71ab4e",
   "metadata": {},
   "outputs": [],
   "source": [
    "data1 = pd.read_csv('data_metro_cuadrado_p.csv')\n",
    "data2 = pd.read_csv('data_punto_propiedad_p.csv')\n",
    "data3 = pd.read_csv('data_trovit_p.csv')"
   ]
  },
  {
   "cell_type": "code",
   "execution_count": 62,
   "id": "56604062-ae80-4a11-88c8-9daa5d09a8e0",
   "metadata": {},
   "outputs": [
    {
     "name": "stdout",
     "output_type": "stream",
     "text": [
      "<class 'pandas.core.frame.DataFrame'>\n",
      "RangeIndex: 220 entries, 0 to 219\n",
      "Data columns (total 13 columns):\n",
      " #   Column                Non-Null Count  Dtype  \n",
      "---  ------                --------------  -----  \n",
      " 0   Habitaciones          220 non-null    int64  \n",
      " 1   Baños                 220 non-null    int64  \n",
      " 2   Estrato               220 non-null    int64  \n",
      " 3   Área_construida       220 non-null    int64  \n",
      " 4   Código inmueble       220 non-null    object \n",
      " 5   Barrio común          218 non-null    object \n",
      " 6   Precio                220 non-null    int64  \n",
      " 7   Antigüedad            220 non-null    object \n",
      " 8   Área construida       220 non-null    int64  \n",
      " 9   Área privada          220 non-null    int64  \n",
      " 10  Valor administración  113 non-null    float64\n",
      " 11  Parqueaderos          176 non-null    float64\n",
      " 12  estado                211 non-null    object \n",
      "dtypes: float64(2), int64(7), object(4)\n",
      "memory usage: 22.5+ KB\n"
     ]
    }
   ],
   "source": [
    "data1.info()"
   ]
  },
  {
   "cell_type": "code",
   "execution_count": 15,
   "id": "c4743b5e-41ca-4ee7-8b6f-a7d461d9b28f",
   "metadata": {},
   "outputs": [
    {
     "name": "stdout",
     "output_type": "stream",
     "text": [
      "<class 'pandas.core.frame.DataFrame'>\n",
      "RangeIndex: 136 entries, 0 to 135\n",
      "Data columns (total 12 columns):\n",
      " #   Column      Non-Null Count  Dtype  \n",
      "---  ------      --------------  -----  \n",
      " 0   path        136 non-null    object \n",
      " 1   tipo        136 non-null    object \n",
      " 2   estado      136 non-null    object \n",
      " 3   ubicacion   136 non-null    object \n",
      " 4   url         136 non-null    object \n",
      " 5   habitacion  131 non-null    float64\n",
      " 6   baño        134 non-null    float64\n",
      " 7   dimension   132 non-null    float64\n",
      " 8   precio      136 non-null    float64\n",
      " 9   estrato     24 non-null     float64\n",
      " 10  latitud     136 non-null    float64\n",
      " 11  longitud    136 non-null    float64\n",
      "dtypes: float64(7), object(5)\n",
      "memory usage: 12.9+ KB\n"
     ]
    }
   ],
   "source": [
    "data2.info()"
   ]
  },
  {
   "cell_type": "code",
   "execution_count": 16,
   "id": "0dc1a260-792a-4c52-ad66-2e1f2094e833",
   "metadata": {},
   "outputs": [
    {
     "name": "stdout",
     "output_type": "stream",
     "text": [
      "<class 'pandas.core.frame.DataFrame'>\n",
      "RangeIndex: 460 entries, 0 to 459\n",
      "Data columns (total 19 columns):\n",
      " #   Column                  Non-Null Count  Dtype  \n",
      "---  ------                  --------------  -----  \n",
      " 0   Unnamed: 0              460 non-null    int64  \n",
      " 1   url                     460 non-null    object \n",
      " 2   Tipo de anuncio         460 non-null    object \n",
      " 3   Tipo de propiedad       458 non-null    object \n",
      " 4   Habitaciones            455 non-null    float64\n",
      " 5   Baños                   454 non-null    float64\n",
      " 6   Superficie              454 non-null    float64\n",
      " 7   Área construida         27 non-null     float64\n",
      " 8   Piso                    11 non-null     float64\n",
      " 9   Estrato                 50 non-null     float64\n",
      " 10  precio                  459 non-null    float64\n",
      " 11  latitud                 189 non-null    object \n",
      " 12  longitud                189 non-null    object \n",
      " 13  ubicacion               189 non-null    object \n",
      " 14  Año de construcción     74 non-null     float64\n",
      " 15  Baño de visitas         1 non-null      float64\n",
      " 16  Superficie del terreno  13 non-null     object \n",
      " 17  Parqueadero             28 non-null     object \n",
      " 18  Orientación             18 non-null     object \n",
      "dtypes: float64(9), int64(1), object(9)\n",
      "memory usage: 68.4+ KB\n"
     ]
    }
   ],
   "source": [
    "data3.info()"
   ]
  },
  {
   "cell_type": "code",
   "execution_count": 3,
   "id": "29b0c1d3-4987-4877-a27e-1400ad68b444",
   "metadata": {},
   "outputs": [
    {
     "data": {
      "text/plain": [
       "816"
      ]
     },
     "execution_count": 3,
     "metadata": {},
     "output_type": "execute_result"
    }
   ],
   "source": [
    "## tenemos un total de \n",
    "data1.shape[0] + data2.shape[0]+data3.shape[0] "
   ]
  },
  {
   "cell_type": "markdown",
   "id": "c8e66692-0e40-411d-9e64-620be8746f88",
   "metadata": {},
   "source": [
    "## Aseguremonos de tener el mismo nombre para todas las columnas"
   ]
  },
  {
   "cell_type": "code",
   "execution_count": 63,
   "id": "b047bc93-56d6-440e-8860-fe53bbb2cffb",
   "metadata": {},
   "outputs": [],
   "source": [
    "from unidecode import unidecode\n",
    "\n",
    "# Función para normalizar nombres de columnas\n",
    "def normalize_column_name(col_name):\n",
    "    # Eliminar tildes\n",
    "    col_name = unidecode(col_name)\n",
    "    # Convertir a minúsculas\n",
    "    col_name = col_name.lower()\n",
    "    # Eliminar signos de admiración y otros caracteres no deseados\n",
    "    col_name = col_name.replace('!', '').replace(' ', '_')\n",
    "    # Otras posibles sustituciones\n",
    "    col_name = col_name.replace('á', 'a').replace('é', 'e').replace('í', 'i').replace('ó', 'o').replace('ú', 'u')\n",
    "    return col_name\n",
    "columns =data1.columns.tolist()\n",
    "columns1 = [normalize_column_name(a) for a in columns]\n",
    "columns =data2.columns.tolist()\n",
    "columns2 = [normalize_column_name(a) for a in columns]\n",
    "columns =data3.columns.tolist()\n",
    "columns3 = [normalize_column_name(a) for a in columns]\n"
   ]
  },
  {
   "cell_type": "code",
   "execution_count": 64,
   "id": "fb830a68-ef1f-4897-a44a-d1df9f93ba0a",
   "metadata": {},
   "outputs": [
    {
     "name": "stdout",
     "output_type": "stream",
     "text": [
      "columnas de data1: ['habitaciones', 'banos', 'estrato', 'area_construida', 'codigo_inmueble', 'barrio_comun', 'precio', 'antiguedad', 'area_construida', 'area_privada', 'valor_administracion', 'parqueaderos', 'estado']\n",
      "columnas de data2: ['path', 'tipo', 'estado', 'ubicacion', 'url', 'habitacion', 'bano', 'dimension', 'precio', 'estrato', 'latitud', 'longitud']\n",
      "columnas de data3: ['unnamed:_0', 'url', 'tipo_de_anuncio', 'tipo_de_propiedad', 'habitaciones', 'banos', 'superficie', 'area_construida', 'piso', 'estrato', 'precio', 'latitud', 'longitud', 'ubicacion', 'ano_de_construccion', 'bano_de_visitas', 'superficie_del_terreno', 'parqueadero', 'orientacion']\n"
     ]
    }
   ],
   "source": [
    "print(f'columnas de data1: {columns1}',end='\\n')\n",
    "print(f'columnas de data2: {columns2}',end='\\n')\n",
    "print(f'columnas de data3: {columns3}',end='\\n')"
   ]
  },
  {
   "cell_type": "code",
   "execution_count": 65,
   "id": "c57db5b8-b454-4ca4-bfff-1a18009be467",
   "metadata": {},
   "outputs": [],
   "source": [
    "data1.columns = columns1\n",
    "data2.columns = columns2\n",
    "data3.columns = columns3"
   ]
  },
  {
   "cell_type": "markdown",
   "id": "330af294-db9c-4d4c-88e8-130824a85e33",
   "metadata": {},
   "source": [
    "### Hagamos una revision de datos faltantes"
   ]
  },
  {
   "cell_type": "code",
   "execution_count": 66,
   "id": "4a6f32ce-f6fa-4405-8ec2-7ce720ca2e63",
   "metadata": {
    "scrolled": true
   },
   "outputs": [
    {
     "name": "stdout",
     "output_type": "stream",
     "text": [
      "Data1:\n",
      " habitaciones              0\n",
      "banos                     0\n",
      "estrato                   0\n",
      "area_construida           0\n",
      "codigo_inmueble           0\n",
      "barrio_comun              2\n",
      "precio                    0\n",
      "antiguedad                0\n",
      "area_construida           0\n",
      "area_privada              0\n",
      "valor_administracion    107\n",
      "parqueaderos             44\n",
      "estado                    9\n",
      "dtype: int64\n",
      " --------------------------------- \n",
      "Data2:\n",
      " path            0\n",
      "tipo            0\n",
      "estado          0\n",
      "ubicacion       0\n",
      "url             0\n",
      "habitacion      5\n",
      "bano            2\n",
      "dimension       4\n",
      "precio          0\n",
      "estrato       112\n",
      "latitud         0\n",
      "longitud        0\n",
      "dtype: int64\n",
      " --------------------------------- \n",
      "Data3:\n",
      " unnamed:_0                  0\n",
      "url                         0\n",
      "tipo_de_anuncio             0\n",
      "tipo_de_propiedad           2\n",
      "habitaciones                5\n",
      "banos                       6\n",
      "superficie                  6\n",
      "area_construida           433\n",
      "piso                      449\n",
      "estrato                   410\n",
      "precio                      1\n",
      "latitud                   271\n",
      "longitud                  271\n",
      "ubicacion                 271\n",
      "ano_de_construccion       386\n",
      "bano_de_visitas           459\n",
      "superficie_del_terreno    447\n",
      "parqueadero               432\n",
      "orientacion               442\n",
      "dtype: int64\n",
      " --------------------------------- \n"
     ]
    }
   ],
   "source": [
    "print('Data1:\\n',data1.isnull().sum(),end='\\n --------------------------------- \\n')\n",
    "print('Data2:\\n',data2.isnull().sum(),end='\\n --------------------------------- \\n')\n",
    "print('Data3:\\n',data3.isnull().sum(),end='\\n --------------------------------- \\n')\n"
   ]
  },
  {
   "cell_type": "markdown",
   "id": "6bd60704-2e62-4532-bb7c-4acbedad0a3d",
   "metadata": {},
   "source": [
    "- Porcedamos a eliminar las columnas con gran numero de datos faltantes"
   ]
  },
  {
   "cell_type": "code",
   "execution_count": 70,
   "id": "0cbfc5ac-22a0-4e57-ad19-9002df4d1c24",
   "metadata": {},
   "outputs": [],
   "source": [
    "data1.drop(['valor_administracion','parqueaderos'],axis=1,inplace=True)\n",
    "data2.drop('estrato',axis=1,inplace=True)\n",
    "data3.drop(['area_construida','piso','estrato','latitud','longitud','ubicacion','ano_de_construccion','bano_de_visitas','superficie_del_terreno','parqueadero','orientacion'],axis=1,inplace=True)\n"
   ]
  },
  {
   "cell_type": "code",
   "execution_count": 71,
   "id": "3ff52547-42c8-476b-b60b-fe72528b0a2d",
   "metadata": {
    "scrolled": true
   },
   "outputs": [
    {
     "name": "stdout",
     "output_type": "stream",
     "text": [
      "Data1:\n",
      " habitaciones       0\n",
      "banos              0\n",
      "estrato            0\n",
      "area_construida    0\n",
      "codigo_inmueble    0\n",
      "barrio_comun       2\n",
      "precio             0\n",
      "antiguedad         0\n",
      "area_construida    0\n",
      "area_privada       0\n",
      "estado             9\n",
      "dtype: int64\n",
      " --------------------------------- \n",
      "Data2:\n",
      " path          0\n",
      "tipo          0\n",
      "estado        0\n",
      "ubicacion     0\n",
      "url           0\n",
      "habitacion    5\n",
      "bano          2\n",
      "dimension     4\n",
      "precio        0\n",
      "latitud       0\n",
      "longitud      0\n",
      "dtype: int64\n",
      " --------------------------------- \n",
      "Data3:\n",
      " unnamed:_0           0\n",
      "url                  0\n",
      "tipo_de_anuncio      0\n",
      "tipo_de_propiedad    2\n",
      "habitaciones         5\n",
      "banos                6\n",
      "superficie           6\n",
      "precio               1\n",
      "dtype: int64\n",
      " --------------------------------- \n"
     ]
    }
   ],
   "source": [
    "print('Data1:\\n',data1.isnull().sum(),end='\\n --------------------------------- \\n')\n",
    "print('Data2:\\n',data2.isnull().sum(),end='\\n --------------------------------- \\n')\n",
    "print('Data3:\\n',data3.isnull().sum(),end='\\n --------------------------------- \\n')\n"
   ]
  },
  {
   "cell_type": "code",
   "execution_count": 2,
   "id": "d64b299f-78f2-4e69-891c-a0328958132d",
   "metadata": {},
   "outputs": [],
   "source": [
    "data1 = pd.read_csv('data1.csv') \n",
    "data2 = pd.read_csv('data2.csv')\n",
    "data3 = pd.read_csv('data3.csv')"
   ]
  },
  {
   "cell_type": "code",
   "execution_count": 5,
   "id": "f62535f1-c2d9-407f-9120-94b4229adfdd",
   "metadata": {},
   "outputs": [
    {
     "data": {
      "text/plain": [
       "((220, 11), (136, 11), (460, 8))"
      ]
     },
     "execution_count": 5,
     "metadata": {},
     "output_type": "execute_result"
    }
   ],
   "source": [
    "data1.shape,data2.shape,data3.shape"
   ]
  },
  {
   "cell_type": "code",
   "execution_count": 6,
   "id": "3fcfc7cb-deb0-4b2a-a112-222cccca1200",
   "metadata": {},
   "outputs": [
    {
     "name": "stdout",
     "output_type": "stream",
     "text": [
      "Index(['habitaciones', 'banos', 'estrato', 'area_construida',\n",
      "       'codigo_inmueble', 'barrio_comun', 'precio', 'antiguedad',\n",
      "       'area_construida.1', 'area_privada', 'estado'],\n",
      "      dtype='object')\n",
      "Index(['path', 'tipo', 'estado', 'ubicacion', 'url', 'habitacion', 'bano',\n",
      "       'dimension', 'precio', 'latitud', 'longitud'],\n",
      "      dtype='object')\n"
     ]
    }
   ],
   "source": [
    "print(data1.columns)\n",
    "print(data2.columns)"
   ]
  },
  {
   "cell_type": "code",
   "execution_count": 9,
   "id": "36a37ee7-18b1-4dd9-a106-6fa3a51b6db2",
   "metadata": {},
   "outputs": [
    {
     "data": {
      "text/plain": [
       "{'estado', 'precio'}"
      ]
     },
     "execution_count": 9,
     "metadata": {},
     "output_type": "execute_result"
    }
   ],
   "source": [
    "set(data1.columns) & set(data2.columns)"
   ]
  },
  {
   "cell_type": "code",
   "execution_count": 3,
   "id": "9f964556-f1fa-4a98-9793-2caf935aa538",
   "metadata": {},
   "outputs": [],
   "source": [
    "data2.rename(columns={'habitacion':'habitaciones','bano':'banos','dimension':'area_construida'},inplace=True)"
   ]
  },
  {
   "cell_type": "code",
   "execution_count": 4,
   "id": "4604d34d-b8fc-4dce-ac0a-854f2195db0f",
   "metadata": {},
   "outputs": [
    {
     "data": {
      "text/plain": [
       "{'area_construida', 'banos', 'estado', 'habitaciones', 'precio'}"
      ]
     },
     "execution_count": 4,
     "metadata": {},
     "output_type": "execute_result"
    }
   ],
   "source": [
    "set(data1.columns) & set(data2.columns)"
   ]
  },
  {
   "cell_type": "code",
   "execution_count": 7,
   "id": "27f3926c-f1e0-4a12-a61b-4a72214de47c",
   "metadata": {},
   "outputs": [
    {
     "data": {
      "text/html": [
       "<div>\n",
       "<style scoped>\n",
       "    .dataframe tbody tr th:only-of-type {\n",
       "        vertical-align: middle;\n",
       "    }\n",
       "\n",
       "    .dataframe tbody tr th {\n",
       "        vertical-align: top;\n",
       "    }\n",
       "\n",
       "    .dataframe thead th {\n",
       "        text-align: right;\n",
       "    }\n",
       "</style>\n",
       "<table border=\"1\" class=\"dataframe\">\n",
       "  <thead>\n",
       "    <tr style=\"text-align: right;\">\n",
       "      <th></th>\n",
       "      <th>habitaciones</th>\n",
       "      <th>banos</th>\n",
       "      <th>estrato</th>\n",
       "      <th>area_construida</th>\n",
       "      <th>codigo_inmueble</th>\n",
       "      <th>barrio_comun</th>\n",
       "      <th>precio</th>\n",
       "      <th>antiguedad</th>\n",
       "      <th>area_construida.1</th>\n",
       "      <th>area_privada</th>\n",
       "      <th>estado</th>\n",
       "    </tr>\n",
       "  </thead>\n",
       "  <tbody>\n",
       "    <tr>\n",
       "      <th>0</th>\n",
       "      <td>5</td>\n",
       "      <td>3</td>\n",
       "      <td>4</td>\n",
       "      <td>386</td>\n",
       "      <td>16742-M4795726</td>\n",
       "      <td>Frente al Hotel hunza</td>\n",
       "      <td>1200000000</td>\n",
       "      <td>Más de 20 años</td>\n",
       "      <td>386</td>\n",
       "      <td>386</td>\n",
       "      <td>venta_casa</td>\n",
       "    </tr>\n",
       "    <tr>\n",
       "      <th>1</th>\n",
       "      <td>5</td>\n",
       "      <td>4</td>\n",
       "      <td>5</td>\n",
       "      <td>210</td>\n",
       "      <td>16742-M4795707</td>\n",
       "      <td>CONDOMINIO EL LAGO</td>\n",
       "      <td>800000000</td>\n",
       "      <td>Entre 10 y 20 años</td>\n",
       "      <td>210</td>\n",
       "      <td>210</td>\n",
       "      <td>venta_casa</td>\n",
       "    </tr>\n",
       "    <tr>\n",
       "      <th>2</th>\n",
       "      <td>3</td>\n",
       "      <td>3</td>\n",
       "      <td>4</td>\n",
       "      <td>146</td>\n",
       "      <td>16742-M4795647</td>\n",
       "      <td>Tejarez del Norte</td>\n",
       "      <td>350000000</td>\n",
       "      <td>Entre 10 y 20 años</td>\n",
       "      <td>146</td>\n",
       "      <td>146</td>\n",
       "      <td>venta_casa</td>\n",
       "    </tr>\n",
       "    <tr>\n",
       "      <th>3</th>\n",
       "      <td>5</td>\n",
       "      <td>5</td>\n",
       "      <td>4</td>\n",
       "      <td>480</td>\n",
       "      <td>13873-M3706524</td>\n",
       "      <td>Condominio Campestre Santa Elena</td>\n",
       "      <td>2000000000</td>\n",
       "      <td>Entre 10 y 20 años</td>\n",
       "      <td>480</td>\n",
       "      <td>480</td>\n",
       "      <td>venta_casa</td>\n",
       "    </tr>\n",
       "    <tr>\n",
       "      <th>4</th>\n",
       "      <td>5</td>\n",
       "      <td>5</td>\n",
       "      <td>5</td>\n",
       "      <td>420</td>\n",
       "      <td>16742-M4796230</td>\n",
       "      <td>LA MARIA</td>\n",
       "      <td>1100000000</td>\n",
       "      <td>Más de 20 años</td>\n",
       "      <td>420</td>\n",
       "      <td>420</td>\n",
       "      <td>venta_casa</td>\n",
       "    </tr>\n",
       "  </tbody>\n",
       "</table>\n",
       "</div>"
      ],
      "text/plain": [
       "   habitaciones  banos  estrato  area_construida codigo_inmueble  \\\n",
       "0             5      3        4              386  16742-M4795726   \n",
       "1             5      4        5              210  16742-M4795707   \n",
       "2             3      3        4              146  16742-M4795647   \n",
       "3             5      5        4              480  13873-M3706524   \n",
       "4             5      5        5              420  16742-M4796230   \n",
       "\n",
       "                       barrio_comun      precio          antiguedad  \\\n",
       "0             Frente al Hotel hunza  1200000000      Más de 20 años   \n",
       "1                CONDOMINIO EL LAGO   800000000  Entre 10 y 20 años   \n",
       "2                 Tejarez del Norte   350000000  Entre 10 y 20 años   \n",
       "3  Condominio Campestre Santa Elena  2000000000  Entre 10 y 20 años   \n",
       "4                          LA MARIA  1100000000      Más de 20 años   \n",
       "\n",
       "   area_construida.1  area_privada      estado  \n",
       "0                386           386  venta_casa  \n",
       "1                210           210  venta_casa  \n",
       "2                146           146  venta_casa  \n",
       "3                480           480  venta_casa  \n",
       "4                420           420  venta_casa  "
      ]
     },
     "execution_count": 7,
     "metadata": {},
     "output_type": "execute_result"
    }
   ],
   "source": [
    "data1.head()"
   ]
  },
  {
   "cell_type": "code",
   "execution_count": 13,
   "id": "db8425a1-73a8-4353-8f34-0d2db41da024",
   "metadata": {},
   "outputs": [
    {
     "data": {
      "text/html": [
       "<div>\n",
       "<style scoped>\n",
       "    .dataframe tbody tr th:only-of-type {\n",
       "        vertical-align: middle;\n",
       "    }\n",
       "\n",
       "    .dataframe tbody tr th {\n",
       "        vertical-align: top;\n",
       "    }\n",
       "\n",
       "    .dataframe thead th {\n",
       "        text-align: right;\n",
       "    }\n",
       "</style>\n",
       "<table border=\"1\" class=\"dataframe\">\n",
       "  <thead>\n",
       "    <tr style=\"text-align: right;\">\n",
       "      <th></th>\n",
       "      <th>path</th>\n",
       "      <th>tipo</th>\n",
       "      <th>estado</th>\n",
       "      <th>ubicacion</th>\n",
       "      <th>url</th>\n",
       "      <th>habitaciones</th>\n",
       "      <th>banos</th>\n",
       "      <th>area_construida</th>\n",
       "      <th>precio</th>\n",
       "      <th>latitud</th>\n",
       "      <th>longitud</th>\n",
       "    </tr>\n",
       "  </thead>\n",
       "  <tbody>\n",
       "    <tr>\n",
       "      <th>0</th>\n",
       "      <td>2b72-82fe-18fc293-722dc1ef005c-7129</td>\n",
       "      <td>Apartamento</td>\n",
       "      <td>venta</td>\n",
       "      <td>Las Nieves-Centro/Centro Histórico/Tunja/Boyacá</td>\n",
       "      <td>2b72-82fe-18fc293-722dc1ef005c-7129</td>\n",
       "      <td>2.0</td>\n",
       "      <td>2.0</td>\n",
       "      <td>75.00</td>\n",
       "      <td>290000000.0</td>\n",
       "      <td>5.532431</td>\n",
       "      <td>-73.361601</td>\n",
       "    </tr>\n",
       "    <tr>\n",
       "      <th>1</th>\n",
       "      <td>2688-879f-6b245957-690b01267248-3152</td>\n",
       "      <td>Apartamento</td>\n",
       "      <td>venta</td>\n",
       "      <td>Las Nieves-Centro/Centro Histórico/Tunja/Boyacá</td>\n",
       "      <td>2688-879f-6b245957-690b01267248-3152</td>\n",
       "      <td>3.0</td>\n",
       "      <td>2.0</td>\n",
       "      <td>78.00</td>\n",
       "      <td>250000000.0</td>\n",
       "      <td>5.534000</td>\n",
       "      <td>-73.362000</td>\n",
       "    </tr>\n",
       "    <tr>\n",
       "      <th>2</th>\n",
       "      <td>9e55-b016-c7b4375e-2882ef5e1b71-43d9</td>\n",
       "      <td>Apartamento</td>\n",
       "      <td>venta</td>\n",
       "      <td>San Ignacio/Centro Histórico/Tunja/Boyacá</td>\n",
       "      <td>9e55-b016-c7b4375e-2882ef5e1b71-43d9</td>\n",
       "      <td>3.0</td>\n",
       "      <td>2.0</td>\n",
       "      <td>56.00</td>\n",
       "      <td>170000000.0</td>\n",
       "      <td>5.514202</td>\n",
       "      <td>-73.368592</td>\n",
       "    </tr>\n",
       "    <tr>\n",
       "      <th>3</th>\n",
       "      <td>eacb-885b-18f4d5b-1661e30e9c86-7c1e</td>\n",
       "      <td>Apartamento</td>\n",
       "      <td>venta</td>\n",
       "      <td>San Ignacio/Centro Histórico/Tunja/Boyacá</td>\n",
       "      <td>eacb-885b-18f4d5b-1661e30e9c86-7c1e</td>\n",
       "      <td>3.0</td>\n",
       "      <td>2.0</td>\n",
       "      <td>62.32</td>\n",
       "      <td>262900000.0</td>\n",
       "      <td>5.512884</td>\n",
       "      <td>-73.367969</td>\n",
       "    </tr>\n",
       "    <tr>\n",
       "      <th>4</th>\n",
       "      <td>b6e8-98d2-18f4d8f-a982c7d04954-7a3c</td>\n",
       "      <td>Apartamento</td>\n",
       "      <td>venta</td>\n",
       "      <td>San Ignacio/Centro Histórico/Tunja/Boyacá</td>\n",
       "      <td>b6e8-98d2-18f4d8f-a982c7d04954-7a3c</td>\n",
       "      <td>3.0</td>\n",
       "      <td>2.0</td>\n",
       "      <td>62.32</td>\n",
       "      <td>202900000.0</td>\n",
       "      <td>5.512952</td>\n",
       "      <td>-73.367884</td>\n",
       "    </tr>\n",
       "  </tbody>\n",
       "</table>\n",
       "</div>"
      ],
      "text/plain": [
       "                                   path         tipo estado  \\\n",
       "0   2b72-82fe-18fc293-722dc1ef005c-7129  Apartamento  venta   \n",
       "1  2688-879f-6b245957-690b01267248-3152  Apartamento  venta   \n",
       "2  9e55-b016-c7b4375e-2882ef5e1b71-43d9  Apartamento  venta   \n",
       "3   eacb-885b-18f4d5b-1661e30e9c86-7c1e  Apartamento  venta   \n",
       "4   b6e8-98d2-18f4d8f-a982c7d04954-7a3c  Apartamento  venta   \n",
       "\n",
       "                                         ubicacion  \\\n",
       "0  Las Nieves-Centro/Centro Histórico/Tunja/Boyacá   \n",
       "1  Las Nieves-Centro/Centro Histórico/Tunja/Boyacá   \n",
       "2        San Ignacio/Centro Histórico/Tunja/Boyacá   \n",
       "3        San Ignacio/Centro Histórico/Tunja/Boyacá   \n",
       "4        San Ignacio/Centro Histórico/Tunja/Boyacá   \n",
       "\n",
       "                                    url  habitaciones  banos  area_construida  \\\n",
       "0   2b72-82fe-18fc293-722dc1ef005c-7129           2.0    2.0            75.00   \n",
       "1  2688-879f-6b245957-690b01267248-3152           3.0    2.0            78.00   \n",
       "2  9e55-b016-c7b4375e-2882ef5e1b71-43d9           3.0    2.0            56.00   \n",
       "3   eacb-885b-18f4d5b-1661e30e9c86-7c1e           3.0    2.0            62.32   \n",
       "4   b6e8-98d2-18f4d8f-a982c7d04954-7a3c           3.0    2.0            62.32   \n",
       "\n",
       "        precio   latitud   longitud  \n",
       "0  290000000.0  5.532431 -73.361601  \n",
       "1  250000000.0  5.534000 -73.362000  \n",
       "2  170000000.0  5.514202 -73.368592  \n",
       "3  262900000.0  5.512884 -73.367969  \n",
       "4  202900000.0  5.512952 -73.367884  "
      ]
     },
     "execution_count": 13,
     "metadata": {},
     "output_type": "execute_result"
    }
   ],
   "source": [
    "data2.head()"
   ]
  },
  {
   "cell_type": "code",
   "execution_count": 20,
   "id": "aefb11d2-bc25-4704-8460-e02b10c50474",
   "metadata": {},
   "outputs": [
    {
     "data": {
      "text/plain": [
       "array(['venta'], dtype=object)"
      ]
     },
     "execution_count": 20,
     "metadata": {},
     "output_type": "execute_result"
    }
   ],
   "source": [
    "data2['estado'].unique()"
   ]
  },
  {
   "cell_type": "code",
   "execution_count": 21,
   "id": "a87aa4b3-aa2a-4b96-afba-dbc99a0ef3ad",
   "metadata": {},
   "outputs": [
    {
     "data": {
      "text/plain": [
       "array(['venta_casa', 'venta_apartamento', nan], dtype=object)"
      ]
     },
     "execution_count": 21,
     "metadata": {},
     "output_type": "execute_result"
    }
   ],
   "source": [
    "data1['estado'].unique()"
   ]
  },
  {
   "cell_type": "code",
   "execution_count": 5,
   "id": "b2402e11-95ab-49b8-83dd-3366705e7a6b",
   "metadata": {},
   "outputs": [],
   "source": [
    "data2.drop('estado',axis=1,inplace=True)\n",
    "data1.rename(columns={'estado':'tipo'},inplace=True)"
   ]
  },
  {
   "cell_type": "code",
   "execution_count": 6,
   "id": "6e350840-a378-488c-b41e-960b56988417",
   "metadata": {},
   "outputs": [],
   "source": [
    "data1.tipo=data1['tipo'].map({'venta_casa':'Casa','venta_apartamento':'Apartamento'})"
   ]
  },
  {
   "cell_type": "code",
   "execution_count": 30,
   "id": "996ea7f2-d575-4e44-a685-7d35e54fd8e5",
   "metadata": {},
   "outputs": [
    {
     "data": {
      "text/html": [
       "<div>\n",
       "<style scoped>\n",
       "    .dataframe tbody tr th:only-of-type {\n",
       "        vertical-align: middle;\n",
       "    }\n",
       "\n",
       "    .dataframe tbody tr th {\n",
       "        vertical-align: top;\n",
       "    }\n",
       "\n",
       "    .dataframe thead th {\n",
       "        text-align: right;\n",
       "    }\n",
       "</style>\n",
       "<table border=\"1\" class=\"dataframe\">\n",
       "  <thead>\n",
       "    <tr style=\"text-align: right;\">\n",
       "      <th></th>\n",
       "      <th>habitaciones</th>\n",
       "      <th>banos</th>\n",
       "      <th>estrato</th>\n",
       "      <th>area_construida</th>\n",
       "      <th>codigo_inmueble</th>\n",
       "      <th>barrio_comun</th>\n",
       "      <th>precio</th>\n",
       "      <th>antiguedad</th>\n",
       "      <th>area_construida.1</th>\n",
       "      <th>area_privada</th>\n",
       "      <th>tipo</th>\n",
       "    </tr>\n",
       "  </thead>\n",
       "  <tbody>\n",
       "    <tr>\n",
       "      <th>0</th>\n",
       "      <td>5</td>\n",
       "      <td>3</td>\n",
       "      <td>4</td>\n",
       "      <td>386</td>\n",
       "      <td>16742-M4795726</td>\n",
       "      <td>Frente al Hotel hunza</td>\n",
       "      <td>1200000000</td>\n",
       "      <td>Más de 20 años</td>\n",
       "      <td>386</td>\n",
       "      <td>386</td>\n",
       "      <td>Casa</td>\n",
       "    </tr>\n",
       "    <tr>\n",
       "      <th>1</th>\n",
       "      <td>5</td>\n",
       "      <td>4</td>\n",
       "      <td>5</td>\n",
       "      <td>210</td>\n",
       "      <td>16742-M4795707</td>\n",
       "      <td>CONDOMINIO EL LAGO</td>\n",
       "      <td>800000000</td>\n",
       "      <td>Entre 10 y 20 años</td>\n",
       "      <td>210</td>\n",
       "      <td>210</td>\n",
       "      <td>Casa</td>\n",
       "    </tr>\n",
       "    <tr>\n",
       "      <th>2</th>\n",
       "      <td>3</td>\n",
       "      <td>3</td>\n",
       "      <td>4</td>\n",
       "      <td>146</td>\n",
       "      <td>16742-M4795647</td>\n",
       "      <td>Tejarez del Norte</td>\n",
       "      <td>350000000</td>\n",
       "      <td>Entre 10 y 20 años</td>\n",
       "      <td>146</td>\n",
       "      <td>146</td>\n",
       "      <td>Casa</td>\n",
       "    </tr>\n",
       "  </tbody>\n",
       "</table>\n",
       "</div>"
      ],
      "text/plain": [
       "   habitaciones  banos  estrato  area_construida codigo_inmueble  \\\n",
       "0             5      3        4              386  16742-M4795726   \n",
       "1             5      4        5              210  16742-M4795707   \n",
       "2             3      3        4              146  16742-M4795647   \n",
       "\n",
       "            barrio_comun      precio          antiguedad  area_construida.1  \\\n",
       "0  Frente al Hotel hunza  1200000000      Más de 20 años                386   \n",
       "1     CONDOMINIO EL LAGO   800000000  Entre 10 y 20 años                210   \n",
       "2      Tejarez del Norte   350000000  Entre 10 y 20 años                146   \n",
       "\n",
       "   area_privada  tipo  \n",
       "0           386  Casa  \n",
       "1           210  Casa  \n",
       "2           146  Casa  "
      ]
     },
     "execution_count": 30,
     "metadata": {},
     "output_type": "execute_result"
    }
   ],
   "source": [
    "data1.head(3)"
   ]
  },
  {
   "cell_type": "code",
   "execution_count": 7,
   "id": "46a6ba6f-add0-4802-9c5a-da6f0fca9d11",
   "metadata": {},
   "outputs": [
    {
     "data": {
      "text/plain": [
       "{'area_construida', 'banos', 'habitaciones', 'precio', 'tipo'}"
      ]
     },
     "execution_count": 7,
     "metadata": {},
     "output_type": "execute_result"
    }
   ],
   "source": [
    "set(data1.columns) & set(data2.columns)"
   ]
  },
  {
   "cell_type": "code",
   "execution_count": 8,
   "id": "e8c120bf-fc4c-4114-bb9f-f8834b05df40",
   "metadata": {},
   "outputs": [
    {
     "data": {
      "text/plain": [
       "{'banos', 'habitaciones', 'precio'}"
      ]
     },
     "execution_count": 8,
     "metadata": {},
     "output_type": "execute_result"
    }
   ],
   "source": [
    "set(data1.columns) & set(data2.columns) & set(data3.columns)"
   ]
  },
  {
   "cell_type": "code",
   "execution_count": 48,
   "id": "32c659dc-b90b-4135-981a-03d437114d67",
   "metadata": {},
   "outputs": [
    {
     "data": {
      "text/html": [
       "<div>\n",
       "<style scoped>\n",
       "    .dataframe tbody tr th:only-of-type {\n",
       "        vertical-align: middle;\n",
       "    }\n",
       "\n",
       "    .dataframe tbody tr th {\n",
       "        vertical-align: top;\n",
       "    }\n",
       "\n",
       "    .dataframe thead th {\n",
       "        text-align: right;\n",
       "    }\n",
       "</style>\n",
       "<table border=\"1\" class=\"dataframe\">\n",
       "  <thead>\n",
       "    <tr style=\"text-align: right;\">\n",
       "      <th></th>\n",
       "      <th>unnamed:_0</th>\n",
       "      <th>url</th>\n",
       "      <th>tipo_de_anuncio</th>\n",
       "      <th>tipo_de_propiedad</th>\n",
       "      <th>habitaciones</th>\n",
       "      <th>banos</th>\n",
       "      <th>superficie</th>\n",
       "      <th>precio</th>\n",
       "    </tr>\n",
       "  </thead>\n",
       "  <tbody>\n",
       "    <tr>\n",
       "      <th>0</th>\n",
       "      <td>0</td>\n",
       "      <td>vendo-apartamento-cerca-a-unicentro-tunja.04b1...</td>\n",
       "      <td>Venta</td>\n",
       "      <td>Apartamento</td>\n",
       "      <td>3.0</td>\n",
       "      <td>2.0</td>\n",
       "      <td>110.0</td>\n",
       "      <td>460000000.0</td>\n",
       "    </tr>\n",
       "    <tr>\n",
       "      <th>1</th>\n",
       "      <td>1</td>\n",
       "      <td>vendo-apartamento-nogales-de-la-florida,-tunja...</td>\n",
       "      <td>Venta</td>\n",
       "      <td>Apartamento</td>\n",
       "      <td>3.0</td>\n",
       "      <td>2.0</td>\n",
       "      <td>56.0</td>\n",
       "      <td>170000000.0</td>\n",
       "    </tr>\n",
       "    <tr>\n",
       "      <th>2</th>\n",
       "      <td>2</td>\n",
       "      <td>vendo-apartamento-nuevo-conjunto-amalfi-tunja....</td>\n",
       "      <td>Venta</td>\n",
       "      <td>Apartamento</td>\n",
       "      <td>2.0</td>\n",
       "      <td>2.0</td>\n",
       "      <td>NaN</td>\n",
       "      <td>240000000.0</td>\n",
       "    </tr>\n",
       "  </tbody>\n",
       "</table>\n",
       "</div>"
      ],
      "text/plain": [
       "   unnamed:_0                                                url  \\\n",
       "0           0  vendo-apartamento-cerca-a-unicentro-tunja.04b1...   \n",
       "1           1  vendo-apartamento-nogales-de-la-florida,-tunja...   \n",
       "2           2  vendo-apartamento-nuevo-conjunto-amalfi-tunja....   \n",
       "\n",
       "  tipo_de_anuncio tipo_de_propiedad  habitaciones  banos  superficie  \\\n",
       "0           Venta       Apartamento           3.0    2.0       110.0   \n",
       "1           Venta       Apartamento           3.0    2.0        56.0   \n",
       "2           Venta       Apartamento           2.0    2.0         NaN   \n",
       "\n",
       "        precio  \n",
       "0  460000000.0  \n",
       "1  170000000.0  \n",
       "2  240000000.0  "
      ]
     },
     "execution_count": 48,
     "metadata": {},
     "output_type": "execute_result"
    }
   ],
   "source": [
    "data3.head(3)"
   ]
  },
  {
   "cell_type": "code",
   "execution_count": 50,
   "id": "6c05b315-a4da-411e-8829-0fe6e3c62cbc",
   "metadata": {},
   "outputs": [
    {
     "data": {
      "text/plain": [
       "array(['Venta'], dtype=object)"
      ]
     },
     "execution_count": 50,
     "metadata": {},
     "output_type": "execute_result"
    }
   ],
   "source": [
    "data3.tipo_de_anuncio.unique()"
   ]
  },
  {
   "cell_type": "code",
   "execution_count": 58,
   "id": "d6efca47-ba74-464d-ae0b-242179d9122b",
   "metadata": {},
   "outputs": [
    {
     "data": {
      "text/plain": [
       "Index([216, 222, 458], dtype='int64')"
      ]
     },
     "execution_count": 58,
     "metadata": {},
     "output_type": "execute_result"
    }
   ],
   "source": [
    "data3[(data3['tipo_de_propiedad']=='Terreno o Lote') | (data3['tipo_de_propiedad']=='LOCAL')].index"
   ]
  },
  {
   "cell_type": "code",
   "execution_count": 9,
   "id": "144856f9-271c-4196-beb6-e6219500ca71",
   "metadata": {},
   "outputs": [
    {
     "data": {
      "text/html": [
       "<div>\n",
       "<style scoped>\n",
       "    .dataframe tbody tr th:only-of-type {\n",
       "        vertical-align: middle;\n",
       "    }\n",
       "\n",
       "    .dataframe tbody tr th {\n",
       "        vertical-align: top;\n",
       "    }\n",
       "\n",
       "    .dataframe thead th {\n",
       "        text-align: right;\n",
       "    }\n",
       "</style>\n",
       "<table border=\"1\" class=\"dataframe\">\n",
       "  <thead>\n",
       "    <tr style=\"text-align: right;\">\n",
       "      <th></th>\n",
       "      <th>tipo_de_propiedad</th>\n",
       "      <th>habitaciones</th>\n",
       "      <th>banos</th>\n",
       "      <th>superficie</th>\n",
       "      <th>precio</th>\n",
       "    </tr>\n",
       "  </thead>\n",
       "  <tbody>\n",
       "    <tr>\n",
       "      <th>0</th>\n",
       "      <td>Apartamento</td>\n",
       "      <td>3.0</td>\n",
       "      <td>2.0</td>\n",
       "      <td>110.0</td>\n",
       "      <td>460000000.0</td>\n",
       "    </tr>\n",
       "    <tr>\n",
       "      <th>1</th>\n",
       "      <td>Apartamento</td>\n",
       "      <td>3.0</td>\n",
       "      <td>2.0</td>\n",
       "      <td>56.0</td>\n",
       "      <td>170000000.0</td>\n",
       "    </tr>\n",
       "    <tr>\n",
       "      <th>2</th>\n",
       "      <td>Apartamento</td>\n",
       "      <td>2.0</td>\n",
       "      <td>2.0</td>\n",
       "      <td>NaN</td>\n",
       "      <td>240000000.0</td>\n",
       "    </tr>\n",
       "  </tbody>\n",
       "</table>\n",
       "</div>"
      ],
      "text/plain": [
       "  tipo_de_propiedad  habitaciones  banos  superficie       precio\n",
       "0       Apartamento           3.0    2.0       110.0  460000000.0\n",
       "1       Apartamento           3.0    2.0        56.0  170000000.0\n",
       "2       Apartamento           2.0    2.0         NaN  240000000.0"
      ]
     },
     "execution_count": 9,
     "metadata": {},
     "output_type": "execute_result"
    }
   ],
   "source": [
    "data3.drop(index=[216, 222, 458],inplace=True)\n",
    "data3.drop(columns=['unnamed:_0', 'url', 'tipo_de_anuncio'],axis=1,inplace=True)\n",
    "data3.head(3)"
   ]
  },
  {
   "cell_type": "code",
   "execution_count": 10,
   "id": "2527d279-9016-4ed4-a4dc-5ec92e3de6c2",
   "metadata": {},
   "outputs": [
    {
     "data": {
      "text/plain": [
       "{'area_construida', 'banos', 'habitaciones', 'precio', 'tipo'}"
      ]
     },
     "execution_count": 10,
     "metadata": {},
     "output_type": "execute_result"
    }
   ],
   "source": [
    "data3.rename(columns={'tipo_de_propiedad':'tipo','superficie':'area_construida'},inplace=True)\n",
    "set(data1.columns) & set(data2.columns) & set(data3.columns)"
   ]
  },
  {
   "cell_type": "code",
   "execution_count": 11,
   "id": "d2212eba-52a1-4646-85fe-b7a987e2ea55",
   "metadata": {},
   "outputs": [
    {
     "data": {
      "text/plain": [
       "(813, 5)"
      ]
     },
     "execution_count": 11,
     "metadata": {},
     "output_type": "execute_result"
    }
   ],
   "source": [
    "data= pd.concat([data1,data2,data3],join='inner',ignore_index=True)\n",
    "data.shape"
   ]
  },
  {
   "cell_type": "code",
   "execution_count": 12,
   "id": "7aa3530b-4517-4580-a74e-4e8b899abf45",
   "metadata": {},
   "outputs": [],
   "source": [
    "data.drop_duplicates(inplace=True)"
   ]
  },
  {
   "cell_type": "code",
   "execution_count": 16,
   "id": "77e4d85e-1189-4b76-ba4e-b053babb7ceb",
   "metadata": {},
   "outputs": [],
   "source": [
    "data.to_csv(\"datasetclean.scv\",index=False ,sep=\";\")"
   ]
  },
  {
   "cell_type": "code",
   "execution_count": 17,
   "id": "4102a3d7-14c7-4417-8745-bbcb4f74d2ef",
   "metadata": {},
   "outputs": [
    {
     "data": {
      "text/html": [
       "<div>\n",
       "<style scoped>\n",
       "    .dataframe tbody tr th:only-of-type {\n",
       "        vertical-align: middle;\n",
       "    }\n",
       "\n",
       "    .dataframe tbody tr th {\n",
       "        vertical-align: top;\n",
       "    }\n",
       "\n",
       "    .dataframe thead th {\n",
       "        text-align: right;\n",
       "    }\n",
       "</style>\n",
       "<table border=\"1\" class=\"dataframe\">\n",
       "  <thead>\n",
       "    <tr style=\"text-align: right;\">\n",
       "      <th></th>\n",
       "      <th>habitaciones</th>\n",
       "      <th>banos</th>\n",
       "      <th>area_construida</th>\n",
       "      <th>precio</th>\n",
       "      <th>tipo</th>\n",
       "    </tr>\n",
       "  </thead>\n",
       "  <tbody>\n",
       "    <tr>\n",
       "      <th>0</th>\n",
       "      <td>5.0</td>\n",
       "      <td>3.0</td>\n",
       "      <td>386.0</td>\n",
       "      <td>1.200000e+09</td>\n",
       "      <td>Casa</td>\n",
       "    </tr>\n",
       "    <tr>\n",
       "      <th>1</th>\n",
       "      <td>5.0</td>\n",
       "      <td>4.0</td>\n",
       "      <td>210.0</td>\n",
       "      <td>8.000000e+08</td>\n",
       "      <td>Casa</td>\n",
       "    </tr>\n",
       "    <tr>\n",
       "      <th>2</th>\n",
       "      <td>3.0</td>\n",
       "      <td>3.0</td>\n",
       "      <td>146.0</td>\n",
       "      <td>3.500000e+08</td>\n",
       "      <td>Casa</td>\n",
       "    </tr>\n",
       "    <tr>\n",
       "      <th>3</th>\n",
       "      <td>5.0</td>\n",
       "      <td>5.0</td>\n",
       "      <td>480.0</td>\n",
       "      <td>2.000000e+09</td>\n",
       "      <td>Casa</td>\n",
       "    </tr>\n",
       "    <tr>\n",
       "      <th>4</th>\n",
       "      <td>5.0</td>\n",
       "      <td>5.0</td>\n",
       "      <td>420.0</td>\n",
       "      <td>1.100000e+09</td>\n",
       "      <td>Casa</td>\n",
       "    </tr>\n",
       "  </tbody>\n",
       "</table>\n",
       "</div>"
      ],
      "text/plain": [
       "   habitaciones  banos  area_construida        precio  tipo\n",
       "0           5.0    3.0            386.0  1.200000e+09  Casa\n",
       "1           5.0    4.0            210.0  8.000000e+08  Casa\n",
       "2           3.0    3.0            146.0  3.500000e+08  Casa\n",
       "3           5.0    5.0            480.0  2.000000e+09  Casa\n",
       "4           5.0    5.0            420.0  1.100000e+09  Casa"
      ]
     },
     "execution_count": 17,
     "metadata": {},
     "output_type": "execute_result"
    }
   ],
   "source": [
    "data.head()"
   ]
  },
  {
   "cell_type": "code",
   "execution_count": 9,
   "id": "fc9bd7b5-8866-494b-af91-b14711225edf",
   "metadata": {},
   "outputs": [
    {
     "data": {
      "text/html": [
       "<div>\n",
       "<style scoped>\n",
       "    .dataframe tbody tr th:only-of-type {\n",
       "        vertical-align: middle;\n",
       "    }\n",
       "\n",
       "    .dataframe tbody tr th {\n",
       "        vertical-align: top;\n",
       "    }\n",
       "\n",
       "    .dataframe thead th {\n",
       "        text-align: right;\n",
       "    }\n",
       "</style>\n",
       "<table border=\"1\" class=\"dataframe\">\n",
       "  <thead>\n",
       "    <tr style=\"text-align: right;\">\n",
       "      <th></th>\n",
       "      <th>habitaciones</th>\n",
       "      <th>banos</th>\n",
       "      <th>area_construida</th>\n",
       "      <th>precio</th>\n",
       "    </tr>\n",
       "  </thead>\n",
       "  <tbody>\n",
       "    <tr>\n",
       "      <th>count</th>\n",
       "      <td>806.000000</td>\n",
       "      <td>808.000000</td>\n",
       "      <td>803.000000</td>\n",
       "      <td>8.120000e+02</td>\n",
       "    </tr>\n",
       "    <tr>\n",
       "      <th>mean</th>\n",
       "      <td>3.096774</td>\n",
       "      <td>2.444307</td>\n",
       "      <td>118.737208</td>\n",
       "      <td>6.839466e+08</td>\n",
       "    </tr>\n",
       "    <tr>\n",
       "      <th>std</th>\n",
       "      <td>1.057626</td>\n",
       "      <td>1.049868</td>\n",
       "      <td>101.911872</td>\n",
       "      <td>8.766602e+09</td>\n",
       "    </tr>\n",
       "    <tr>\n",
       "      <th>min</th>\n",
       "      <td>1.000000</td>\n",
       "      <td>1.000000</td>\n",
       "      <td>3.158000</td>\n",
       "      <td>9.000000e+07</td>\n",
       "    </tr>\n",
       "    <tr>\n",
       "      <th>25%</th>\n",
       "      <td>3.000000</td>\n",
       "      <td>2.000000</td>\n",
       "      <td>62.000000</td>\n",
       "      <td>2.107500e+08</td>\n",
       "    </tr>\n",
       "    <tr>\n",
       "      <th>50%</th>\n",
       "      <td>3.000000</td>\n",
       "      <td>2.000000</td>\n",
       "      <td>85.000000</td>\n",
       "      <td>2.800000e+08</td>\n",
       "    </tr>\n",
       "    <tr>\n",
       "      <th>75%</th>\n",
       "      <td>3.000000</td>\n",
       "      <td>3.000000</td>\n",
       "      <td>134.000000</td>\n",
       "      <td>4.225000e+08</td>\n",
       "    </tr>\n",
       "    <tr>\n",
       "      <th>max</th>\n",
       "      <td>9.000000</td>\n",
       "      <td>8.000000</td>\n",
       "      <td>864.000000</td>\n",
       "      <td>2.500000e+11</td>\n",
       "    </tr>\n",
       "  </tbody>\n",
       "</table>\n",
       "</div>"
      ],
      "text/plain": [
       "       habitaciones       banos  area_construida        precio\n",
       "count    806.000000  808.000000       803.000000  8.120000e+02\n",
       "mean       3.096774    2.444307       118.737208  6.839466e+08\n",
       "std        1.057626    1.049868       101.911872  8.766602e+09\n",
       "min        1.000000    1.000000         3.158000  9.000000e+07\n",
       "25%        3.000000    2.000000        62.000000  2.107500e+08\n",
       "50%        3.000000    2.000000        85.000000  2.800000e+08\n",
       "75%        3.000000    3.000000       134.000000  4.225000e+08\n",
       "max        9.000000    8.000000       864.000000  2.500000e+11"
      ]
     },
     "execution_count": 9,
     "metadata": {},
     "output_type": "execute_result"
    }
   ],
   "source": [
    "data.describe()"
   ]
  },
  {
   "cell_type": "code",
   "execution_count": 25,
   "id": "8c47c7a8-63c8-41e6-8338-cf5e37962ad8",
   "metadata": {
    "scrolled": true
   },
   "outputs": [
    {
     "data": {
      "text/plain": [
       "habitaciones        7\n",
       "banos               5\n",
       "area_construida    10\n",
       "precio              1\n",
       "tipo               11\n",
       "dtype: int64"
      ]
     },
     "execution_count": 25,
     "metadata": {},
     "output_type": "execute_result"
    }
   ],
   "source": [
    "data.isnull().sum()"
   ]
  },
  {
   "cell_type": "code",
   "execution_count": 16,
   "id": "65738b9a-a8a0-4c13-b474-aa2614e03494",
   "metadata": {},
   "outputs": [],
   "source": [
    "data.precio.dropna(inplace=True,ignore_index = True)"
   ]
  },
  {
   "cell_type": "code",
   "execution_count": 20,
   "id": "95a7a666-f152-461a-ab20-99b1c8e54ce0",
   "metadata": {},
   "outputs": [
    {
     "data": {
      "text/plain": [
       "habitaciones       float64\n",
       "banos              float64\n",
       "area_construida    float64\n",
       "precio             float64\n",
       "tipo                object\n",
       "dtype: object"
      ]
     },
     "execution_count": 20,
     "metadata": {},
     "output_type": "execute_result"
    }
   ],
   "source": [
    "data.dtypes"
   ]
  },
  {
   "cell_type": "code",
   "execution_count": null,
   "id": "ba964a7e-c3b6-4f19-aa99-960e3abeee55",
   "metadata": {},
   "outputs": [],
   "source": [
    "temp=data[data.title.str.contains('Black')] ## para buscar similitudes"
   ]
  },
  {
   "cell_type": "code",
   "execution_count": null,
   "id": "7c72fc33-f3a0-46d9-8d6f-48162a9a9725",
   "metadata": {},
   "outputs": [],
   "source": []
  }
 ],
 "metadata": {
  "kernelspec": {
   "display_name": "Python 3 (ipykernel)",
   "language": "python",
   "name": "python3"
  },
  "language_info": {
   "codemirror_mode": {
    "name": "ipython",
    "version": 3
   },
   "file_extension": ".py",
   "mimetype": "text/x-python",
   "name": "python",
   "nbconvert_exporter": "python",
   "pygments_lexer": "ipython3",
   "version": "3.11.5"
  }
 },
 "nbformat": 4,
 "nbformat_minor": 5
}
