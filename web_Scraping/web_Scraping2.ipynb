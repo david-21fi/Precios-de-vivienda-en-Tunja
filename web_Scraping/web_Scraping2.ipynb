{
 "cells": [
  {
   "cell_type": "code",
   "execution_count": 1,
   "id": "0de65047-4c22-4f6b-a7de-d5941321f8ea",
   "metadata": {},
   "outputs": [],
   "source": [
    "from bs4 import BeautifulSoup as bs\n",
    "import random\n",
    "import time\n",
    "\n",
    "import pandas as pd\n",
    "import numpy as np\n",
    "from selenium import webdriver\n",
    "from selenium.webdriver.common.by import By\n",
    "from selenium.webdriver.common.keys import Keys\n",
    "import undetected_chromedriver as uc\n",
    "from selenium.webdriver.support import expected_conditions as EC"
   ]
  },
  {
   "cell_type": "code",
   "execution_count": 2,
   "id": "7a960ec6-496a-4475-954d-1ad6da2640e8",
   "metadata": {},
   "outputs": [],
   "source": [
    "import re"
   ]
  },
  {
   "cell_type": "code",
   "execution_count": 3,
   "id": "cd0ec108-8a23-4511-a74a-711280d1d7a0",
   "metadata": {},
   "outputs": [],
   "source": [
    "browser = uc.Chrome(driver_executable_path='chromedriver-linux64/chromedriver') ## iniciemos el navegador"
   ]
  },
  {
   "cell_type": "markdown",
   "id": "cdddfcf0-186d-4b16-b3dc-87bd43516b3e",
   "metadata": {},
   "source": [
    "## Datos de metro cuadrado.\n",
    "(\"pagina\")[\"https://www.metrocuadrado.com/apartamento-casa/venta/tunja/?search=form\"]"
   ]
  },
  {
   "cell_type": "code",
   "execution_count": 44,
   "id": "cc81979e-9bbc-46b3-88c9-4d12df288e39",
   "metadata": {},
   "outputs": [],
   "source": [
    "\n",
    "URL = 'https://www.metrocuadrado.com/casa-apartamento/venta/tunja/?search=form'"
   ]
  },
  {
   "cell_type": "code",
   "execution_count": 57,
   "id": "10fe52af-a425-47f3-88af-74b8cb373c5f",
   "metadata": {},
   "outputs": [],
   "source": [
    "browser.get(URL)"
   ]
  },
  {
   "cell_type": "markdown",
   "id": "18fa3685-6f41-4884-860e-0f6bb1076a08",
   "metadata": {},
   "source": [
    "- en caso de obtener crockis"
   ]
  },
  {
   "cell_type": "code",
   "execution_count": null,
   "id": "e0f8a42f-579f-495b-a90d-802c1f8aacfb",
   "metadata": {},
   "outputs": [],
   "source": [
    "#browser.find_element(\"xpath\",'//*[@id=\"didomi-notice-agree-button\"]').click()"
   ]
  },
  {
   "cell_type": "code",
   "execution_count": 58,
   "id": "468847f3-d323-4374-abf9-ad751e9c473e",
   "metadata": {},
   "outputs": [],
   "source": [
    "html = browser.page_source ## sacamos el html de la pagina"
   ]
  },
  {
   "cell_type": "code",
   "execution_count": 59,
   "id": "49613230-1534-4d37-8845-1a851c0572c4",
   "metadata": {},
   "outputs": [],
   "source": [
    "soup = bs(html,\"html\")"
   ]
  },
  {
   "cell_type": "markdown",
   "id": "7204a38a-8de9-4f6f-b4ac-d5858f3963a8",
   "metadata": {},
   "source": [
    "- obtengamos los link de cada casa."
   ]
  },
  {
   "cell_type": "code",
   "execution_count": 41,
   "id": "11284911-d239-4ac7-a67c-56b2992631ae",
   "metadata": {},
   "outputs": [],
   "source": [
    "#pip install pandas urllib3\n",
    "from urllib.parse import quote, unquote"
   ]
  },
  {
   "cell_type": "code",
   "execution_count": 60,
   "id": "4ab89596-1982-4dde-a148-2665f47bfbb3",
   "metadata": {},
   "outputs": [],
   "source": [
    "temp = soup.find(\"div\",{\"class\":\"Col-sc-14ninbu-0 lfGZKA col-md-8 col-lg-9\"}).find('ul',{'class':\"Ul-sctud2-0 jyGHXP realestate-results-list browse-results-list\"}) "
   ]
  },
  {
   "cell_type": "code",
   "execution_count": 61,
   "id": "7ca3cc0d-c993-462d-9113-2277fe985558",
   "metadata": {},
   "outputs": [],
   "source": [
    "urls = [i.find('a',{'class':'sc-bdVaJa ebNrSm'}).get('href') for i in temp]\n",
    "def encode_url(url):\n",
    "    return quote(url, safe=':/?&=')\n",
    "    \n",
    "urls = [encode_url(url) for url in urls]\n",
    "\n",
    "# Crear el DataFrame con las URLs codificadas\n",
    "urls = pd.DataFrame(urls, columns=['encoded_url'])\n",
    "urls.to_csv('urls_metro_cuadrado4.csv', index=False)"
   ]
  },
  {
   "cell_type": "code",
   "execution_count": 11,
   "id": "4f958f21-7bc2-4a47-9ecd-d5f08b6dfbd8",
   "metadata": {},
   "outputs": [
    {
     "data": {
      "text/html": [
       "<div>\n",
       "<style scoped>\n",
       "    .dataframe tbody tr th:only-of-type {\n",
       "        vertical-align: middle;\n",
       "    }\n",
       "\n",
       "    .dataframe tbody tr th {\n",
       "        vertical-align: top;\n",
       "    }\n",
       "\n",
       "    .dataframe thead th {\n",
       "        text-align: right;\n",
       "    }\n",
       "</style>\n",
       "<table border=\"1\" class=\"dataframe\">\n",
       "  <thead>\n",
       "    <tr style=\"text-align: right;\">\n",
       "      <th></th>\n",
       "      <th>encoded_url</th>\n",
       "    </tr>\n",
       "  </thead>\n",
       "  <tbody>\n",
       "    <tr>\n",
       "      <th>0</th>\n",
       "      <td>/inmueble/venta-apartamento-tunja-in-altezza-4...</td>\n",
       "    </tr>\n",
       "    <tr>\n",
       "      <th>1</th>\n",
       "      <td>/inmueble/venta-casa-tunja-urbanizacia%C2%BFn-...</td>\n",
       "    </tr>\n",
       "    <tr>\n",
       "      <th>2</th>\n",
       "      <td>/inmueble/venta-casa-tunja-urapanes-5-habitaci...</td>\n",
       "    </tr>\n",
       "    <tr>\n",
       "      <th>3</th>\n",
       "      <td>/inmueble/venta-apartamento-tunja-mesopotamia-...</td>\n",
       "    </tr>\n",
       "    <tr>\n",
       "      <th>4</th>\n",
       "      <td>/inmueble/venta-apartamento-tunja-alameda-de-u...</td>\n",
       "    </tr>\n",
       "  </tbody>\n",
       "</table>\n",
       "</div>"
      ],
      "text/plain": [
       "                                         encoded_url\n",
       "0  /inmueble/venta-apartamento-tunja-in-altezza-4...\n",
       "1  /inmueble/venta-casa-tunja-urbanizacia%C2%BFn-...\n",
       "2  /inmueble/venta-casa-tunja-urapanes-5-habitaci...\n",
       "3  /inmueble/venta-apartamento-tunja-mesopotamia-...\n",
       "4  /inmueble/venta-apartamento-tunja-alameda-de-u..."
      ]
     },
     "execution_count": 11,
     "metadata": {},
     "output_type": "execute_result"
    }
   ],
   "source": [
    "urls.head()"
   ]
  },
  {
   "cell_type": "code",
   "execution_count": 49,
   "id": "832b636f-ddf4-4786-9a79-293437266cc5",
   "metadata": {},
   "outputs": [
    {
     "data": {
      "text/plain": [
       "array([['/inmueble/venta-apartamento-tunja-centro-3-habitaciones-2-banos-1-garajes/11295-M4019770'],\n",
       "       ['/inmueble/venta-casa-tunja-urbanizacion-el-bosque-4-habitaciones-3-banos-2-garajes/3312-M4645187'],\n",
       "       ['/inmueble/venta-apartamento-tunja-centro-de-tunja-3-habitaciones-2-banos-1-garajes/11295-M4299919']],\n",
       "      dtype=object)"
      ]
     },
     "execution_count": 49,
     "metadata": {},
     "output_type": "execute_result"
    }
   ],
   "source": [
    "urls.iloc[3:6].values"
   ]
  },
  {
   "cell_type": "code",
   "execution_count": 107,
   "id": "0ff9240d-a0cf-4d45-bb77-599e4088bd7d",
   "metadata": {},
   "outputs": [
    {
     "data": {
      "text/plain": [
       "['/inmueble/venta-casa-tunja-frente-al-hotel-hunza-5-habitaciones-3-banos/16742-M4795726',\n",
       " '/inmueble/venta-casa-tunja-condominio-el-lago-5-habitaciones-4-banos-1-garajes/16742-M4795707',\n",
       " '/inmueble/venta-casa-tunja-tejarez-del-norte-3-habitaciones-3-banos-1-garajes/16742-M4795647']"
      ]
     },
     "execution_count": 107,
     "metadata": {},
     "output_type": "execute_result"
    }
   ],
   "source": [
    "urls[:3]"
   ]
  },
  {
   "cell_type": "code",
   "execution_count": 23,
   "id": "c980b74a-f018-4fa5-8448-5535bf98f3fe",
   "metadata": {},
   "outputs": [],
   "source": [
    "##urls.to_csv('urls_metro_cuadrado',index=False)"
   ]
  },
  {
   "cell_type": "markdown",
   "id": "fc5c6500-569e-4aca-b63d-e0ab6c5e4b7e",
   "metadata": {},
   "source": [
    "- obtener los datos de las casas"
   ]
  },
  {
   "cell_type": "code",
   "execution_count": 4,
   "id": "05ad959f-1686-45f9-bdb8-573bc0c910b0",
   "metadata": {},
   "outputs": [],
   "source": [
    "urls = pd.read_csv('faltan.csv')"
   ]
  },
  {
   "cell_type": "code",
   "execution_count": 7,
   "id": "c32f0376-3c9c-4ea5-887b-5cc808705c7a",
   "metadata": {},
   "outputs": [],
   "source": [
    "\n",
    "url = str(urls.iloc[:1].values).strip(\"''[]\")\n",
    "browser.get('https://www.metrocuadrado.com'+url)"
   ]
  },
  {
   "cell_type": "code",
   "execution_count": 27,
   "id": "bf0d2ddb-c140-4259-b50d-cb708b90d709",
   "metadata": {},
   "outputs": [],
   "source": [
    "html = browser.page_source\n",
    "soup = bs(html,'html')"
   ]
  },
  {
   "cell_type": "code",
   "execution_count": 28,
   "id": "ee208492-786f-48ec-ae04-fceb2af2f279",
   "metadata": {},
   "outputs": [],
   "source": [
    "carac = soup.find('div',{\"class\":'d-block d-lg-none card-block'})"
   ]
  },
  {
   "cell_type": "code",
   "execution_count": 31,
   "id": "7b1cfb1c-acb9-473c-b03e-08e2c3ea985c",
   "metadata": {},
   "outputs": [],
   "source": [
    "il=carac.find('ul',{'class':'Ul-sctud2-0 kdIYsW inline-list-grid'})\n",
    "patron = r'\\d+'\n",
    "clave = []\n",
    "valor = []\n",
    "for i in il:\n",
    "    condi = re.findall(patron,i.text)\n",
    "    n = [int(j) for j in condi]\n",
    "    clave.append(i.find('span').text)\n",
    "    valor.append(int(n[0]))"
   ]
  },
  {
   "cell_type": "code",
   "execution_count": 32,
   "id": "bf5003a3-cd61-47ed-84e3-6e2217398de9",
   "metadata": {},
   "outputs": [],
   "source": [
    "patron = r'\\d+'\n",
    "coincidencias = re.findall(patron,carac.find('h2',{'class':'H2-kplljn-0 igCxTv vcenter-text card-text'}).text)\n",
    "area = [int(numero) for numero in coincidencias]\n",
    "\n",
    "a=carac.find('span',{'class':'position-relative'}).text.strip().replace(' ','_')\n",
    "b= int(area[0])\n",
    "clave.append(a)\n",
    "valor.append(b)"
   ]
  },
  {
   "cell_type": "code",
   "execution_count": 33,
   "id": "3183ddaa-ddf4-429c-a39d-ccf45fb29c49",
   "metadata": {},
   "outputs": [
    {
     "data": {
      "text/html": [
       "<div>\n",
       "<style scoped>\n",
       "    .dataframe tbody tr th:only-of-type {\n",
       "        vertical-align: middle;\n",
       "    }\n",
       "\n",
       "    .dataframe tbody tr th {\n",
       "        vertical-align: top;\n",
       "    }\n",
       "\n",
       "    .dataframe thead th {\n",
       "        text-align: right;\n",
       "    }\n",
       "</style>\n",
       "<table border=\"1\" class=\"dataframe\">\n",
       "  <thead>\n",
       "    <tr style=\"text-align: right;\">\n",
       "      <th></th>\n",
       "      <th>Habitaciones</th>\n",
       "      <th>Baños</th>\n",
       "      <th>Estrato</th>\n",
       "      <th>Área_construida</th>\n",
       "    </tr>\n",
       "  </thead>\n",
       "  <tbody>\n",
       "    <tr>\n",
       "      <th>0</th>\n",
       "      <td>5</td>\n",
       "      <td>3</td>\n",
       "      <td>4</td>\n",
       "      <td>386</td>\n",
       "    </tr>\n",
       "  </tbody>\n",
       "</table>\n",
       "</div>"
      ],
      "text/plain": [
       "   Habitaciones  Baños  Estrato  Área_construida\n",
       "0             5      3        4              386"
      ]
     },
     "execution_count": 33,
     "metadata": {},
     "output_type": "execute_result"
    }
   ],
   "source": [
    "pd.DataFrame([valor],columns=clave)"
   ]
  },
  {
   "cell_type": "code",
   "execution_count": 171,
   "id": "be445d24-e13d-43ae-9a5e-c30402a59d21",
   "metadata": {},
   "outputs": [
    {
     "data": {
      "text/plain": [
       "'Área_construida'"
      ]
     },
     "execution_count": 171,
     "metadata": {},
     "output_type": "execute_result"
    }
   ],
   "source": [
    "a"
   ]
  },
  {
   "cell_type": "code",
   "execution_count": 106,
   "id": "62f6e3e3-6350-459d-a7aa-cb9b80e1a811",
   "metadata": {},
   "outputs": [],
   "source": [
    "a=carac.find('h2',{'class':'H2-kplljn-0 igCxTv vcenter-text card-text'})"
   ]
  },
  {
   "cell_type": "code",
   "execution_count": 125,
   "id": "287aa4b0-472c-4929-9801-f585d172b0db",
   "metadata": {},
   "outputs": [
    {
     "data": {
      "text/plain": [
       "['5']"
      ]
     },
     "execution_count": 125,
     "metadata": {},
     "output_type": "execute_result"
    }
   ],
   "source": [
    "coinci = re.findall(patron,carac.find('li',{'class':'Li-sc-1knn373-0 ctJpwh'}).text)\n",
    "coinci"
   ]
  },
  {
   "cell_type": "code",
   "execution_count": 124,
   "id": "e7f5849f-eef5-4f88-bfcc-41595b1a1cfd",
   "metadata": {},
   "outputs": [
    {
     "data": {
      "text/plain": [
       "'Habitaciones'"
      ]
     },
     "execution_count": 124,
     "metadata": {},
     "output_type": "execute_result"
    }
   ],
   "source": [
    "carac.find('li',{'class':'Li-sc-1knn373-0 ctJpwh'}).find('span').text"
   ]
  },
  {
   "cell_type": "code",
   "execution_count": 119,
   "id": "0bb912e0-dbfd-415a-a247-762d4fe9c6a3",
   "metadata": {},
   "outputs": [
    {
     "name": "stdout",
     "output_type": "stream",
     "text": [
      "[386]\n"
     ]
    }
   ],
   "source": [
    "import re\n",
    "\n",
    "# Ejemplo de texto\n",
    "texto = \"Área construida 386 m²\"\n",
    "\n",
    "# Patrón de expresión regular para encontrar números\n",
    "patron = r'\\d+'\n",
    "\n",
    "# Buscar coincidencias en el texto utilizando la expresión regular\n",
    "coincidencias = re.findall(patron, texto)\n",
    "\n",
    "# Convertir la lista de cadenas de texto a números enteros\n",
    "numeros = [int(numero) for numero in coincidencias]\n",
    "\n",
    "# Imprimir el número encontrado\n",
    "print(numeros)"
   ]
  },
  {
   "cell_type": "markdown",
   "id": "e0623a8b-8520-4b69-ae31-98138bdbbbaa",
   "metadata": {},
   "source": [
    "## Automatizacion para 1"
   ]
  },
  {
   "cell_type": "code",
   "execution_count": 71,
   "id": "62dea38e-c0c9-4cbe-8f5e-ace22931e698",
   "metadata": {},
   "outputs": [
    {
     "name": "stdout",
     "output_type": "stream",
     "text": [
      "/inmueble/venta-apartamento-tunja-las-nieves-3-habitaciones-2-banos-1-garajes/10159-M3894838\n"
     ]
    }
   ],
   "source": [
    "print(str(urls.iloc[37].values).strip(\"''[]\"))"
   ]
  },
  {
   "cell_type": "code",
   "execution_count": 5,
   "id": "3f752147-6699-4fab-bc2d-c2ba13ef0397",
   "metadata": {},
   "outputs": [],
   "source": [
    "\n",
    "url = str(urls.iloc[0].values).strip(\"''[]\")\n",
    "browser.get('https://www.metrocuadrado.com'+url)"
   ]
  },
  {
   "cell_type": "code",
   "execution_count": 6,
   "id": "28e4df00-b571-493c-8c98-1c9354fdd7ca",
   "metadata": {},
   "outputs": [],
   "source": [
    "html = browser.page_source\n",
    "soup = bs(html,'html')"
   ]
  },
  {
   "cell_type": "code",
   "execution_count": 7,
   "id": "cfcc690a-e8b0-4a05-adea-2db919b6a34f",
   "metadata": {},
   "outputs": [],
   "source": [
    "carac = soup.find('div',{\"class\":'d-block d-lg-none card-block'})"
   ]
  },
  {
   "cell_type": "code",
   "execution_count": 8,
   "id": "a05b58a5-6b87-4e6e-87ef-ed55391da112",
   "metadata": {},
   "outputs": [],
   "source": [
    "il=carac.find('ul',{'class':'Ul-sctud2-0 kdIYsW inline-list-grid'})\n",
    "patron = r'\\d+'\n",
    "clave = []\n",
    "valor = []\n",
    "for i in il:\n",
    "    condi = re.findall(patron,i.text)\n",
    "    n = [int(j) for j in condi]\n",
    "    clave.append(i.find('span').text)\n",
    "    valor.append(int(n[0]))"
   ]
  },
  {
   "cell_type": "code",
   "execution_count": 9,
   "id": "bdb991c3-6685-41de-8828-484600f217b1",
   "metadata": {},
   "outputs": [
    {
     "data": {
      "text/plain": [
       "([5, 5, 4], ['Habitaciones', 'Baños', 'Estrato'])"
      ]
     },
     "execution_count": 9,
     "metadata": {},
     "output_type": "execute_result"
    }
   ],
   "source": [
    "valor,clave"
   ]
  },
  {
   "cell_type": "code",
   "execution_count": 10,
   "id": "87f41500-7600-45c3-b5c4-f3b2de9d1284",
   "metadata": {},
   "outputs": [],
   "source": [
    "patron = r'\\d+'\n",
    "coincidencias = re.findall(patron,carac.find('h2',{'class':'H2-kplljn-0 igCxTv vcenter-text card-text'}).text)\n",
    "area = [int(numero) for numero in coincidencias]\n",
    "\n",
    "a=carac.find('span',{'class':'position-relative'}).text.strip().replace(' ','_')\n",
    "b= int(area[0])\n",
    "clave.append(a)\n",
    "valor.append(b)"
   ]
  },
  {
   "cell_type": "code",
   "execution_count": 11,
   "id": "cb18c377-2ca1-4ad2-8d24-b0426444a6f1",
   "metadata": {},
   "outputs": [],
   "source": [
    "datosprinc = soup.find('div',{'class':'Card-sc-18qyd5o-0 jYfunq sc-kjoXOD iYSwji sc-cJSrbW KWDfW realstatedata mb-5 sc-cJSrbW KWDfW realstatedata mb-5 card-details card'}).find('div',{'class':'Row-sc-2hg243-0 iUVxfs row'})\n",
    "lista = datosprinc.find_all('h3',{'class':'H3-sc-89yvsz-0 eovJcI active-tooltip card-subtitle'})\n",
    "a = datosprinc.find_all('p',{'class':'card-text'})"
   ]
  },
  {
   "cell_type": "code",
   "execution_count": 12,
   "id": "64eaaf2e-c71a-491e-a0b8-a5cb8621f9b5",
   "metadata": {},
   "outputs": [],
   "source": [
    "for i in lista:\n",
    "    clave.append(i.text)\n",
    "for j in a:\n",
    "    valor.append(j.text)"
   ]
  },
  {
   "cell_type": "code",
   "execution_count": 13,
   "id": "4baa7b56-9c42-410d-b02b-78cf8be7ce19",
   "metadata": {},
   "outputs": [],
   "source": [
    "df= pd.DataFrame([valor],columns=clave)"
   ]
  },
  {
   "cell_type": "code",
   "execution_count": 23,
   "id": "017f5064-f9f0-483a-ab16-f182863a9e9b",
   "metadata": {},
   "outputs": [],
   "source": []
  },
  {
   "cell_type": "code",
   "execution_count": 25,
   "id": "dc1f9bc4-c953-4ef1-9824-54f01b129267",
   "metadata": {},
   "outputs": [
    {
     "data": {
      "text/html": [
       "<div>\n",
       "<style scoped>\n",
       "    .dataframe tbody tr th:only-of-type {\n",
       "        vertical-align: middle;\n",
       "    }\n",
       "\n",
       "    .dataframe tbody tr th {\n",
       "        vertical-align: top;\n",
       "    }\n",
       "\n",
       "    .dataframe thead th {\n",
       "        text-align: right;\n",
       "    }\n",
       "</style>\n",
       "<table border=\"1\" class=\"dataframe\">\n",
       "  <thead>\n",
       "    <tr style=\"text-align: right;\">\n",
       "      <th></th>\n",
       "      <th>Habitaciones</th>\n",
       "      <th>Baños</th>\n",
       "      <th>Estrato</th>\n",
       "      <th>Área_construida</th>\n",
       "      <th>Código inmueble</th>\n",
       "      <th>Barrio común</th>\n",
       "      <th>Precio</th>\n",
       "      <th>Antigüedad</th>\n",
       "      <th>Área construida</th>\n",
       "      <th>Área privada</th>\n",
       "      <th>Valor administración</th>\n",
       "      <th>Parqueaderos</th>\n",
       "    </tr>\n",
       "  </thead>\n",
       "  <tbody>\n",
       "    <tr>\n",
       "      <th>20</th>\n",
       "      <td>4</td>\n",
       "      <td>3</td>\n",
       "      <td>4</td>\n",
       "      <td>130</td>\n",
       "      <td>MC4986469</td>\n",
       "      <td>San Ignacio</td>\n",
       "      <td>$380.000.000</td>\n",
       "      <td>Entre 10 y 20 años</td>\n",
       "      <td>130 m²</td>\n",
       "      <td>127 m²</td>\n",
       "      <td>$320.000</td>\n",
       "      <td>1.0</td>\n",
       "    </tr>\n",
       "    <tr>\n",
       "      <th>21</th>\n",
       "      <td>3</td>\n",
       "      <td>2</td>\n",
       "      <td>3</td>\n",
       "      <td>56</td>\n",
       "      <td>MC4990176</td>\n",
       "      <td>Arboreto</td>\n",
       "      <td>$165.000.000</td>\n",
       "      <td>Entre 5 y 10 años</td>\n",
       "      <td>56 m²</td>\n",
       "      <td>53.5 m²</td>\n",
       "      <td>$95.000</td>\n",
       "      <td>NaN</td>\n",
       "    </tr>\n",
       "    <tr>\n",
       "      <th>22</th>\n",
       "      <td>1</td>\n",
       "      <td>1</td>\n",
       "      <td>3</td>\n",
       "      <td>29</td>\n",
       "      <td>MC4963341</td>\n",
       "      <td>Gaitan</td>\n",
       "      <td>$125.000.000</td>\n",
       "      <td>Entre 10 y 20 años</td>\n",
       "      <td>29 m²</td>\n",
       "      <td>33 m²</td>\n",
       "      <td>$30.000</td>\n",
       "      <td>NaN</td>\n",
       "    </tr>\n",
       "    <tr>\n",
       "      <th>23</th>\n",
       "      <td>3</td>\n",
       "      <td>3</td>\n",
       "      <td>3</td>\n",
       "      <td>99</td>\n",
       "      <td>MC4953938</td>\n",
       "      <td>patriotas</td>\n",
       "      <td>$230.000.000</td>\n",
       "      <td>Remodelado</td>\n",
       "      <td>99.68 m²</td>\n",
       "      <td>67.5 m²</td>\n",
       "      <td>NaN</td>\n",
       "      <td>1.0</td>\n",
       "    </tr>\n",
       "    <tr>\n",
       "      <th>24</th>\n",
       "      <td>5</td>\n",
       "      <td>5</td>\n",
       "      <td>3</td>\n",
       "      <td>645</td>\n",
       "      <td>MC4971150</td>\n",
       "      <td>las Nieves</td>\n",
       "      <td>$206.000.000</td>\n",
       "      <td>Entre 0 y 5 años</td>\n",
       "      <td>645 m²</td>\n",
       "      <td>644 m²</td>\n",
       "      <td>NaN</td>\n",
       "      <td>4.0</td>\n",
       "    </tr>\n",
       "  </tbody>\n",
       "</table>\n",
       "</div>"
      ],
      "text/plain": [
       "    Habitaciones  Baños  Estrato  Área_construida Código inmueble  \\\n",
       "20             4      3        4              130       MC4986469   \n",
       "21             3      2        3               56       MC4990176   \n",
       "22             1      1        3               29       MC4963341   \n",
       "23             3      3        3               99       MC4953938   \n",
       "24             5      5        3              645       MC4971150   \n",
       "\n",
       "    Barrio común        Precio          Antigüedad Área construida  \\\n",
       "20  San Ignacio   $380.000.000  Entre 10 y 20 años          130 m²   \n",
       "21     Arboreto   $165.000.000   Entre 5 y 10 años           56 m²   \n",
       "22        Gaitan  $125.000.000  Entre 10 y 20 años           29 m²   \n",
       "23     patriotas  $230.000.000          Remodelado        99.68 m²   \n",
       "24    las Nieves  $206.000.000    Entre 0 y 5 años          645 m²   \n",
       "\n",
       "   Área privada Valor administración  Parqueaderos  \n",
       "20       127 m²             $320.000           1.0  \n",
       "21      53.5 m²              $95.000           NaN  \n",
       "22        33 m²              $30.000           NaN  \n",
       "23      67.5 m²                  NaN           1.0  \n",
       "24       644 m²                  NaN           4.0  "
      ]
     },
     "execution_count": 25,
     "metadata": {},
     "output_type": "execute_result"
    }
   ],
   "source": [
    "df.tail()"
   ]
  },
  {
   "cell_type": "code",
   "execution_count": 30,
   "id": "5acd67e9-e251-47f9-af9a-9218e4952efb",
   "metadata": {},
   "outputs": [
    {
     "data": {
      "text/plain": [
       "array([['/inmueble/venta-apartamento-tunja-san-ignacio-4-habitaciones-3-banos-1-garajes/MC4986469'],\n",
       "       ['/inmueble/venta-apartamento-tunja-arboreto-3-habitaciones-2-banos/MC4990176'],\n",
       "       ['/inmueble/venta-apartamento-tunja-gaitan-1-habitaciones-1-banos/MC4963341'],\n",
       "       ['/inmueble/venta-casa-tunja-patriotas-3-habitaciones-3-banos-1-garajes/MC4953938'],\n",
       "       ['/inmueble/venta-apartamento-tunja-las-nieves-5-habitaciones-5-banos-4-garajes/MC4971150'],\n",
       "       ['/proyecto/panoramik-club-house-etapa-2/16432-C0001-01']],\n",
       "      dtype=object)"
      ]
     },
     "execution_count": 30,
     "metadata": {},
     "output_type": "execute_result"
    }
   ],
   "source": [
    "urls.iloc[20:26].values"
   ]
  },
  {
   "cell_type": "code",
   "execution_count": 14,
   "id": "cc1bee03-d18e-4863-8786-60e9523caae4",
   "metadata": {},
   "outputs": [],
   "source": [
    "df\n",
    "df1 =df"
   ]
  },
  {
   "cell_type": "code",
   "execution_count": 29,
   "id": "6abdf462-69a9-4469-87c6-af73b96b9aee",
   "metadata": {},
   "outputs": [
    {
     "ename": "AttributeError",
     "evalue": "'NoneType' object has no attribute 'find'",
     "output_type": "error",
     "traceback": [
      "\u001b[0;31m---------------------------------------------------------------------------\u001b[0m",
      "\u001b[0;31mAttributeError\u001b[0m                            Traceback (most recent call last)",
      "Cell \u001b[0;32mIn[29], line 25\u001b[0m\n\u001b[1;32m     23\u001b[0m valor\u001b[38;5;241m.\u001b[39mappend(b)\n\u001b[1;32m     24\u001b[0m time\u001b[38;5;241m.\u001b[39msleep(random\u001b[38;5;241m.\u001b[39mrandint(\u001b[38;5;241m3\u001b[39m,\u001b[38;5;241m5\u001b[39m))\n\u001b[0;32m---> 25\u001b[0m datosprinc \u001b[38;5;241m=\u001b[39m soup\u001b[38;5;241m.\u001b[39mfind(\u001b[38;5;124m'\u001b[39m\u001b[38;5;124mdiv\u001b[39m\u001b[38;5;124m'\u001b[39m,{\u001b[38;5;124m'\u001b[39m\u001b[38;5;124mclass\u001b[39m\u001b[38;5;124m'\u001b[39m:\u001b[38;5;124m'\u001b[39m\u001b[38;5;124mCard-sc-18qyd5o-0 jYfunq sc-kjoXOD iYSwji sc-cJSrbW KWDfW realstatedata mb-5 sc-cJSrbW KWDfW realstatedata mb-5 card-details card\u001b[39m\u001b[38;5;124m'\u001b[39m})\u001b[38;5;241m.\u001b[39mfind(\u001b[38;5;124m'\u001b[39m\u001b[38;5;124mdiv\u001b[39m\u001b[38;5;124m'\u001b[39m,{\u001b[38;5;124m'\u001b[39m\u001b[38;5;124mclass\u001b[39m\u001b[38;5;124m'\u001b[39m:\u001b[38;5;124m'\u001b[39m\u001b[38;5;124mRow-sc-2hg243-0 iUVxfs row\u001b[39m\u001b[38;5;124m'\u001b[39m})\n\u001b[1;32m     26\u001b[0m lista \u001b[38;5;241m=\u001b[39m datosprinc\u001b[38;5;241m.\u001b[39mfind_all(\u001b[38;5;124m'\u001b[39m\u001b[38;5;124mh3\u001b[39m\u001b[38;5;124m'\u001b[39m,{\u001b[38;5;124m'\u001b[39m\u001b[38;5;124mclass\u001b[39m\u001b[38;5;124m'\u001b[39m:\u001b[38;5;124m'\u001b[39m\u001b[38;5;124mH3-sc-89yvsz-0 eovJcI active-tooltip card-subtitle\u001b[39m\u001b[38;5;124m'\u001b[39m})\n\u001b[1;32m     27\u001b[0m a \u001b[38;5;241m=\u001b[39m datosprinc\u001b[38;5;241m.\u001b[39mfind_all(\u001b[38;5;124m'\u001b[39m\u001b[38;5;124mp\u001b[39m\u001b[38;5;124m'\u001b[39m,{\u001b[38;5;124m'\u001b[39m\u001b[38;5;124mclass\u001b[39m\u001b[38;5;124m'\u001b[39m:\u001b[38;5;124m'\u001b[39m\u001b[38;5;124mcard-text\u001b[39m\u001b[38;5;124m'\u001b[39m})\n",
      "\u001b[0;31mAttributeError\u001b[0m: 'NoneType' object has no attribute 'find'"
     ]
    }
   ],
   "source": [
    "for k in range(26,urls.shape[0]+1):\n",
    "    url = str(urls.iloc[k].values).strip(\"''[]\")\n",
    "    browser.get('https://www.metrocuadrado.com'+url)\n",
    "    time.sleep(random.randint(10,12))\n",
    "    html = browser.page_source\n",
    "    soup = bs(html,'html')\n",
    "    carac = soup.find('div',{\"class\":'d-block d-lg-none card-block'})\n",
    "    il=carac.find('ul',{'class':'Ul-sctud2-0 kdIYsW inline-list-grid'})\n",
    "    patron = r'\\d+'\n",
    "    clave = []\n",
    "    valor = []\n",
    "    for i in il:\n",
    "        condi = re.findall(patron,i.text)\n",
    "        n = [int(j) for j in condi]\n",
    "        clave.append(i.find('span').text)\n",
    "        valor.append(int(n[0]))\n",
    "    coincidencias = re.findall(patron,carac.find('h2',{'class':'H2-kplljn-0 igCxTv vcenter-text card-text'}).text)\n",
    "    area = [int(numero) for numero in coincidencias]\n",
    "\n",
    "    a=carac.find('span',{'class':'position-relative'}).text.strip().replace(' ','_')\n",
    "    b= int(area[0])\n",
    "    clave.append(a)\n",
    "    valor.append(b)\n",
    "    time.sleep(random.randint(3,5))\n",
    "    datosprinc = soup.find('div',{'class':'Card-sc-18qyd5o-0 jYfunq sc-kjoXOD iYSwji sc-cJSrbW KWDfW realstatedata mb-5 sc-cJSrbW KWDfW realstatedata mb-5 card-details card'}).find('div',{'class':'Row-sc-2hg243-0 iUVxfs row'})\n",
    "    lista = datosprinc.find_all('h3',{'class':'H3-sc-89yvsz-0 eovJcI active-tooltip card-subtitle'})\n",
    "    a = datosprinc.find_all('p',{'class':'card-text'})\n",
    "    for i in lista:\n",
    "        clave.append(i.text)\n",
    "    for j in a:\n",
    "        valor.append(j.text)\n",
    "    tem=pd.DataFrame([valor],columns=clave)\n",
    "    df1 = pd.concat([df1,tem],axis=0)"
   ]
  },
  {
   "cell_type": "code",
   "execution_count": 25,
   "id": "71aec08b-6c5c-4216-86e9-a3a5e4e34024",
   "metadata": {},
   "outputs": [],
   "source": [
    "df1.to_csv('df6.csv',index=False)"
   ]
  },
  {
   "cell_type": "code",
   "execution_count": null,
   "id": "1c7b9ff3-cfde-442d-a3e6-d2a85f045290",
   "metadata": {},
   "outputs": [],
   "source": []
  }
 ],
 "metadata": {
  "kernelspec": {
   "display_name": "Python 3 (ipykernel)",
   "language": "python",
   "name": "python3"
  },
  "language_info": {
   "codemirror_mode": {
    "name": "ipython",
    "version": 3
   },
   "file_extension": ".py",
   "mimetype": "text/x-python",
   "name": "python",
   "nbconvert_exporter": "python",
   "pygments_lexer": "ipython3",
   "version": "3.11.5"
  }
 },
 "nbformat": 4,
 "nbformat_minor": 5
}
