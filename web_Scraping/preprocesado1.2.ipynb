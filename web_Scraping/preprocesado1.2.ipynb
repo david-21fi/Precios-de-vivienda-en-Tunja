{
 "cells": [
  {
   "cell_type": "code",
   "execution_count": 2,
   "id": "0c604870-27de-4c33-9e3b-fc2437abd241",
   "metadata": {},
   "outputs": [],
   "source": [
    "import pandas as pd\n",
    "import numpy as np\n",
    "import matplotlib.pyplot as plt\n",
    "import seaborn as sns"
   ]
  },
  {
   "cell_type": "code",
   "execution_count": 3,
   "id": "7211bc94-ae1e-417f-a479-22a8e874a919",
   "metadata": {},
   "outputs": [],
   "source": [
    "data = pd.read_csv('data_meatro_cuadrado.csv')"
   ]
  },
  {
   "cell_type": "code",
   "execution_count": 4,
   "id": "357eaa31-61b2-46ff-a408-4b8a723279fc",
   "metadata": {},
   "outputs": [
    {
     "name": "stdout",
     "output_type": "stream",
     "text": [
      "<class 'pandas.core.frame.DataFrame'>\n",
      "RangeIndex: 220 entries, 0 to 219\n",
      "Data columns (total 12 columns):\n",
      " #   Column                Non-Null Count  Dtype  \n",
      "---  ------                --------------  -----  \n",
      " 0   Habitaciones          220 non-null    int64  \n",
      " 1   Baños                 220 non-null    int64  \n",
      " 2   Estrato               220 non-null    int64  \n",
      " 3   Área_construida       220 non-null    int64  \n",
      " 4   Código inmueble       220 non-null    object \n",
      " 5   Barrio común          218 non-null    object \n",
      " 6   Precio                220 non-null    object \n",
      " 7   Antigüedad            220 non-null    object \n",
      " 8   Área construida       220 non-null    object \n",
      " 9   Área privada          220 non-null    object \n",
      " 10  Valor administración  113 non-null    object \n",
      " 11  Parqueaderos          176 non-null    float64\n",
      "dtypes: float64(1), int64(4), object(7)\n",
      "memory usage: 20.8+ KB\n"
     ]
    }
   ],
   "source": [
    "data.info()"
   ]
  },
  {
   "cell_type": "code",
   "execution_count": 83,
   "id": "3bcd760e-de9d-49e7-b38b-5cb44093d4a7",
   "metadata": {},
   "outputs": [
    {
     "data": {
      "text/plain": [
       "Habitaciones              5\n",
       "Baños                     5\n",
       "Estrato                   6\n",
       "Área_construida         126\n",
       "Código inmueble         220\n",
       "Barrio común            128\n",
       "Precio                  103\n",
       "Antigüedad                5\n",
       "Área construida         149\n",
       "Área privada            145\n",
       "Valor administración     78\n",
       "Parqueaderos              4\n",
       "dtype: int64"
      ]
     },
     "execution_count": 83,
     "metadata": {},
     "output_type": "execute_result"
    }
   ],
   "source": [
    "data.nunique()"
   ]
  },
  {
   "cell_type": "code",
   "execution_count": 84,
   "id": "b2d2525b-cbe5-4c6a-8d9c-1aa9efc636b0",
   "metadata": {},
   "outputs": [
    {
     "data": {
      "text/plain": [
       "array([4, 5, 3, 2, 6, 1])"
      ]
     },
     "execution_count": 84,
     "metadata": {},
     "output_type": "execute_result"
    }
   ],
   "source": [
    "data['Estrato'].unique()"
   ]
  },
  {
   "cell_type": "code",
   "execution_count": 85,
   "id": "95f7c14d-0b46-440f-9b4b-ce67648397ac",
   "metadata": {},
   "outputs": [
    {
     "data": {
      "text/plain": [
       "Estrato\n",
       "3    79\n",
       "5    67\n",
       "4    58\n",
       "2     9\n",
       "6     4\n",
       "1     3\n",
       "Name: count, dtype: int64"
      ]
     },
     "execution_count": 85,
     "metadata": {},
     "output_type": "execute_result"
    }
   ],
   "source": [
    "data['Estrato'].value_counts()"
   ]
  },
  {
   "cell_type": "code",
   "execution_count": 2,
   "id": "ca383275-9ab6-4bb8-907c-118ad1f82e38",
   "metadata": {},
   "outputs": [],
   "source": [
    "df = pd.read_csv('urls_metro_cuadrado.csv')\n",
    "path = 'urls_metro_cuadrado'\n",
    "for i in range(2,6):\n",
    "    tem = pd.read_csv(path+str(i)+'.csv')\n",
    "    df = pd.concat([df,tem],ignore_index=True)\n"
   ]
  },
  {
   "cell_type": "code",
   "execution_count": 3,
   "id": "99c310cb-44b0-46b7-9ef9-569b14606f45",
   "metadata": {},
   "outputs": [
    {
     "name": "stdout",
     "output_type": "stream",
     "text": [
      "<class 'pandas.core.frame.DataFrame'>\n",
      "RangeIndex: 244 entries, 0 to 243\n",
      "Data columns (total 1 columns):\n",
      " #   Column       Non-Null Count  Dtype \n",
      "---  ------       --------------  ----- \n",
      " 0   encoded_url  244 non-null    object\n",
      "dtypes: object(1)\n",
      "memory usage: 2.0+ KB\n"
     ]
    }
   ],
   "source": [
    "df.info()"
   ]
  },
  {
   "cell_type": "code",
   "execution_count": 5,
   "id": "8b072a83-4410-423a-8a3b-7024089c3562",
   "metadata": {},
   "outputs": [
    {
     "data": {
      "text/html": [
       "<div>\n",
       "<style scoped>\n",
       "    .dataframe tbody tr th:only-of-type {\n",
       "        vertical-align: middle;\n",
       "    }\n",
       "\n",
       "    .dataframe tbody tr th {\n",
       "        vertical-align: top;\n",
       "    }\n",
       "\n",
       "    .dataframe thead th {\n",
       "        text-align: right;\n",
       "    }\n",
       "</style>\n",
       "<table border=\"1\" class=\"dataframe\">\n",
       "  <thead>\n",
       "    <tr style=\"text-align: right;\">\n",
       "      <th></th>\n",
       "      <th>encoded_url</th>\n",
       "    </tr>\n",
       "  </thead>\n",
       "  <tbody>\n",
       "    <tr>\n",
       "      <th>0</th>\n",
       "      <td>/inmueble/venta-casa-tunja-frente-al-hotel-hun...</td>\n",
       "    </tr>\n",
       "    <tr>\n",
       "      <th>1</th>\n",
       "      <td>/inmueble/venta-casa-tunja-condominio-el-lago-...</td>\n",
       "    </tr>\n",
       "    <tr>\n",
       "      <th>2</th>\n",
       "      <td>/inmueble/venta-casa-tunja-tejarez-del-norte-3...</td>\n",
       "    </tr>\n",
       "    <tr>\n",
       "      <th>3</th>\n",
       "      <td>/inmueble/venta-casa-tunja-condominio-campestr...</td>\n",
       "    </tr>\n",
       "    <tr>\n",
       "      <th>4</th>\n",
       "      <td>/inmueble/venta-casa-tunja-la-maria-5-habitaci...</td>\n",
       "    </tr>\n",
       "    <tr>\n",
       "      <th>5</th>\n",
       "      <td>/inmueble/venta-casa-tunja-condominio-las-acac...</td>\n",
       "    </tr>\n",
       "    <tr>\n",
       "      <th>6</th>\n",
       "      <td>/inmueble/venta-apartamento-tunja-maria-fernan...</td>\n",
       "    </tr>\n",
       "    <tr>\n",
       "      <th>7</th>\n",
       "      <td>/inmueble/venta-casa-tunja-bola%C2%8Dvar-5-hab...</td>\n",
       "    </tr>\n",
       "    <tr>\n",
       "      <th>8</th>\n",
       "      <td>/inmueble/venta-casa-tunja-josa%C2%BF-antonio-...</td>\n",
       "    </tr>\n",
       "    <tr>\n",
       "      <th>9</th>\n",
       "      <td>/inmueble/venta-apartamento-tunja-gran-reserva...</td>\n",
       "    </tr>\n",
       "  </tbody>\n",
       "</table>\n",
       "</div>"
      ],
      "text/plain": [
       "                                         encoded_url\n",
       "0  /inmueble/venta-casa-tunja-frente-al-hotel-hun...\n",
       "1  /inmueble/venta-casa-tunja-condominio-el-lago-...\n",
       "2  /inmueble/venta-casa-tunja-tejarez-del-norte-3...\n",
       "3  /inmueble/venta-casa-tunja-condominio-campestr...\n",
       "4  /inmueble/venta-casa-tunja-la-maria-5-habitaci...\n",
       "5  /inmueble/venta-casa-tunja-condominio-las-acac...\n",
       "6  /inmueble/venta-apartamento-tunja-maria-fernan...\n",
       "7  /inmueble/venta-casa-tunja-bola%C2%8Dvar-5-hab...\n",
       "8  /inmueble/venta-casa-tunja-josa%C2%BF-antonio-...\n",
       "9  /inmueble/venta-apartamento-tunja-gran-reserva..."
      ]
     },
     "execution_count": 5,
     "metadata": {},
     "output_type": "execute_result"
    }
   ],
   "source": [
    "df.head(10)"
   ]
  },
  {
   "cell_type": "code",
   "execution_count": 6,
   "id": "cf27c20d-611a-405e-b6a5-3b288dd42dc2",
   "metadata": {},
   "outputs": [],
   "source": [
    "def filtro(url):\n",
    "    if 'venta-casa' in url:\n",
    "        return 'venta_casa'\n",
    "    elif 'venta-apartamento' in url:\n",
    "        return 'venta_apartamento'"
   ]
  },
  {
   "cell_type": "code",
   "execution_count": 7,
   "id": "22f878bc-0fd8-44e7-b3f0-72824d8e6a25",
   "metadata": {},
   "outputs": [],
   "source": [
    "df['estado']= df['encoded_url'].apply(filtro)"
   ]
  },
  {
   "cell_type": "code",
   "execution_count": 15,
   "id": "d5268470-6351-42f2-87e2-52160c99fb20",
   "metadata": {},
   "outputs": [
    {
     "data": {
      "text/html": [
       "<div>\n",
       "<style scoped>\n",
       "    .dataframe tbody tr th:only-of-type {\n",
       "        vertical-align: middle;\n",
       "    }\n",
       "\n",
       "    .dataframe tbody tr th {\n",
       "        vertical-align: top;\n",
       "    }\n",
       "\n",
       "    .dataframe thead th {\n",
       "        text-align: right;\n",
       "    }\n",
       "</style>\n",
       "<table border=\"1\" class=\"dataframe\">\n",
       "  <thead>\n",
       "    <tr style=\"text-align: right;\">\n",
       "      <th></th>\n",
       "      <th>encoded_url</th>\n",
       "      <th>estado</th>\n",
       "    </tr>\n",
       "  </thead>\n",
       "  <tbody>\n",
       "    <tr>\n",
       "      <th>0</th>\n",
       "      <td>/inmueble/venta-casa-tunja-frente-al-hotel-hun...</td>\n",
       "      <td>venta_casa</td>\n",
       "    </tr>\n",
       "    <tr>\n",
       "      <th>1</th>\n",
       "      <td>/inmueble/venta-casa-tunja-condominio-el-lago-...</td>\n",
       "      <td>venta_casa</td>\n",
       "    </tr>\n",
       "    <tr>\n",
       "      <th>2</th>\n",
       "      <td>/inmueble/venta-casa-tunja-tejarez-del-norte-3...</td>\n",
       "      <td>venta_casa</td>\n",
       "    </tr>\n",
       "    <tr>\n",
       "      <th>3</th>\n",
       "      <td>/inmueble/venta-casa-tunja-condominio-campestr...</td>\n",
       "      <td>venta_casa</td>\n",
       "    </tr>\n",
       "    <tr>\n",
       "      <th>4</th>\n",
       "      <td>/inmueble/venta-casa-tunja-la-maria-5-habitaci...</td>\n",
       "      <td>venta_casa</td>\n",
       "    </tr>\n",
       "  </tbody>\n",
       "</table>\n",
       "</div>"
      ],
      "text/plain": [
       "                                         encoded_url      estado\n",
       "0  /inmueble/venta-casa-tunja-frente-al-hotel-hun...  venta_casa\n",
       "1  /inmueble/venta-casa-tunja-condominio-el-lago-...  venta_casa\n",
       "2  /inmueble/venta-casa-tunja-tejarez-del-norte-3...  venta_casa\n",
       "3  /inmueble/venta-casa-tunja-condominio-campestr...  venta_casa\n",
       "4  /inmueble/venta-casa-tunja-la-maria-5-habitaci...  venta_casa"
      ]
     },
     "execution_count": 15,
     "metadata": {},
     "output_type": "execute_result"
    }
   ],
   "source": [
    "df.head()"
   ]
  },
  {
   "cell_type": "code",
   "execution_count": 11,
   "id": "e6c6ed70-a9a5-4241-b62d-6dff96197323",
   "metadata": {},
   "outputs": [],
   "source": [
    "df1 = pd.read_csv('urls_metro_cuadrado.csv',sep='/')\n",
    "path = 'urls_metro_cuadrado'\n",
    "for i in range(2,6):\n",
    "    tem = pd.read_csv(path+str(i)+'.csv',sep='/')\n",
    "    df1 = pd.concat([df1,tem],ignore_index=True)\n"
   ]
  },
  {
   "cell_type": "code",
   "execution_count": 12,
   "id": "073ceba8-b19c-4891-9d16-2a8cccefdf19",
   "metadata": {},
   "outputs": [
    {
     "data": {
      "text/html": [
       "<div>\n",
       "<style scoped>\n",
       "    .dataframe tbody tr th:only-of-type {\n",
       "        vertical-align: middle;\n",
       "    }\n",
       "\n",
       "    .dataframe tbody tr th {\n",
       "        vertical-align: top;\n",
       "    }\n",
       "\n",
       "    .dataframe thead th {\n",
       "        text-align: right;\n",
       "    }\n",
       "</style>\n",
       "<table border=\"1\" class=\"dataframe\">\n",
       "  <thead>\n",
       "    <tr style=\"text-align: right;\">\n",
       "      <th></th>\n",
       "      <th>encoded_url</th>\n",
       "    </tr>\n",
       "  </thead>\n",
       "  <tbody>\n",
       "    <tr>\n",
       "      <th>0</th>\n",
       "      <td>16742-M4795726</td>\n",
       "    </tr>\n",
       "    <tr>\n",
       "      <th>1</th>\n",
       "      <td>16742-M4795707</td>\n",
       "    </tr>\n",
       "    <tr>\n",
       "      <th>2</th>\n",
       "      <td>16742-M4795647</td>\n",
       "    </tr>\n",
       "    <tr>\n",
       "      <th>3</th>\n",
       "      <td>13873-M3706524</td>\n",
       "    </tr>\n",
       "    <tr>\n",
       "      <th>4</th>\n",
       "      <td>16742-M4796230</td>\n",
       "    </tr>\n",
       "  </tbody>\n",
       "</table>\n",
       "</div>"
      ],
      "text/plain": [
       "      encoded_url\n",
       "0  16742-M4795726\n",
       "1  16742-M4795707\n",
       "2  16742-M4795647\n",
       "3  13873-M3706524\n",
       "4  16742-M4796230"
      ]
     },
     "execution_count": 12,
     "metadata": {},
     "output_type": "execute_result"
    }
   ],
   "source": [
    "df1.head()"
   ]
  },
  {
   "cell_type": "code",
   "execution_count": 13,
   "id": "f4d95b5f-0161-44fe-bde7-65b96558d8e7",
   "metadata": {},
   "outputs": [
    {
     "data": {
      "text/plain": [
       "True"
      ]
     },
     "execution_count": 13,
     "metadata": {},
     "output_type": "execute_result"
    }
   ],
   "source": [
    "df.shape[0] == df1.shape[0]"
   ]
  },
  {
   "cell_type": "code",
   "execution_count": 19,
   "id": "45e7f383-0d3f-449b-a640-20b4277814f5",
   "metadata": {},
   "outputs": [
    {
     "data": {
      "text/html": [
       "<div>\n",
       "<style scoped>\n",
       "    .dataframe tbody tr th:only-of-type {\n",
       "        vertical-align: middle;\n",
       "    }\n",
       "\n",
       "    .dataframe tbody tr th {\n",
       "        vertical-align: top;\n",
       "    }\n",
       "\n",
       "    .dataframe thead th {\n",
       "        text-align: right;\n",
       "    }\n",
       "</style>\n",
       "<table border=\"1\" class=\"dataframe\">\n",
       "  <thead>\n",
       "    <tr style=\"text-align: right;\">\n",
       "      <th></th>\n",
       "      <th>encoded_url</th>\n",
       "      <th>estado</th>\n",
       "    </tr>\n",
       "  </thead>\n",
       "  <tbody>\n",
       "    <tr>\n",
       "      <th>0</th>\n",
       "      <td>16742-M4795726</td>\n",
       "      <td>venta_casa</td>\n",
       "    </tr>\n",
       "    <tr>\n",
       "      <th>1</th>\n",
       "      <td>16742-M4795707</td>\n",
       "      <td>venta_casa</td>\n",
       "    </tr>\n",
       "    <tr>\n",
       "      <th>2</th>\n",
       "      <td>16742-M4795647</td>\n",
       "      <td>venta_casa</td>\n",
       "    </tr>\n",
       "    <tr>\n",
       "      <th>3</th>\n",
       "      <td>13873-M3706524</td>\n",
       "      <td>venta_casa</td>\n",
       "    </tr>\n",
       "    <tr>\n",
       "      <th>4</th>\n",
       "      <td>16742-M4796230</td>\n",
       "      <td>venta_casa</td>\n",
       "    </tr>\n",
       "  </tbody>\n",
       "</table>\n",
       "</div>"
      ],
      "text/plain": [
       "      encoded_url      estado\n",
       "0  16742-M4795726  venta_casa\n",
       "1  16742-M4795707  venta_casa\n",
       "2  16742-M4795647  venta_casa\n",
       "3  13873-M3706524  venta_casa\n",
       "4  16742-M4796230  venta_casa"
      ]
     },
     "execution_count": 19,
     "metadata": {},
     "output_type": "execute_result"
    }
   ],
   "source": [
    "df1['estado']= df['estado']\n",
    "df1.head()"
   ]
  },
  {
   "cell_type": "code",
   "execution_count": 21,
   "id": "433c42c8-051b-4f3d-bae0-7bc86668dc2d",
   "metadata": {},
   "outputs": [],
   "source": [
    "data['estado'] = np.NaN"
   ]
  },
  {
   "cell_type": "code",
   "execution_count": 33,
   "id": "cf1ebb69-4eae-450b-89a8-6316a62a65fc",
   "metadata": {},
   "outputs": [],
   "source": [
    "lista_index = []\n",
    "inner = 0\n",
    "for i in df1['encoded_url']:\n",
    "    if i in data['Código inmueble'].values:\n",
    "        index= data[data['Código inmueble']==i].index\n",
    "        new=df1[df1['encoded_url']==i]['estado'].values[0]\n",
    "        data.loc[index,'estado']= new\n",
    "    else:\n",
    "        inner +=1\n",
    "        "
   ]
  },
  {
   "cell_type": "code",
   "execution_count": 32,
   "id": "5b8812c5-1923-42be-8686-e2cb03e39f26",
   "metadata": {},
   "outputs": [
    {
     "data": {
      "text/plain": [
       "(Index([20], dtype='int64'),\n",
       " array(['venta_apartamento', 'venta_apartamento'], dtype=object))"
      ]
     },
     "execution_count": 32,
     "metadata": {},
     "output_type": "execute_result"
    }
   ],
   "source": [
    "index,new"
   ]
  },
  {
   "cell_type": "code",
   "execution_count": 25,
   "id": "997e0e90-6661-4958-9799-d0fccc7a7156",
   "metadata": {},
   "outputs": [
    {
     "data": {
      "text/plain": [
       "array(['venta_casa'], dtype=object)"
      ]
     },
     "execution_count": 25,
     "metadata": {},
     "output_type": "execute_result"
    }
   ],
   "source": [
    "df1[df1['encoded_url']=='16742-M4795707']['estado'].values"
   ]
  },
  {
   "cell_type": "code",
   "execution_count": 35,
   "id": "119fe8a7-d002-40a0-8e3b-ca19af1bd45a",
   "metadata": {},
   "outputs": [
    {
     "data": {
      "text/html": [
       "<div>\n",
       "<style scoped>\n",
       "    .dataframe tbody tr th:only-of-type {\n",
       "        vertical-align: middle;\n",
       "    }\n",
       "\n",
       "    .dataframe tbody tr th {\n",
       "        vertical-align: top;\n",
       "    }\n",
       "\n",
       "    .dataframe thead th {\n",
       "        text-align: right;\n",
       "    }\n",
       "</style>\n",
       "<table border=\"1\" class=\"dataframe\">\n",
       "  <thead>\n",
       "    <tr style=\"text-align: right;\">\n",
       "      <th></th>\n",
       "      <th>Habitaciones</th>\n",
       "      <th>Baños</th>\n",
       "      <th>Estrato</th>\n",
       "      <th>Área_construida</th>\n",
       "      <th>Código inmueble</th>\n",
       "      <th>Barrio común</th>\n",
       "      <th>Precio</th>\n",
       "      <th>Antigüedad</th>\n",
       "      <th>Área construida</th>\n",
       "      <th>Área privada</th>\n",
       "      <th>Valor administración</th>\n",
       "      <th>Parqueaderos</th>\n",
       "      <th>estado</th>\n",
       "    </tr>\n",
       "  </thead>\n",
       "  <tbody>\n",
       "    <tr>\n",
       "      <th>215</th>\n",
       "      <td>3</td>\n",
       "      <td>3</td>\n",
       "      <td>5</td>\n",
       "      <td>138</td>\n",
       "      <td>MC4954891</td>\n",
       "      <td>Arboleda</td>\n",
       "      <td>$570.000.000</td>\n",
       "      <td>Entre 5 y 10 años</td>\n",
       "      <td>138.2 m²</td>\n",
       "      <td>154 m²</td>\n",
       "      <td>$358.000</td>\n",
       "      <td>2.0</td>\n",
       "      <td>venta_casa</td>\n",
       "    </tr>\n",
       "    <tr>\n",
       "      <th>216</th>\n",
       "      <td>4</td>\n",
       "      <td>3</td>\n",
       "      <td>4</td>\n",
       "      <td>130</td>\n",
       "      <td>MC4986469</td>\n",
       "      <td>San Ignacio</td>\n",
       "      <td>$380.000.000</td>\n",
       "      <td>Entre 10 y 20 años</td>\n",
       "      <td>130 m²</td>\n",
       "      <td>127 m²</td>\n",
       "      <td>$320.000</td>\n",
       "      <td>1.0</td>\n",
       "      <td>venta_apartamento</td>\n",
       "    </tr>\n",
       "    <tr>\n",
       "      <th>217</th>\n",
       "      <td>3</td>\n",
       "      <td>2</td>\n",
       "      <td>3</td>\n",
       "      <td>56</td>\n",
       "      <td>MC4990176</td>\n",
       "      <td>Arboreto</td>\n",
       "      <td>$165.000.000</td>\n",
       "      <td>Entre 5 y 10 años</td>\n",
       "      <td>56 m²</td>\n",
       "      <td>53.5 m²</td>\n",
       "      <td>$95.000</td>\n",
       "      <td>NaN</td>\n",
       "      <td>venta_apartamento</td>\n",
       "    </tr>\n",
       "    <tr>\n",
       "      <th>218</th>\n",
       "      <td>1</td>\n",
       "      <td>1</td>\n",
       "      <td>3</td>\n",
       "      <td>29</td>\n",
       "      <td>MC4963341</td>\n",
       "      <td>Gaitan</td>\n",
       "      <td>$125.000.000</td>\n",
       "      <td>Entre 10 y 20 años</td>\n",
       "      <td>29 m²</td>\n",
       "      <td>33 m²</td>\n",
       "      <td>$30.000</td>\n",
       "      <td>NaN</td>\n",
       "      <td>venta_apartamento</td>\n",
       "    </tr>\n",
       "    <tr>\n",
       "      <th>219</th>\n",
       "      <td>3</td>\n",
       "      <td>3</td>\n",
       "      <td>3</td>\n",
       "      <td>99</td>\n",
       "      <td>MC4953938</td>\n",
       "      <td>patriotas</td>\n",
       "      <td>$230.000.000</td>\n",
       "      <td>Remodelado</td>\n",
       "      <td>99.68 m²</td>\n",
       "      <td>67.5 m²</td>\n",
       "      <td>NaN</td>\n",
       "      <td>1.0</td>\n",
       "      <td>venta_casa</td>\n",
       "    </tr>\n",
       "  </tbody>\n",
       "</table>\n",
       "</div>"
      ],
      "text/plain": [
       "     Habitaciones  Baños  Estrato  Área_construida Código inmueble  \\\n",
       "215             3      3        5              138       MC4954891   \n",
       "216             4      3        4              130       MC4986469   \n",
       "217             3      2        3               56       MC4990176   \n",
       "218             1      1        3               29       MC4963341   \n",
       "219             3      3        3               99       MC4953938   \n",
       "\n",
       "     Barrio común        Precio          Antigüedad Área construida  \\\n",
       "215      Arboleda  $570.000.000   Entre 5 y 10 años        138.2 m²   \n",
       "216  San Ignacio   $380.000.000  Entre 10 y 20 años          130 m²   \n",
       "217     Arboreto   $165.000.000   Entre 5 y 10 años           56 m²   \n",
       "218        Gaitan  $125.000.000  Entre 10 y 20 años           29 m²   \n",
       "219     patriotas  $230.000.000          Remodelado        99.68 m²   \n",
       "\n",
       "    Área privada Valor administración  Parqueaderos             estado  \n",
       "215       154 m²             $358.000           2.0         venta_casa  \n",
       "216       127 m²             $320.000           1.0  venta_apartamento  \n",
       "217      53.5 m²              $95.000           NaN  venta_apartamento  \n",
       "218        33 m²              $30.000           NaN  venta_apartamento  \n",
       "219      67.5 m²                  NaN           1.0         venta_casa  "
      ]
     },
     "execution_count": 35,
     "metadata": {},
     "output_type": "execute_result"
    }
   ],
   "source": [
    "data.tail()"
   ]
  },
  {
   "cell_type": "code",
   "execution_count": 36,
   "id": "2e375817-109d-4d20-ac30-0fc5db43273c",
   "metadata": {},
   "outputs": [
    {
     "data": {
      "text/html": [
       "<div>\n",
       "<style scoped>\n",
       "    .dataframe tbody tr th:only-of-type {\n",
       "        vertical-align: middle;\n",
       "    }\n",
       "\n",
       "    .dataframe tbody tr th {\n",
       "        vertical-align: top;\n",
       "    }\n",
       "\n",
       "    .dataframe thead th {\n",
       "        text-align: right;\n",
       "    }\n",
       "</style>\n",
       "<table border=\"1\" class=\"dataframe\">\n",
       "  <thead>\n",
       "    <tr style=\"text-align: right;\">\n",
       "      <th></th>\n",
       "      <th>encoded_url</th>\n",
       "      <th>estado</th>\n",
       "    </tr>\n",
       "  </thead>\n",
       "  <tbody>\n",
       "    <tr>\n",
       "      <th>222</th>\n",
       "      <td>MC4963341</td>\n",
       "      <td>venta_apartamento</td>\n",
       "    </tr>\n",
       "  </tbody>\n",
       "</table>\n",
       "</div>"
      ],
      "text/plain": [
       "    encoded_url             estado\n",
       "222   MC4963341  venta_apartamento"
      ]
     },
     "execution_count": 36,
     "metadata": {},
     "output_type": "execute_result"
    }
   ],
   "source": [
    "df1[df1['encoded_url']=='MC4963341']"
   ]
  },
  {
   "cell_type": "code",
   "execution_count": 37,
   "id": "428ee81c-a789-44b8-ac1f-ad0b9dec04b8",
   "metadata": {},
   "outputs": [],
   "source": [
    "data.to_csv('data_metro_cuadrado.csv',index=False)"
   ]
  },
  {
   "cell_type": "code",
   "execution_count": 69,
   "id": "5771080a-b17e-4f2c-af19-3c4473f939ea",
   "metadata": {},
   "outputs": [],
   "source": [
    "df = pd.read_csv('urls_metro_cuadrado.csv')"
   ]
  },
  {
   "cell_type": "code",
   "execution_count": 75,
   "id": "86c0c35d-4af7-4feb-9118-1606dc2ca883",
   "metadata": {},
   "outputs": [
    {
     "data": {
      "text/plain": [
       "True"
      ]
     },
     "execution_count": 75,
     "metadata": {},
     "output_type": "execute_result"
    }
   ],
   "source": [
    "'16742-M4795726' in 'venta-casa,16742-M4795726'"
   ]
  },
  {
   "cell_type": "code",
   "execution_count": 76,
   "id": "5da341f5-be56-4f91-ab65-0e4e6646c7d4",
   "metadata": {},
   "outputs": [
    {
     "data": {
      "text/plain": [
       "False"
      ]
     },
     "execution_count": 76,
     "metadata": {},
     "output_type": "execute_result"
    }
   ],
   "source": [
    "'16742-M4795726' in df.values"
   ]
  },
  {
   "cell_type": "code",
   "execution_count": 82,
   "id": "3c1c1f14-4e68-4f59-9526-dc86bd8d9470",
   "metadata": {},
   "outputs": [
    {
     "data": {
      "text/plain": [
       "False"
      ]
     },
     "execution_count": 82,
     "metadata": {},
     "output_type": "execute_result"
    }
   ],
   "source": [
    "'16742-M4795726' in df.iloc[0].values"
   ]
  },
  {
   "cell_type": "code",
   "execution_count": 41,
   "id": "ab3b6e33-4be6-4a2d-9b4b-6ed9cefcddfd",
   "metadata": {},
   "outputs": [],
   "source": [
    "import csv"
   ]
  },
  {
   "cell_type": "code",
   "execution_count": 64,
   "id": "0b8de5f9-0102-41c2-8c87-e1f52d4e648c",
   "metadata": {},
   "outputs": [],
   "source": [
    "f.close()"
   ]
  },
  {
   "cell_type": "code",
   "execution_count": 38,
   "id": "ccd9ba33-66ba-4d0c-b311-0c4fffeeface",
   "metadata": {},
   "outputs": [],
   "source": [
    "data = pd.read_csv('data_metro_cuadrado.csv')"
   ]
  },
  {
   "cell_type": "code",
   "execution_count": 39,
   "id": "7e8b57b0-cad9-462a-a9a2-02c12afcfc7d",
   "metadata": {},
   "outputs": [
    {
     "name": "stdout",
     "output_type": "stream",
     "text": [
      "<class 'pandas.core.frame.DataFrame'>\n",
      "RangeIndex: 220 entries, 0 to 219\n",
      "Data columns (total 13 columns):\n",
      " #   Column                Non-Null Count  Dtype  \n",
      "---  ------                --------------  -----  \n",
      " 0   Habitaciones          220 non-null    int64  \n",
      " 1   Baños                 220 non-null    int64  \n",
      " 2   Estrato               220 non-null    int64  \n",
      " 3   Área_construida       220 non-null    int64  \n",
      " 4   Código inmueble       220 non-null    object \n",
      " 5   Barrio común          218 non-null    object \n",
      " 6   Precio                220 non-null    object \n",
      " 7   Antigüedad            220 non-null    object \n",
      " 8   Área construida       220 non-null    object \n",
      " 9   Área privada          220 non-null    object \n",
      " 10  Valor administración  113 non-null    object \n",
      " 11  Parqueaderos          176 non-null    float64\n",
      " 12  estado                211 non-null    object \n",
      "dtypes: float64(1), int64(4), object(8)\n",
      "memory usage: 22.5+ KB\n"
     ]
    }
   ],
   "source": [
    "data.info()"
   ]
  },
  {
   "cell_type": "code",
   "execution_count": 50,
   "id": "d3e90dc5-27ad-4abe-8939-88fdf932b443",
   "metadata": {},
   "outputs": [
    {
     "data": {
      "text/html": [
       "<div>\n",
       "<style scoped>\n",
       "    .dataframe tbody tr th:only-of-type {\n",
       "        vertical-align: middle;\n",
       "    }\n",
       "\n",
       "    .dataframe tbody tr th {\n",
       "        vertical-align: top;\n",
       "    }\n",
       "\n",
       "    .dataframe thead th {\n",
       "        text-align: right;\n",
       "    }\n",
       "</style>\n",
       "<table border=\"1\" class=\"dataframe\">\n",
       "  <thead>\n",
       "    <tr style=\"text-align: right;\">\n",
       "      <th></th>\n",
       "      <th>Habitaciones</th>\n",
       "      <th>Baños</th>\n",
       "      <th>Estrato</th>\n",
       "      <th>Área_construida</th>\n",
       "      <th>Código inmueble</th>\n",
       "      <th>Barrio común</th>\n",
       "      <th>Precio</th>\n",
       "      <th>Antigüedad</th>\n",
       "      <th>Área construida</th>\n",
       "      <th>Área privada</th>\n",
       "      <th>Valor administración</th>\n",
       "      <th>Parqueaderos</th>\n",
       "      <th>estado</th>\n",
       "    </tr>\n",
       "  </thead>\n",
       "  <tbody>\n",
       "  </tbody>\n",
       "</table>\n",
       "</div>"
      ],
      "text/plain": [
       "Empty DataFrame\n",
       "Columns: [Habitaciones, Baños, Estrato, Área_construida, Código inmueble, Barrio común, Precio, Antigüedad, Área construida, Área privada, Valor administración, Parqueaderos, estado]\n",
       "Index: []"
      ]
     },
     "execution_count": 50,
     "metadata": {},
     "output_type": "execute_result"
    }
   ],
   "source": [
    "data[data['estado']==np.NAN]"
   ]
  },
  {
   "cell_type": "code",
   "execution_count": 43,
   "id": "80e89a79-a780-4479-8571-379f77b7f217",
   "metadata": {},
   "outputs": [
    {
     "data": {
      "text/plain": [
       "array(['venta_casa', 'venta_apartamento', nan], dtype=object)"
      ]
     },
     "execution_count": 43,
     "metadata": {},
     "output_type": "execute_result"
    }
   ],
   "source": [
    "data['estado'].unique()"
   ]
  },
  {
   "cell_type": "code",
   "execution_count": 58,
   "id": "3fd402cd-7a50-4d9a-ada4-65d4856c5c78",
   "metadata": {},
   "outputs": [
    {
     "data": {
      "text/html": [
       "<div>\n",
       "<style scoped>\n",
       "    .dataframe tbody tr th:only-of-type {\n",
       "        vertical-align: middle;\n",
       "    }\n",
       "\n",
       "    .dataframe tbody tr th {\n",
       "        vertical-align: top;\n",
       "    }\n",
       "\n",
       "    .dataframe thead th {\n",
       "        text-align: right;\n",
       "    }\n",
       "</style>\n",
       "<table border=\"1\" class=\"dataframe\">\n",
       "  <thead>\n",
       "    <tr style=\"text-align: right;\">\n",
       "      <th>col_0</th>\n",
       "      <th>count</th>\n",
       "    </tr>\n",
       "    <tr>\n",
       "      <th>estado</th>\n",
       "      <th></th>\n",
       "    </tr>\n",
       "  </thead>\n",
       "  <tbody>\n",
       "    <tr>\n",
       "      <th>venta_apartamento</th>\n",
       "      <td>107</td>\n",
       "    </tr>\n",
       "    <tr>\n",
       "      <th>venta_casa</th>\n",
       "      <td>104</td>\n",
       "    </tr>\n",
       "  </tbody>\n",
       "</table>\n",
       "</div>"
      ],
      "text/plain": [
       "col_0              count\n",
       "estado                  \n",
       "venta_apartamento    107\n",
       "venta_casa           104"
      ]
     },
     "execution_count": 58,
     "metadata": {},
     "output_type": "execute_result"
    }
   ],
   "source": [
    "A=pd.crosstab(data['estado'],columns='count')\n",
    "A"
   ]
  },
  {
   "cell_type": "code",
   "execution_count": 59,
   "id": "03906a99-2b25-405a-98a2-f6a8a889427b",
   "metadata": {},
   "outputs": [
    {
     "data": {
      "text/plain": [
       "<Axes: xlabel='estado'>"
      ]
     },
     "execution_count": 59,
     "metadata": {},
     "output_type": "execute_result"
    },
    {
     "data": {
      "image/png": "[encoded data removed]",
      "text/plain": [
       "<Figure size 640x480 with 1 Axes>"
      ]
     },
     "metadata": {},
     "output_type": "display_data"
    }
   ],
   "source": [
    "A.plot(kind='bar')"
   ]
  },
  {
   "cell_type": "code",
   "execution_count": null,
   "id": "154a7e1e-3676-4266-bbf3-20bbc3d6831e",
   "metadata": {},
   "outputs": [],
   "source": []
  }
 ],
 "metadata": {
  "kernelspec": {
   "display_name": "Python 3 (ipykernel)",
   "language": "python",
   "name": "python3"
  },
  "language_info": {
   "codemirror_mode": {
    "name": "ipython",
    "version": 3
   },
   "file_extension": ".py",
   "mimetype": "text/x-python",
   "name": "python",
   "nbconvert_exporter": "python",
   "pygments_lexer": "ipython3",
   "version": "3.11.5"
  }
 },
 "nbformat": 4,
 "nbformat_minor": 5
}
