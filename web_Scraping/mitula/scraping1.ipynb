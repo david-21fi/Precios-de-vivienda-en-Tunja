{
 "cells": [
  {
   "cell_type": "code",
   "execution_count": 1,
   "id": "f78eda4f-4f57-4973-a47e-703f5561e36f",
   "metadata": {},
   "outputs": [],
   "source": [
    "from bs4 import BeautifulSoup as bs\n",
    "import random\n",
    "import time\n",
    "import re\n",
    "import pandas as pd\n",
    "import numpy as np\n",
    "from selenium import webdriver\n",
    "from selenium.webdriver.common.by import By\n",
    "from selenium.webdriver.common.keys import Keys\n",
    "import undetected_chromedriver as uc\n",
    "from selenium.webdriver.support import expected_conditions as EC"
   ]
  },
  {
   "cell_type": "code",
   "execution_count": 2,
   "id": "32027d94-ef40-4181-b7c5-02da50194e5d",
   "metadata": {},
   "outputs": [],
   "source": [
    "browser = uc.Chrome(driver_executable_path='../chromedriver-linux64/chromedriver') ## iniciemos el navegador"
   ]
  },
  {
   "cell_type": "code",
   "execution_count": 3,
   "id": "9e0dec08-24c2-4c66-bb46-487887028704",
   "metadata": {},
   "outputs": [],
   "source": [
    "URL='https://casas.trovit.com.co/index.php/cod.search_homes/type.1/what_d.tunja%20boyaca/rooms_min.0/bathrooms_min.0/property_type.Apartamento/order_by.relevance/resultsPerPage.25/tracking.%7B%7D/isUserSearch.1/'"
   ]
  },
  {
   "cell_type": "code",
   "execution_count": 4,
   "id": "bb8fc024-df38-445c-84fe-c9a25942c863",
   "metadata": {},
   "outputs": [],
   "source": [
    "browser.get(URL)"
   ]
  },
  {
   "cell_type": "code",
   "execution_count": 46,
   "id": "8e3257b7-3cb2-4f77-b926-87f491a831fd",
   "metadata": {},
   "outputs": [],
   "source": [
    "html = browser.page_source ## sacamos el html de la pagina"
   ]
  },
  {
   "cell_type": "code",
   "execution_count": 47,
   "id": "0c18dd61-fc8d-48af-9ff4-cc90154ec611",
   "metadata": {},
   "outputs": [],
   "source": [
    "soup = bs(html,\"html\")"
   ]
  },
  {
   "cell_type": "code",
   "execution_count": 48,
   "id": "d33bb55e-8bfd-4d33-a1e6-74aacfd842a8",
   "metadata": {},
   "outputs": [],
   "source": [
    "temp= soup.find('div',{'class':'serp-list js-serp-list'})"
   ]
  },
  {
   "cell_type": "code",
   "execution_count": 49,
   "id": "e8426904-b59f-4468-80f1-61bb6ec0af3f",
   "metadata": {},
   "outputs": [],
   "source": [
    "label = temp.find_all('div',{'class':'item-title'})\n",
    "label = [j.text.strip().replace(' ','-').lower() for j in label] ## como la url tiene un el titulo en minuscula\n",
    "a=temp.find_all('div',{'class':'snippet snippet-new-style js-item'})\n",
    "a = [i.get('data-id') for i in a] ## obtengo en codigo de cada articulo"
   ]
  },
  {
   "cell_type": "code",
   "execution_count": 50,
   "id": "d7bf06b7-ee16-4a13-bc8e-2ecb8a5ada4f",
   "metadata": {},
   "outputs": [],
   "source": [
    "url = []\n",
    "for i in range(len(label)):\n",
    "    url.append(label[i]+'.'+a[i])"
   ]
  },
  {
   "cell_type": "code",
   "execution_count": 51,
   "id": "cf9a60fe-0860-460c-ab0f-485f6716c253",
   "metadata": {},
   "outputs": [
    {
     "data": {
      "text/plain": [
       "'https://casas.trovit.com.co/listing/apartamento-en-venta-en-tunja-la-maría.87a9177c-08f9-3985-be97-e13a5b7180bc'"
      ]
     },
     "execution_count": 51,
     "metadata": {},
     "output_type": "execute_result"
    }
   ],
   "source": [
    "path = 'https://casas.trovit.com.co/listing/'\n",
    "path+url[-1]"
   ]
  },
  {
   "cell_type": "code",
   "execution_count": 18,
   "id": "2a75d7af-c1e3-4b82-922d-943e6599123a",
   "metadata": {},
   "outputs": [
    {
     "data": {
      "text/html": [
       "<div>\n",
       "<style scoped>\n",
       "    .dataframe tbody tr th:only-of-type {\n",
       "        vertical-align: middle;\n",
       "    }\n",
       "\n",
       "    .dataframe tbody tr th {\n",
       "        vertical-align: top;\n",
       "    }\n",
       "\n",
       "    .dataframe thead th {\n",
       "        text-align: right;\n",
       "    }\n",
       "</style>\n",
       "<table border=\"1\" class=\"dataframe\">\n",
       "  <thead>\n",
       "    <tr style=\"text-align: right;\">\n",
       "      <th></th>\n",
       "      <th>urls</th>\n",
       "      <th>title</th>\n",
       "    </tr>\n",
       "  </thead>\n",
       "  <tbody>\n",
       "    <tr>\n",
       "      <th>0</th>\n",
       "      <td>vendo-apartamento-cerca-a-unicentro-tunja.04b1...</td>\n",
       "      <td>vendo-apartamento-cerca-a-unicentro-tunja</td>\n",
       "    </tr>\n",
       "    <tr>\n",
       "      <th>1</th>\n",
       "      <td>vendo-apartamento-nogales-de-la-florida,-tunja...</td>\n",
       "      <td>vendo-apartamento-nogales-de-la-florida,-tunja</td>\n",
       "    </tr>\n",
       "    <tr>\n",
       "      <th>2</th>\n",
       "      <td>vendo-apartamento-nuevo-conjunto-amalfi-tunja....</td>\n",
       "      <td>vendo-apartamento-nuevo-conjunto-amalfi-tunja</td>\n",
       "    </tr>\n",
       "    <tr>\n",
       "      <th>3</th>\n",
       "      <td>vendo-apartamento-conjunto-reina-cecilia-ii.9d...</td>\n",
       "      <td>vendo-apartamento-conjunto-reina-cecilia-ii</td>\n",
       "    </tr>\n",
       "    <tr>\n",
       "      <th>4</th>\n",
       "      <td>vendo-apartamento-caminitos-de-oicata-ii.50a48...</td>\n",
       "      <td>vendo-apartamento-caminitos-de-oicata-ii</td>\n",
       "    </tr>\n",
       "  </tbody>\n",
       "</table>\n",
       "</div>"
      ],
      "text/plain": [
       "                                                urls  \\\n",
       "0  vendo-apartamento-cerca-a-unicentro-tunja.04b1...   \n",
       "1  vendo-apartamento-nogales-de-la-florida,-tunja...   \n",
       "2  vendo-apartamento-nuevo-conjunto-amalfi-tunja....   \n",
       "3  vendo-apartamento-conjunto-reina-cecilia-ii.9d...   \n",
       "4  vendo-apartamento-caminitos-de-oicata-ii.50a48...   \n",
       "\n",
       "                                            title  \n",
       "0       vendo-apartamento-cerca-a-unicentro-tunja  \n",
       "1  vendo-apartamento-nogales-de-la-florida,-tunja  \n",
       "2   vendo-apartamento-nuevo-conjunto-amalfi-tunja  \n",
       "3     vendo-apartamento-conjunto-reina-cecilia-ii  \n",
       "4        vendo-apartamento-caminitos-de-oicata-ii  "
      ]
     },
     "execution_count": 18,
     "metadata": {},
     "output_type": "execute_result"
    }
   ],
   "source": [
    "## este solo lo creo para el primer catologo \n",
    "data =  pd.DataFrame({'urls':url,\n",
    "                     'title':label})\n",
    "data.head()"
   ]
  },
  {
   "cell_type": "markdown",
   "id": "0c3f53c1-89ca-412d-93c0-1d9758db1893",
   "metadata": {},
   "source": [
    "- `df` va ser nuestro paso para obtener de cada catologo de trovit"
   ]
  },
  {
   "cell_type": "code",
   "execution_count": 74,
   "id": "e7a3b9b5-9855-4806-8dfc-64fbd5ef91f7",
   "metadata": {},
   "outputs": [
    {
     "data": {
      "text/plain": [
       "'https://casas.trovit.com.co/listing/apartamento-en-venta.O1AVejd1V18'"
      ]
     },
     "execution_count": 74,
     "metadata": {},
     "output_type": "execute_result"
    }
   ],
   "source": [
    "html = browser.page_source ## sacamos el html de la pagina\n",
    "soup = bs(html,\"html\")\n",
    "temp= soup.find('div',{'class':'serp-list js-serp-list'})\n",
    "\n",
    "label = temp.find_all('div',{'class':'item-title'})\n",
    "label = [j.text.strip().replace(' ','-').lower() for j in label] ## como la url tiene un el titulo en minuscula\n",
    "a=temp.find_all('div',{'class':'snippet snippet-new-style js-item'})\n",
    "a = [i.get('data-id') for i in a] ## obtengo en codigo de cada articulo\n",
    "url = []\n",
    "for i in range(len(label)):\n",
    "    url.append(label[i]+'.'+a[i])\n",
    "path = 'https://casas.trovit.com.co/listing/'\n",
    "path+url[-1]"
   ]
  },
  {
   "cell_type": "code",
   "execution_count": 75,
   "id": "63dee6c8-814c-4f25-b8bb-07b557afe16b",
   "metadata": {},
   "outputs": [
    {
     "data": {
      "text/plain": [
       "(475, 2)"
      ]
     },
     "execution_count": 75,
     "metadata": {},
     "output_type": "execute_result"
    }
   ],
   "source": [
    "df =  pd.DataFrame({'urls':url,\n",
    "                     'title':label}) # df donde van ser guardados\n",
    "data = pd.concat([data,df],ignore_index=True) \n",
    "data.shape"
   ]
  },
  {
   "cell_type": "code",
   "execution_count": 76,
   "id": "f5e3d040-9e7a-4044-8af5-9aa78659cb44",
   "metadata": {},
   "outputs": [],
   "source": [
    "data.to_csv('urls_trovit.csv',index=False)"
   ]
  },
  {
   "cell_type": "code",
   "execution_count": null,
   "id": "2ecbee22-5740-4bbe-b6a3-88d923912114",
   "metadata": {},
   "outputs": [],
   "source": []
  }
 ],
 "metadata": {
  "kernelspec": {
   "display_name": "Python 3 (ipykernel)",
   "language": "python",
   "name": "python3"
  },
  "language_info": {
   "codemirror_mode": {
    "name": "ipython",
    "version": 3
   },
   "file_extension": ".py",
   "mimetype": "text/x-python",
   "name": "python",
   "nbconvert_exporter": "python",
   "pygments_lexer": "ipython3",
   "version": "3.11.5"
  }
 },
 "nbformat": 4,
 "nbformat_minor": 5
}
