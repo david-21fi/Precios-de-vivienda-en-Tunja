{
 "cells": [
  {
   "cell_type": "code",
   "execution_count": 1,
   "id": "b9da86bb-a82f-469c-b894-a5e2e6cf2a3b",
   "metadata": {},
   "outputs": [],
   "source": [
    "from bs4 import BeautifulSoup as bs\n",
    "import random\n",
    "import time\n",
    "import re\n",
    "import pandas as pd\n",
    "import numpy as np\n",
    "from selenium import webdriver\n",
    "from selenium.webdriver.common.by import By\n",
    "from selenium.webdriver.common.keys import Keys\n",
    "import undetected_chromedriver as uc\n",
    "from selenium.webdriver.support import expected_conditions as EC"
   ]
  },
  {
   "cell_type": "code",
   "execution_count": 3,
   "id": "06eb8b50-bec6-40b7-909f-16606036448b",
   "metadata": {},
   "outputs": [],
   "source": [
    "data_urls = pd.read_csv('urls_trovit.csv')  ## datos de urls"
   ]
  },
  {
   "cell_type": "code",
   "execution_count": 4,
   "id": "a0c22a77-a580-4929-bb6d-bd14ca99d150",
   "metadata": {},
   "outputs": [
    {
     "data": {
      "text/plain": [
       "(475, 2)"
      ]
     },
     "execution_count": 4,
     "metadata": {},
     "output_type": "execute_result"
    }
   ],
   "source": [
    "data_urls.shape"
   ]
  },
  {
   "cell_type": "code",
   "execution_count": 12,
   "id": "ebe15b84-042b-4631-af1d-c664846f8a7c",
   "metadata": {},
   "outputs": [],
   "source": [
    "browser = uc.Chrome(driver_executable_path='../chromedriver-linux64/chromedriver') ## iniciamos el navegador"
   ]
  },
  {
   "cell_type": "code",
   "execution_count": 4,
   "id": "b3bef1a0-0e0e-4fc5-83d8-9400af8a2e4b",
   "metadata": {},
   "outputs": [
    {
     "data": {
      "text/plain": [
       "'https://casas.trovit.com.co/listing/vendo-apartamento-cerca-a-unicentro-tunja.04b11625-6459-4b81-9ed0-5b1cca149c97'"
      ]
     },
     "execution_count": 4,
     "metadata": {},
     "output_type": "execute_result"
    }
   ],
   "source": [
    "path = 'https://casas.trovit.com.co/listing/'\n",
    "url =  path+data_urls.iloc[0,0]\n",
    "url"
   ]
  },
  {
   "cell_type": "code",
   "execution_count": 152,
   "id": "4e9dd89e-7a0e-4fbd-bc30-489279370495",
   "metadata": {},
   "outputs": [],
   "source": [
    "browser.get(url)"
   ]
  },
  {
   "cell_type": "code",
   "execution_count": 153,
   "id": "6b2ec00e-6bec-460a-8756-dc2a8a9dccc0",
   "metadata": {},
   "outputs": [],
   "source": [
    "html = browser.page_source ## sacamos el html de la pagina"
   ]
  },
  {
   "cell_type": "code",
   "execution_count": 154,
   "id": "a24bc52f-5bef-445a-8208-6f61ea77a711",
   "metadata": {},
   "outputs": [],
   "source": [
    "soup = bs(html,\"html\")"
   ]
  },
  {
   "cell_type": "code",
   "execution_count": 155,
   "id": "3de931b3-4345-426d-9762-4c8087246f0c",
   "metadata": {},
   "outputs": [],
   "source": [
    "temp = soup.find('div',{'id','amenities'}).find_all('li')\n",
    "li = [i for i in temp]"
   ]
  },
  {
   "cell_type": "code",
   "execution_count": 179,
   "id": "350fb639-22a6-4716-ae16-fa31b7e4fe46",
   "metadata": {},
   "outputs": [],
   "source": [
    "valor = [data_urls.iloc[0,0]]\n",
    "clave = ['url']\n",
    "\n",
    "for i in li:\n",
    "    clave.append(i.find('div',{'class','amenity-key'}).text.strip())\n",
    "    valor.append(i.find('div',{'class','amenity-value'}).text.strip())"
   ]
  },
  {
   "cell_type": "code",
   "execution_count": 180,
   "id": "71a68326-4932-4732-b528-218141590264",
   "metadata": {},
   "outputs": [
    {
     "data": {
      "text/plain": [
       "[('url',\n",
       "  'vendo-apartamento-cerca-a-unicentro-tunja.04b11625-6459-4b81-9ed0-5b1cca149c97'),\n",
       " ('Tipo de anuncio', 'Venta'),\n",
       " ('Tipo de propiedad', 'Apartamento'),\n",
       " ('Habitaciones', '3'),\n",
       " ('Baños', '2'),\n",
       " ('Superficie', '110m²'),\n",
       " ('Área construida', '110m²'),\n",
       " ('Piso', '3'),\n",
       " ('Estrato', '5')]"
      ]
     },
     "execution_count": 180,
     "metadata": {},
     "output_type": "execute_result"
    }
   ],
   "source": [
    "list(zip(clave,valor))"
   ]
  },
  {
   "cell_type": "code",
   "execution_count": 181,
   "id": "eb392a38-20ad-41cb-b261-80f27bda4177",
   "metadata": {},
   "outputs": [],
   "source": [
    "price = soup.find('div',{'class','price'}).find('div',{'class','amount'}).text.strip()\n",
    "patron = re.compile(r'\\$\\s?([\\d\\.]+)')\n",
    "\n",
    "# Buscar la coincidencia\n",
    "coincidencia = patron.search(price)\n",
    "\n",
    "# Extraer el texto encontrado\n",
    "if coincidencia:\n",
    "    precio = coincidencia.group(1)\n",
    "    clave.append('precio')\n",
    "    valor.append(precio)"
   ]
  },
  {
   "cell_type": "code",
   "execution_count": 182,
   "id": "edf1f18e-e38b-48e7-811b-d2aea450b6cf",
   "metadata": {},
   "outputs": [],
   "source": [
    "map = soup.find('div',{'class','card js-map-location'})\n",
    "    \n",
    "clave.append('latitud')\n",
    "valor.append(map.find('div',{'class':'location_map'}).get('data-latitude'))\n",
    "clave.append('longitud')\n",
    "valor.append(map.find('div',{'class':'location_map'}).get('data-longitude'))"
   ]
  },
  {
   "cell_type": "code",
   "execution_count": 178,
   "id": "52f94728-965c-4067-a504-7060df612ddc",
   "metadata": {},
   "outputs": [
    {
     "data": {
      "text/plain": [
       "'5,5465998'"
      ]
     },
     "execution_count": 178,
     "metadata": {},
     "output_type": "execute_result"
    }
   ],
   "source": [
    "map.find('div',{'class':'location_map'}).get('data-latitude')"
   ]
  },
  {
   "cell_type": "code",
   "execution_count": 183,
   "id": "1e7daaeb-c52f-4314-bed5-af5580fba1be",
   "metadata": {},
   "outputs": [],
   "source": [
    "ubicacion = soup.find('div',{'class','location_address'})\n",
    "clave.append('ubicacion')\n",
    "valor.append(ubicacion.text)\n"
   ]
  },
  {
   "cell_type": "code",
   "execution_count": 184,
   "id": "156be877-06f9-48bd-8ac8-346402c466a0",
   "metadata": {},
   "outputs": [
    {
     "data": {
      "text/html": [
       "<div>\n",
       "<style scoped>\n",
       "    .dataframe tbody tr th:only-of-type {\n",
       "        vertical-align: middle;\n",
       "    }\n",
       "\n",
       "    .dataframe tbody tr th {\n",
       "        vertical-align: top;\n",
       "    }\n",
       "\n",
       "    .dataframe thead th {\n",
       "        text-align: right;\n",
       "    }\n",
       "</style>\n",
       "<table border=\"1\" class=\"dataframe\">\n",
       "  <thead>\n",
       "    <tr style=\"text-align: right;\">\n",
       "      <th></th>\n",
       "      <th>url</th>\n",
       "      <th>Tipo de anuncio</th>\n",
       "      <th>Tipo de propiedad</th>\n",
       "      <th>Habitaciones</th>\n",
       "      <th>Baños</th>\n",
       "      <th>Superficie</th>\n",
       "      <th>Área construida</th>\n",
       "      <th>Piso</th>\n",
       "      <th>Estrato</th>\n",
       "      <th>precio</th>\n",
       "      <th>latitud</th>\n",
       "      <th>longitud</th>\n",
       "      <th>ubicacion</th>\n",
       "    </tr>\n",
       "  </thead>\n",
       "  <tbody>\n",
       "    <tr>\n",
       "      <th>0</th>\n",
       "      <td>vendo-apartamento-cerca-a-unicentro-tunja.04b1...</td>\n",
       "      <td>Venta</td>\n",
       "      <td>Apartamento</td>\n",
       "      <td>3</td>\n",
       "      <td>2</td>\n",
       "      <td>110m²</td>\n",
       "      <td>110m²</td>\n",
       "      <td>3</td>\n",
       "      <td>5</td>\n",
       "      <td>460.000.000</td>\n",
       "      <td>5,5465998</td>\n",
       "      <td>-73,3472673</td>\n",
       "      <td>Conjunto Residencial Mirador De La Colina, T...</td>\n",
       "    </tr>\n",
       "  </tbody>\n",
       "</table>\n",
       "</div>"
      ],
      "text/plain": [
       "                                                 url Tipo de anuncio  \\\n",
       "0  vendo-apartamento-cerca-a-unicentro-tunja.04b1...           Venta   \n",
       "\n",
       "  Tipo de propiedad Habitaciones Baños Superficie Área construida Piso  \\\n",
       "0       Apartamento            3     2      110m²           110m²    3   \n",
       "\n",
       "  Estrato       precio    latitud     longitud  \\\n",
       "0       5  460.000.000  5,5465998  -73,3472673   \n",
       "\n",
       "                                           ubicacion  \n",
       "0    Conjunto Residencial Mirador De La Colina, T...  "
      ]
     },
     "execution_count": 184,
     "metadata": {},
     "output_type": "execute_result"
    }
   ],
   "source": [
    "data = pd.DataFrame([valor],columns=clave)\n",
    "data"
   ]
  },
  {
   "cell_type": "code",
   "execution_count": 33,
   "id": "42da846c-607d-4456-a0aa-87817b93ea7f",
   "metadata": {},
   "outputs": [],
   "source": [
    "data = pd.concat([data,df],ignore_index=True)"
   ]
  },
  {
   "cell_type": "code",
   "execution_count": 5,
   "id": "44730e9a-d109-47f2-bcae-4db61ffb3633",
   "metadata": {},
   "outputs": [],
   "source": [
    "data = pd.read_csv('data_trovit.csv')"
   ]
  },
  {
   "cell_type": "markdown",
   "id": "df8ccdef-81f5-4b97-82c5-fbc53989d187",
   "metadata": {},
   "source": [
    "## Automatizando para 475"
   ]
  },
  {
   "cell_type": "code",
   "execution_count": 103,
   "id": "bd24be76-6a05-4488-9b4e-3399b777cf05",
   "metadata": {},
   "outputs": [
    {
     "ename": "NameError",
     "evalue": "name 'NoneType' is not defined",
     "output_type": "error",
     "traceback": [
      "\u001b[0;31m---------------------------------------------------------------------------\u001b[0m",
      "\u001b[0;31mAttributeError\u001b[0m                            Traceback (most recent call last)",
      "Cell \u001b[0;32mIn[103], line 35\u001b[0m\n\u001b[1;32m     34\u001b[0m \u001b[38;5;28;01mtry\u001b[39;00m:\n\u001b[0;32m---> 35\u001b[0m     valor\u001b[38;5;241m.\u001b[39mappend(\u001b[38;5;28mmap\u001b[39m\u001b[38;5;241m.\u001b[39mget(\u001b[38;5;124m'\u001b[39m\u001b[38;5;124mdata-latitude\u001b[39m\u001b[38;5;124m'\u001b[39m))\n\u001b[1;32m     36\u001b[0m \u001b[38;5;28;01mexcept\u001b[39;00m NoneType:\n",
      "\u001b[0;31mAttributeError\u001b[0m: 'NoneType' object has no attribute 'get'",
      "\nDuring handling of the above exception, another exception occurred:\n",
      "\u001b[0;31mNameError\u001b[0m                                 Traceback (most recent call last)",
      "Cell \u001b[0;32mIn[103], line 36\u001b[0m\n\u001b[1;32m     34\u001b[0m \u001b[38;5;28;01mtry\u001b[39;00m:\n\u001b[1;32m     35\u001b[0m     valor\u001b[38;5;241m.\u001b[39mappend(\u001b[38;5;28mmap\u001b[39m\u001b[38;5;241m.\u001b[39mget(\u001b[38;5;124m'\u001b[39m\u001b[38;5;124mdata-latitude\u001b[39m\u001b[38;5;124m'\u001b[39m))\n\u001b[0;32m---> 36\u001b[0m \u001b[38;5;28;01mexcept\u001b[39;00m NoneType:\n\u001b[1;32m     37\u001b[0m     browser\u001b[38;5;241m.\u001b[39mrefresh()\n\u001b[1;32m     38\u001b[0m     html \u001b[38;5;241m=\u001b[39m browser\u001b[38;5;241m.\u001b[39mpage_source \u001b[38;5;66;03m## sacamos el html de la pagina\u001b[39;00m\n",
      "\u001b[0;31mNameError\u001b[0m: name 'NoneType' is not defined"
     ]
    }
   ],
   "source": [
    "path = 'https://casas.trovit.com.co/listing/'\n",
    "for i in range(25,data_urls.shape[0]):\n",
    "    url =  path+data_urls.iloc[i,0]\n",
    "    browser.get(url)\n",
    "    time.sleep(random.randint(10,12))\n",
    "    html = browser.page_source ## sacamos el html de la pagina\n",
    "    soup = bs(html,\"html\")\n",
    "    temp = soup.find('div',{'id','amenities'}).find_all('li')\n",
    "    li = [i for i in temp]\n",
    "    valor = []\n",
    "    clave = []\n",
    "    for i in li:\n",
    "        clave.append(i.find('div',{'class','amenity-key'}).text.strip())\n",
    "        valor.append(i.find('div',{'class','amenity-value'}).text.strip())\n",
    "    ## precio\n",
    "    price = soup.find('div',{'class','price'}).find('div',{'class','amount'}).text.strip()\n",
    "    patron = re.compile(r'\\$\\s?([\\d\\.]+)')\n",
    "\n",
    "    # Buscar la coincidencia\n",
    "    coincidencia = patron.search(price)\n",
    "\n",
    "    # Extraer el texto encontrado\n",
    "    if coincidencia:\n",
    "        precio = coincidencia.group(1)\n",
    "        clave.append('precio')\n",
    "        valor.append(precio)\n",
    "    # coodenadas geograficas\n",
    "    time.sleep(random.randint(6,7))\n",
    "    ## volvemos a scrapear la pagina \n",
    "    html = browser.page_source ## sacamos el html de la pagina\n",
    "    soup = bs(html,\"html\")\n",
    "    map = soup.find('div',{'class','location_map static-image'})\n",
    "    clave.append('latitud')\n",
    "    try:\n",
    "        valor.append(map.get('data-latitude'))\n",
    "    except NoneType:\n",
    "        browser.refresh()\n",
    "        html = browser.page_source ## sacamos el html de la pagina\n",
    "        soup = bs(html,\"html\")\n",
    "        map = soup.find('div',{'class','card js-map-location'})\n",
    "        valor.append(map.get('data-latitude'))\n",
    "    clave.append('longitud')\n",
    "    valor.append(map.get('data-longitude'))\n",
    "    # texto de ubicacion\n",
    "    ubicacion = soup.find('div',{'class','location_address'})\n",
    "    clave.append('ubicacion')\n",
    "    valor.append(ubicacion.text)\n",
    "    df = pd.DataFrame([valor],columns=clave)\n",
    "    data = pd.concat([data,df],ignore_index=True)"
   ]
  },
  {
   "cell_type": "code",
   "execution_count": 6,
   "id": "9fb3892b-f668-44e4-930c-327e83d41f91",
   "metadata": {},
   "outputs": [
    {
     "data": {
      "text/plain": [
       "(324, 18)"
      ]
     },
     "execution_count": 6,
     "metadata": {},
     "output_type": "execute_result"
    }
   ],
   "source": [
    "data.shape"
   ]
  },
  {
   "cell_type": "code",
   "execution_count": 13,
   "id": "2d58265c-1060-476b-97f0-0803a36e5070",
   "metadata": {},
   "outputs": [
    {
     "name": "stdout",
     "output_type": "stream",
     "text": [
      "no se encontro\n",
      "no se encontro\n",
      "no se encontro\n",
      "no se encontro\n"
     ]
    }
   ],
   "source": [
    "path = 'https://casas.trovit.com.co/listing/'\n",
    "for j in range(395,data_urls.shape[0]):\n",
    "    url =  path+data_urls.iloc[j,0]\n",
    "    browser.get(url)\n",
    "    time.sleep(random.randint(10,12))\n",
    "    html = browser.page_source ## sacamos el html de la pagina\n",
    "    soup = bs(html,\"html\")\n",
    "    try:\n",
    "        temp = soup.find('div',{'id','amenities'}).find_all('li')\n",
    "    except AttributeError:\n",
    "        print('no se encontro')\n",
    "        continue\n",
    "    li = [i for i in temp]\n",
    "    valor = [data_urls.iloc[j,0]]\n",
    "    clave = ['url']\n",
    "    for i in li:\n",
    "        clave.append(i.find('div',{'class','amenity-key'}).text.strip())\n",
    "        valor.append(i.find('div',{'class','amenity-value'}).text.strip())\n",
    "    ## precio\n",
    "    dec = True\n",
    "    try:\n",
    "        price = soup.find('div',{'class','price'}).find('div',{'class','amount'}).text.strip()\n",
    "    except AttributeError:\n",
    "        price = soup.find('div',{'class','price'}).find('span',{'class','amount'})\n",
    "        clave.append('precio')\n",
    "        if price != None:\n",
    "            valor.append(price.text)\n",
    "        else:\n",
    "            valor.append(np.nan)\n",
    "    \n",
    "        dec = False\n",
    "  \n",
    "    if dec:\n",
    "        patron = re.compile(r'\\$\\s?([\\d\\.]+)')\n",
    "        coincidencia = patron.search(price)\n",
    "\n",
    "            # Extraer el texto encontrado\n",
    "        if coincidencia:\n",
    "            precio = coincidencia.group(1)\n",
    "            clave.append('precio')\n",
    "            valor.append(precio)\n",
    "    \n",
    "    # coodenadas geograficas\n",
    "    time.sleep(random.randint(5,6))\n",
    "    ## volvemos a scrapear la pagina \n",
    "    html = browser.page_source ## sacamos el html de la pagina\n",
    "    soup = bs(html,\"html\")\n",
    "    map = soup.find('div',{'class','card js-map-location'})\n",
    "    if map != None:\n",
    "        clave.append('latitud')\n",
    "        valor.append(map.find('div',{'class':'location_map'}).get('data-latitude'))\n",
    "        clave.append('longitud')\n",
    "        valor.append(map.find('div',{'class':'location_map'}).get('data-longitude'))\n",
    "    else:\n",
    "        clave.append('latitud')\n",
    "        valor.append(np.nan)\n",
    "        clave.append('longitud')\n",
    "        valor.append(np.nan)\n",
    "    \n",
    "    '''\n",
    "    \n",
    "    try:\n",
    "        valor.append(l[5].get('data-latitude'))\n",
    "    except NoneType:\n",
    "        browser.refresh()\n",
    "        html = browser.page_source ## sacamos el html de la pagina\n",
    "        soup = bs(html,\"html\")\n",
    "        map = soup.find('div',{'class','card js-map-location'})\n",
    "        valor.append(map.get('data-latitude'))\n",
    "    clave.append('longitud')\n",
    "    valor.append(l[5].get('data-longitude'))\n",
    "    '''\n",
    "    # texto de ubicacion\n",
    "    ubicacion = soup.find('div',{'class','location_address'})\n",
    "    if ubicacion != None:\n",
    "        clave.append('ubicacion')\n",
    "        valor.append(ubicacion.text)\n",
    "    else:\n",
    "        clave.append('ubicacion')\n",
    "        valor.append(np.nan)\n",
    "    df = pd.DataFrame([valor],columns=clave)\n",
    "    data = pd.concat([data,df],ignore_index=True)"
   ]
  },
  {
   "cell_type": "code",
   "execution_count": 25,
   "id": "62a68212-5f90-4eec-adb8-159cd5ee41fe",
   "metadata": {},
   "outputs": [
    {
     "data": {
      "text/plain": [
       "'https://casas.trovit.com.co/listing/apartamento-en-venta-en-tunja-v113102.1S15sGL1Lj1z'"
      ]
     },
     "execution_count": 25,
     "metadata": {},
     "output_type": "execute_result"
    }
   ],
   "source": [
    "url"
   ]
  },
  {
   "cell_type": "code",
   "execution_count": 14,
   "id": "732b86fa-9b68-4aed-b3e3-48250075bd71",
   "metadata": {},
   "outputs": [
    {
     "data": {
      "text/plain": [
       "474"
      ]
     },
     "execution_count": 14,
     "metadata": {},
     "output_type": "execute_result"
    }
   ],
   "source": [
    "j"
   ]
  },
  {
   "cell_type": "code",
   "execution_count": 15,
   "id": "881c1648-d356-439a-81b3-0f176519ac4d",
   "metadata": {},
   "outputs": [
    {
     "data": {
      "text/html": [
       "<div>\n",
       "<style scoped>\n",
       "    .dataframe tbody tr th:only-of-type {\n",
       "        vertical-align: middle;\n",
       "    }\n",
       "\n",
       "    .dataframe tbody tr th {\n",
       "        vertical-align: top;\n",
       "    }\n",
       "\n",
       "    .dataframe thead th {\n",
       "        text-align: right;\n",
       "    }\n",
       "</style>\n",
       "<table border=\"1\" class=\"dataframe\">\n",
       "  <thead>\n",
       "    <tr style=\"text-align: right;\">\n",
       "      <th></th>\n",
       "      <th>url</th>\n",
       "      <th>Tipo de anuncio</th>\n",
       "      <th>Tipo de propiedad</th>\n",
       "      <th>Habitaciones</th>\n",
       "      <th>Baños</th>\n",
       "      <th>Superficie</th>\n",
       "      <th>Área construida</th>\n",
       "      <th>Piso</th>\n",
       "      <th>Estrato</th>\n",
       "      <th>precio</th>\n",
       "      <th>latitud</th>\n",
       "      <th>longitud</th>\n",
       "      <th>ubicacion</th>\n",
       "      <th>Año de construcción</th>\n",
       "      <th>Baño de visitas</th>\n",
       "      <th>Superficie del terreno</th>\n",
       "      <th>Parqueadero</th>\n",
       "      <th>Orientación</th>\n",
       "    </tr>\n",
       "  </thead>\n",
       "  <tbody>\n",
       "    <tr>\n",
       "      <th>455</th>\n",
       "      <td>apartamento-en-venta.1Ng6I12b_b</td>\n",
       "      <td>Venta</td>\n",
       "      <td>Apartamento en Venta</td>\n",
       "      <td>2</td>\n",
       "      <td>2</td>\n",
       "      <td>52m²</td>\n",
       "      <td>NaN</td>\n",
       "      <td>NaN</td>\n",
       "      <td>NaN</td>\n",
       "      <td>$217M</td>\n",
       "      <td>NaN</td>\n",
       "      <td>NaN</td>\n",
       "      <td>NaN</td>\n",
       "      <td>NaN</td>\n",
       "      <td>NaN</td>\n",
       "      <td>NaN</td>\n",
       "      <td>NaN</td>\n",
       "      <td>NaN</td>\n",
       "    </tr>\n",
       "    <tr>\n",
       "      <th>456</th>\n",
       "      <td>apartamento-en-venta,-la-maria.L9Eoxk1Q1H</td>\n",
       "      <td>Venta</td>\n",
       "      <td>Apartamento</td>\n",
       "      <td>1</td>\n",
       "      <td>1</td>\n",
       "      <td>32m²</td>\n",
       "      <td>NaN</td>\n",
       "      <td>NaN</td>\n",
       "      <td>NaN</td>\n",
       "      <td>$110M</td>\n",
       "      <td>NaN</td>\n",
       "      <td>NaN</td>\n",
       "      <td>NaN</td>\n",
       "      <td>NaN</td>\n",
       "      <td>NaN</td>\n",
       "      <td>NaN</td>\n",
       "      <td>NaN</td>\n",
       "      <td>NaN</td>\n",
       "    </tr>\n",
       "    <tr>\n",
       "      <th>457</th>\n",
       "      <td>venta-apartamento-ramiriqui-boyaca.R1D1-o12w1f_</td>\n",
       "      <td>Venta</td>\n",
       "      <td>Apartamento</td>\n",
       "      <td>4</td>\n",
       "      <td>3</td>\n",
       "      <td>81m²</td>\n",
       "      <td>NaN</td>\n",
       "      <td>NaN</td>\n",
       "      <td>NaN</td>\n",
       "      <td>$360M</td>\n",
       "      <td>NaN</td>\n",
       "      <td>NaN</td>\n",
       "      <td>NaN</td>\n",
       "      <td>NaN</td>\n",
       "      <td>NaN</td>\n",
       "      <td>NaN</td>\n",
       "      <td>Sí</td>\n",
       "      <td>NaN</td>\n",
       "    </tr>\n",
       "    <tr>\n",
       "      <th>458</th>\n",
       "      <td>lote-en-zona-de-expancion-al-norte-de-tunja.C1...</td>\n",
       "      <td>Venta</td>\n",
       "      <td>Terreno o Lote</td>\n",
       "      <td>NaN</td>\n",
       "      <td>NaN</td>\n",
       "      <td>6.225m²</td>\n",
       "      <td>NaN</td>\n",
       "      <td>NaN</td>\n",
       "      <td>NaN</td>\n",
       "      <td>$1.250M</td>\n",
       "      <td>NaN</td>\n",
       "      <td>NaN</td>\n",
       "      <td>NaN</td>\n",
       "      <td>2015</td>\n",
       "      <td>NaN</td>\n",
       "      <td>NaN</td>\n",
       "      <td>NaN</td>\n",
       "      <td>NaN</td>\n",
       "    </tr>\n",
       "    <tr>\n",
       "      <th>459</th>\n",
       "      <td>apartamento-en-venta.O1AVejd1V18</td>\n",
       "      <td>Venta</td>\n",
       "      <td>Apartamento en Venta</td>\n",
       "      <td>2</td>\n",
       "      <td>1</td>\n",
       "      <td>69m²</td>\n",
       "      <td>NaN</td>\n",
       "      <td>NaN</td>\n",
       "      <td>NaN</td>\n",
       "      <td>$199M</td>\n",
       "      <td>NaN</td>\n",
       "      <td>NaN</td>\n",
       "      <td>NaN</td>\n",
       "      <td>NaN</td>\n",
       "      <td>NaN</td>\n",
       "      <td>NaN</td>\n",
       "      <td>NaN</td>\n",
       "      <td>NaN</td>\n",
       "    </tr>\n",
       "  </tbody>\n",
       "</table>\n",
       "</div>"
      ],
      "text/plain": [
       "                                                   url Tipo de anuncio  \\\n",
       "455                    apartamento-en-venta.1Ng6I12b_b           Venta   \n",
       "456          apartamento-en-venta,-la-maria.L9Eoxk1Q1H           Venta   \n",
       "457    venta-apartamento-ramiriqui-boyaca.R1D1-o12w1f_           Venta   \n",
       "458  lote-en-zona-de-expancion-al-norte-de-tunja.C1...           Venta   \n",
       "459                   apartamento-en-venta.O1AVejd1V18           Venta   \n",
       "\n",
       "        Tipo de propiedad Habitaciones Baños Superficie Área construida  Piso  \\\n",
       "455  Apartamento en Venta            2     2       52m²             NaN   NaN   \n",
       "456           Apartamento            1     1       32m²             NaN   NaN   \n",
       "457           Apartamento            4     3       81m²             NaN   NaN   \n",
       "458        Terreno o Lote          NaN   NaN    6.225m²             NaN   NaN   \n",
       "459  Apartamento en Venta            2     1       69m²             NaN   NaN   \n",
       "\n",
       "     Estrato   precio latitud longitud ubicacion Año de construcción  \\\n",
       "455      NaN    $217M     NaN      NaN       NaN                 NaN   \n",
       "456      NaN    $110M     NaN      NaN       NaN                 NaN   \n",
       "457      NaN    $360M     NaN      NaN       NaN                 NaN   \n",
       "458      NaN  $1.250M     NaN      NaN       NaN                2015   \n",
       "459      NaN    $199M     NaN      NaN       NaN                 NaN   \n",
       "\n",
       "     Baño de visitas Superficie del terreno Parqueadero Orientación  \n",
       "455              NaN                    NaN         NaN         NaN  \n",
       "456              NaN                    NaN         NaN         NaN  \n",
       "457              NaN                    NaN          Sí         NaN  \n",
       "458              NaN                    NaN         NaN         NaN  \n",
       "459              NaN                    NaN         NaN         NaN  "
      ]
     },
     "execution_count": 15,
     "metadata": {},
     "output_type": "execute_result"
    }
   ],
   "source": [
    " data.tail()"
   ]
  },
  {
   "cell_type": "code",
   "execution_count": 16,
   "id": "ca817d95-19d3-4657-8028-8829f7f57bfb",
   "metadata": {},
   "outputs": [],
   "source": [
    "data.to_csv('data_trovit.csv',index=False)"
   ]
  },
  {
   "cell_type": "code",
   "execution_count": 94,
   "id": "2f290f64-ff33-4479-b008-0c6a44e5ca60",
   "metadata": {},
   "outputs": [
    {
     "data": {
      "text/plain": [
       "'-73,3575572'"
      ]
     },
     "execution_count": 94,
     "metadata": {},
     "output_type": "execute_result"
    }
   ],
   "source": [
    "l[5].get(\"data-longitude\")"
   ]
  },
  {
   "cell_type": "code",
   "execution_count": 24,
   "id": "51f25d68-1160-4e48-a49a-a2cb143e7d1f",
   "metadata": {},
   "outputs": [
    {
     "data": {
      "text/plain": [
       "'https://casas.trovit.com.co/listing/apartamento-en-venta-en-tunja-v113102.1S15sGL1Lj1z'"
      ]
     },
     "execution_count": 24,
     "metadata": {},
     "output_type": "execute_result"
    }
   ],
   "source": [
    "path+data_urls.iloc[j,0]"
   ]
  },
  {
   "cell_type": "code",
   "execution_count": 109,
   "id": "c9c46dee-8e3f-4746-a7ac-81be869e53fa",
   "metadata": {},
   "outputs": [
    {
     "data": {
      "text/plain": [
       "24"
      ]
     },
     "execution_count": 109,
     "metadata": {},
     "output_type": "execute_result"
    }
   ],
   "source": [
    "i"
   ]
  },
  {
   "cell_type": "code",
   "execution_count": 7,
   "id": "84d8c53c-2582-4795-a9c7-78ab82060a19",
   "metadata": {},
   "outputs": [
    {
     "name": "stdout",
     "output_type": "stream",
     "text": [
      "1.0\n",
      "0.3333333333333333\n",
      "0.16666666666666666\n",
      "0.25\n"
     ]
    }
   ],
   "source": [
    "a = 1\n",
    "b = [1,3,0,6,4]\n",
    "for i in b:\n",
    "    try:\n",
    "        print(a/i)\n",
    "    except ZeroDivisionError:\n",
    "        continue"
   ]
  },
  {
   "cell_type": "code",
   "execution_count": 25,
   "id": "b0b96dd0-6398-44d6-b287-417da481a470",
   "metadata": {},
   "outputs": [],
   "source": [
    "data.to_csv('data_trovit.csv',index =False)"
   ]
  },
  {
   "cell_type": "code",
   "execution_count": null,
   "id": "e5dd0428-7bf4-498a-9eb5-c17431bf05c0",
   "metadata": {},
   "outputs": [],
   "source": []
  }
 ],
 "metadata": {
  "kernelspec": {
   "display_name": "Python 3 (ipykernel)",
   "language": "python",
   "name": "python3"
  },
  "language_info": {
   "codemirror_mode": {
    "name": "ipython",
    "version": 3
   },
   "file_extension": ".py",
   "mimetype": "text/x-python",
   "name": "python",
   "nbconvert_exporter": "python",
   "pygments_lexer": "ipython3",
   "version": "3.11.5"
  }
 },
 "nbformat": 4,
 "nbformat_minor": 5
}
