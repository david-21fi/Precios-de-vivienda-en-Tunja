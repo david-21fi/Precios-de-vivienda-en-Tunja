{
 "cells": [
  {
   "cell_type": "code",
   "execution_count": 1,
   "id": "e8f81d68-dc68-43f1-8796-92e9bcdcf652",
   "metadata": {},
   "outputs": [],
   "source": [
    "import pandas as pd \n",
    "import numpy as np"
   ]
  },
  {
   "cell_type": "code",
   "execution_count": 2,
   "id": "dba0b737-32d0-4ded-965e-60ed75326297",
   "metadata": {},
   "outputs": [],
   "source": [
    "data = pd.read_csv('data_trovit.csv')"
   ]
  },
  {
   "cell_type": "code",
   "execution_count": 3,
   "id": "f69df59b-3f1b-475e-bcfb-ab6f73ebda55",
   "metadata": {},
   "outputs": [
    {
     "name": "stdout",
     "output_type": "stream",
     "text": [
      "<class 'pandas.core.frame.DataFrame'>\n",
      "RangeIndex: 460 entries, 0 to 459\n",
      "Data columns (total 18 columns):\n",
      " #   Column                  Non-Null Count  Dtype  \n",
      "---  ------                  --------------  -----  \n",
      " 0   url                     460 non-null    object \n",
      " 1   Tipo de anuncio         460 non-null    object \n",
      " 2   Tipo de propiedad       458 non-null    object \n",
      " 3   Habitaciones            455 non-null    float64\n",
      " 4   Baños                   454 non-null    float64\n",
      " 5   Superficie              454 non-null    object \n",
      " 6   Área construida         27 non-null     object \n",
      " 7   Piso                    11 non-null     float64\n",
      " 8   Estrato                 50 non-null     float64\n",
      " 9   precio                  459 non-null    object \n",
      " 10  latitud                 189 non-null    object \n",
      " 11  longitud                189 non-null    object \n",
      " 12  ubicacion               189 non-null    object \n",
      " 13  Año de construcción     74 non-null     float64\n",
      " 14  Baño de visitas         1 non-null      float64\n",
      " 15  Superficie del terreno  13 non-null     object \n",
      " 16  Parqueadero             28 non-null     object \n",
      " 17  Orientación             18 non-null     object \n",
      "dtypes: float64(6), object(12)\n",
      "memory usage: 64.8+ KB\n"
     ]
    }
   ],
   "source": [
    "data.info()"
   ]
  },
  {
   "cell_type": "code",
   "execution_count": 4,
   "id": "c06c44a8-da7e-4fd7-865a-7d44d70f673d",
   "metadata": {},
   "outputs": [
    {
     "data": {
      "text/html": [
       "<div>\n",
       "<style scoped>\n",
       "    .dataframe tbody tr th:only-of-type {\n",
       "        vertical-align: middle;\n",
       "    }\n",
       "\n",
       "    .dataframe tbody tr th {\n",
       "        vertical-align: top;\n",
       "    }\n",
       "\n",
       "    .dataframe thead th {\n",
       "        text-align: right;\n",
       "    }\n",
       "</style>\n",
       "<table border=\"1\" class=\"dataframe\">\n",
       "  <thead>\n",
       "    <tr style=\"text-align: right;\">\n",
       "      <th></th>\n",
       "      <th>url</th>\n",
       "      <th>Tipo de anuncio</th>\n",
       "      <th>Tipo de propiedad</th>\n",
       "      <th>Habitaciones</th>\n",
       "      <th>Baños</th>\n",
       "      <th>Superficie</th>\n",
       "      <th>Área construida</th>\n",
       "      <th>Piso</th>\n",
       "      <th>Estrato</th>\n",
       "      <th>precio</th>\n",
       "      <th>latitud</th>\n",
       "      <th>longitud</th>\n",
       "      <th>ubicacion</th>\n",
       "      <th>Año de construcción</th>\n",
       "      <th>Baño de visitas</th>\n",
       "      <th>Superficie del terreno</th>\n",
       "      <th>Parqueadero</th>\n",
       "      <th>Orientación</th>\n",
       "    </tr>\n",
       "  </thead>\n",
       "  <tbody>\n",
       "    <tr>\n",
       "      <th>0</th>\n",
       "      <td>vendo-apartamento-cerca-a-unicentro-tunja.04b1...</td>\n",
       "      <td>Venta</td>\n",
       "      <td>Apartamento</td>\n",
       "      <td>3.0</td>\n",
       "      <td>2.0</td>\n",
       "      <td>110m²</td>\n",
       "      <td>110m²</td>\n",
       "      <td>3.0</td>\n",
       "      <td>5.0</td>\n",
       "      <td>460.000.000</td>\n",
       "      <td>5,5465998</td>\n",
       "      <td>-73,3472673</td>\n",
       "      <td>Conjunto Residencial Mirador De La Colina, T...</td>\n",
       "      <td>NaN</td>\n",
       "      <td>NaN</td>\n",
       "      <td>NaN</td>\n",
       "      <td>NaN</td>\n",
       "      <td>NaN</td>\n",
       "    </tr>\n",
       "    <tr>\n",
       "      <th>1</th>\n",
       "      <td>vendo-apartamento-nogales-de-la-florida,-tunja...</td>\n",
       "      <td>Venta</td>\n",
       "      <td>Apartamento</td>\n",
       "      <td>3.0</td>\n",
       "      <td>2.0</td>\n",
       "      <td>56m²</td>\n",
       "      <td>56m²</td>\n",
       "      <td>5.0</td>\n",
       "      <td>3.0</td>\n",
       "      <td>170.000.000</td>\n",
       "      <td>5,514202</td>\n",
       "      <td>-73,368592</td>\n",
       "      <td>Apartamentos Nogales de la Florida, Tunja, B...</td>\n",
       "      <td>NaN</td>\n",
       "      <td>NaN</td>\n",
       "      <td>NaN</td>\n",
       "      <td>NaN</td>\n",
       "      <td>NaN</td>\n",
       "    </tr>\n",
       "  </tbody>\n",
       "</table>\n",
       "</div>"
      ],
      "text/plain": [
       "                                                 url Tipo de anuncio  \\\n",
       "0  vendo-apartamento-cerca-a-unicentro-tunja.04b1...           Venta   \n",
       "1  vendo-apartamento-nogales-de-la-florida,-tunja...           Venta   \n",
       "\n",
       "  Tipo de propiedad  Habitaciones  Baños Superficie Área construida  Piso  \\\n",
       "0       Apartamento           3.0    2.0      110m²           110m²   3.0   \n",
       "1       Apartamento           3.0    2.0       56m²            56m²   5.0   \n",
       "\n",
       "   Estrato       precio    latitud     longitud  \\\n",
       "0      5.0  460.000.000  5,5465998  -73,3472673   \n",
       "1      3.0  170.000.000   5,514202   -73,368592   \n",
       "\n",
       "                                           ubicacion  Año de construcción  \\\n",
       "0    Conjunto Residencial Mirador De La Colina, T...                  NaN   \n",
       "1    Apartamentos Nogales de la Florida, Tunja, B...                  NaN   \n",
       "\n",
       "   Baño de visitas Superficie del terreno Parqueadero Orientación  \n",
       "0              NaN                    NaN         NaN         NaN  \n",
       "1              NaN                    NaN         NaN         NaN  "
      ]
     },
     "execution_count": 4,
     "metadata": {},
     "output_type": "execute_result"
    }
   ],
   "source": [
    "data.head(2)"
   ]
  },
  {
   "cell_type": "markdown",
   "id": "6c3806d9-824c-4cdf-9cf0-7b545d99ab76",
   "metadata": {},
   "source": [
    "## limpiemos primero `Àrea construida` y `Superficie`"
   ]
  },
  {
   "cell_type": "code",
   "execution_count": 5,
   "id": "749a3e05-a13a-482e-8be6-16b372cf8df2",
   "metadata": {},
   "outputs": [],
   "source": [
    "data['Área construida'] = data['Área construida'].str.replace('m²','')\n",
    "data['Superficie'] = data['Superficie'].str.replace('m²','')\n",
    "data['Área construida'] = data['Área construida'].astype(float)\n",
    "data['Superficie'] = data['Superficie'].astype(float)\n",
    "\n"
   ]
  },
  {
   "cell_type": "code",
   "execution_count": 8,
   "id": "2f6206a7-2632-4835-a12b-6a63d49d1ccf",
   "metadata": {},
   "outputs": [
    {
     "data": {
      "text/plain": [
       "(dtype('float64'), dtype('float64'))"
      ]
     },
     "execution_count": 8,
     "metadata": {},
     "output_type": "execute_result"
    }
   ],
   "source": [
    "data['Área construida'].dtype,data['Superficie'].dtype"
   ]
  },
  {
   "cell_type": "markdown",
   "id": "fd09481b-cea6-46f6-a7b1-4aba96fe9629",
   "metadata": {},
   "source": [
    "- por ultimo veamos el precio"
   ]
  },
  {
   "cell_type": "code",
   "execution_count": 9,
   "id": "b2a4dd07-eba3-45dc-bfea-43d0ef0f9d1c",
   "metadata": {},
   "outputs": [
    {
     "data": {
      "text/plain": [
       "array(['460.000.000', '170.000.000', '240.000.000', '385.000.000',\n",
       "       '268.000.000', '235.000.000', '245.000.000', '290.000.000',\n",
       "       '370.000.000', '220.000.000', '580.000.000', '255.000.000',\n",
       "       '531.000.000', '380.000.000', '280.000.000', '327.000.000',\n",
       "       '262.900.000', '230.000.000', '160.000.000', '250.000.000',\n",
       "       '120.000.000', '327.700.000', '202.900.000', '201.900.000',\n",
       "       '320.000.000', '575.000.000', '450.000.000', '260.000.000',\n",
       "       '140.000.000', '420.000.000', '185.000.000', '340.000.000',\n",
       "       '210.000.000', '215.000.000', '265.000.000', '600.000.000',\n",
       "       '410.000.000', '238.000.000', '299.000.000', '500.000.000',\n",
       "       '175.000.000', '350.000.002', '165.000.000', '253.000.000',\n",
       "       '330.000.000', '457.700.000', '315.000.000', '390.000.000',\n",
       "       '435.000.000', '400.000.000', '200.000.000', '300.000.000',\n",
       "       '225.000.000', '180.000.000', '310.000.000', '350.000.000',\n",
       "       '195.000.000', '650.000.000', '415.000.000', '288.000.000',\n",
       "       '228.000.000', '395.000.000', '770.000.000', '850.000.000',\n",
       "       '190.000.000', '270.000.000', '406.000.000', '507.200.000',\n",
       "       '173.460.000', '1.200.000.000', '239.999.000', '135.000.000',\n",
       "       '158.000.000', '480.000.000', '430.000.000', '535.000.000',\n",
       "       '360.000.000', '285.000.000', '295.000.000', '130.000.000',\n",
       "       '199.129.500', '273.000.000', '483.000.000', '477.000.000',\n",
       "       '519.000.000', '2.000.000.000', '233.943.500', '520.000.000',\n",
       "       '446.925.000', '278.000.000', '1.900.000.000', '248.000.000',\n",
       "       '$380M', '$330M', '$145M', '$375M', '$239M', '$178M', '$192M',\n",
       "       '$150M', '$450M', '$220M', '$195M', '$130M', '$320M', '$430M',\n",
       "       '455.000.000', '234.000.000', '325.000.000', '690.000.000',\n",
       "       '392.000.000', '$460M', '$199M', '$325M', '$271M', '$300M',\n",
       "       '$286M', '$160M', '$270M', '$435M', '$250M', '$440M', '$570M',\n",
       "       '$215M', '$170M', '$210M', '$235M', '$260M', '$753M', '$1.900M',\n",
       "       '$218M', '$280M', '$350M', '$90M', '$240M', nan, '$232M', '$515M',\n",
       "       '$180M', '$483M', '$115M', '$477M', '$415M', '$219M', '$175M',\n",
       "       '$340M', '$360M', '$229M', '$155M', '$230M', '$200M', '$225M',\n",
       "       '$356M', '$420M', '$390M', '$550M', '$250.000M', '$140M', '$165M',\n",
       "       '$185M', '$400M', '$245M', '$120M', '$152M', '$305M', '$500M',\n",
       "       '$302M', '$174M', '$100M', '$113M', '$143M', '$190M', '$485M',\n",
       "       '$285M', '$395M', '$410M', '$650M', '$458M', '$850M', '$290M',\n",
       "       '$480M', '$490M', '$268M', '$124M', '$252M', '$275M', '$147M',\n",
       "       '$475M', '$149M', '$265M', '$171M', '$255M', '$315M', '$227M',\n",
       "       '$385M', '$740M', '$238M', '$511M', '$575M', '$211M', '$310M',\n",
       "       '$217M', '$110M', '$1.250M'], dtype=object)"
      ]
     },
     "execution_count": 9,
     "metadata": {},
     "output_type": "execute_result"
    }
   ],
   "source": [
    "data['precio'].unique()"
   ]
  },
  {
   "cell_type": "code",
   "execution_count": 33,
   "id": "be58ad04-fee0-4ebd-b1b6-8adb422f2521",
   "metadata": {},
   "outputs": [],
   "source": [
    "def precios(x):\n",
    "    # Convertir el valor a cadena si no lo es\n",
    "    if not isinstance(x, str):\n",
    "        x = str(x)\n",
    "    # Elimino los elementos que tengan '.'\n",
    "    if '.' in x:\n",
    "        x = x.replace('.','')\n",
    "    # Transformo lo elementos con esas caractericas \n",
    "    if '$' in x and 'M' in x:\n",
    "        x = x.replace('M','000000').strip('$')\n",
    "    try:\n",
    "        return int(x)\n",
    "    except ValueError:\n",
    "        return x"
   ]
  },
  {
   "cell_type": "code",
   "execution_count": 36,
   "id": "15d546e8-5020-46ef-8319-b3eb9475cf2f",
   "metadata": {},
   "outputs": [],
   "source": [
    "data['precio'] = data['precio'].apply(precios).astype(float)"
   ]
  },
  {
   "cell_type": "code",
   "execution_count": 39,
   "id": "009a4a78-f4b6-49de-92a5-ad7a13f1474c",
   "metadata": {},
   "outputs": [
    {
     "data": {
      "text/plain": [
       "dtype('float64')"
      ]
     },
     "execution_count": 39,
     "metadata": {},
     "output_type": "execute_result"
    }
   ],
   "source": [
    "data['precio'].dtype"
   ]
  },
  {
   "cell_type": "code",
   "execution_count": 40,
   "id": "991fd880-12f2-4ac5-bd51-ebdc3eb7a510",
   "metadata": {},
   "outputs": [
    {
     "data": {
      "text/plain": [
       "url                        object\n",
       "Tipo de anuncio            object\n",
       "Tipo de propiedad          object\n",
       "Habitaciones              float64\n",
       "Baños                     float64\n",
       "Superficie                float64\n",
       "Área construida           float64\n",
       "Piso                      float64\n",
       "Estrato                   float64\n",
       "precio                    float64\n",
       "latitud                    object\n",
       "longitud                   object\n",
       "ubicacion                  object\n",
       "Año de construcción       float64\n",
       "Baño de visitas           float64\n",
       "Superficie del terreno     object\n",
       "Parqueadero                object\n",
       "Orientación                object\n",
       "dtype: object"
      ]
     },
     "execution_count": 40,
     "metadata": {},
     "output_type": "execute_result"
    }
   ],
   "source": [
    "data.dtypes"
   ]
  },
  {
   "cell_type": "code",
   "execution_count": 41,
   "id": "166d6282-b3c6-45f8-9403-d86c3e3cf870",
   "metadata": {},
   "outputs": [],
   "source": [
    "data.to_csv('data_trovit_p.csv')"
   ]
  },
  {
   "cell_type": "code",
   "execution_count": null,
   "id": "533e0974-f57b-4e2d-b0ac-16fa73d88d57",
   "metadata": {},
   "outputs": [],
   "source": []
  }
 ],
 "metadata": {
  "kernelspec": {
   "display_name": "Python 3 (ipykernel)",
   "language": "python",
   "name": "python3"
  },
  "language_info": {
   "codemirror_mode": {
    "name": "ipython",
    "version": 3
   },
   "file_extension": ".py",
   "mimetype": "text/x-python",
   "name": "python",
   "nbconvert_exporter": "python",
   "pygments_lexer": "ipython3",
   "version": "3.11.5"
  }
 },
 "nbformat": 4,
 "nbformat_minor": 5
}
