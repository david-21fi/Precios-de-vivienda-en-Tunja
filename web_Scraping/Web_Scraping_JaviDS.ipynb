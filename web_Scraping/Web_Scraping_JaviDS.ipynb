{
 "cells": [
  {
   "cell_type": "code",
   "execution_count": 1,
   "id": "c75d7985",
   "metadata": {},
   "outputs": [],
   "source": [
    "from bs4 import BeautifulSoup as bs\n",
    "\n",
    "## Esta\n",
    "\n",
    "import random\n",
    "\n",
    "## Para usar números aleatorios. Esta no era tan complicada\n",
    "import time\n",
    "\n",
    "import pandas as pd\n",
    "import numpy as np\n",
    "from selenium import webdriver\n",
    "from selenium.webdriver.common.by import By\n",
    "from selenium.webdriver.common.keys import Keys\n",
    "\n",
    "## Esta es la manera para usar selenium normal, pero nosotros tenemos que parecer humanos.\n",
    "## Por eso, usamos la siguiente librería.\n",
    "\n",
    "import undetected_chromedriver as uc\n",
    "\n",
    "## La persona que desarrolló esto es un crack. Configuró todos los proxies y\n",
    "## demás (digo demás porque no se qué brujería ha usado) para ser indetectable.\n",
    "## Usaremos este browser."
   ]
  },
  {
   "cell_type": "code",
   "execution_count": 2,
   "id": "fba3b412-736f-45e5-8603-577e64cd0332",
   "metadata": {},
   "outputs": [],
   "source": [
    "import re"
   ]
  },
  {
   "cell_type": "markdown",
   "id": "cfaeb685",
   "metadata": {},
   "source": [
    "Empecemos iniciando el explorador"
   ]
  },
  {
   "cell_type": "code",
   "execution_count": 12,
   "id": "2676610d",
   "metadata": {},
   "outputs": [],
   "source": [
    "browser = uc.Chrome()"
   ]
  },
  {
   "cell_type": "markdown",
   "id": "8ea561b9",
   "metadata": {},
   "source": [
    "Bien!\n",
    "\n",
    "Ahora, vayamos a una casa que queramos scrapear. Yo he seleccionado esta, pero pon la que prefieras."
   ]
  },
  {
   "cell_type": "code",
   "execution_count": 5,
   "id": "90cff4d9",
   "metadata": {},
   "outputs": [],
   "source": [
    "url = \"https://www.inmobiliariaeskala.com/propiedades/casa/sogamoso/vende-casa-sogamoso-urb-la-castellana/\"\n"
   ]
  },
  {
   "cell_type": "markdown",
   "id": "a184ad7a",
   "metadata": {},
   "source": [
    "Vayamos a esa casa"
   ]
  },
  {
   "cell_type": "code",
   "execution_count": 6,
   "id": "62590fad",
   "metadata": {},
   "outputs": [],
   "source": [
    "browser.get(url)"
   ]
  },
  {
   "cell_type": "markdown",
   "id": "ad28825e",
   "metadata": {},
   "source": [
    "Vaya, hay que pulsar las cookies! No puedes hacer click en nada de la información hasta que no la pulses.\n",
    "\n",
    "No te preocupes, buscamos el xpath como en el video y hacemos click en él.\n",
    "\n",
    "(También puedes hacer click manualmente. Nadie se va a enterar)"
   ]
  },
  {
   "cell_type": "code",
   "execution_count": 16,
   "id": "d818cda0",
   "metadata": {},
   "outputs": [],
   "source": [
    "## browser.find_element(\"xpath\",'//*[@id=\"didomi-notice-agree-button\"]').click()"
   ]
  },
  {
   "cell_type": "markdown",
   "id": "189d3926",
   "metadata": {},
   "source": [
    "Ahora, vamos a sacar el html de la página."
   ]
  },
  {
   "cell_type": "code",
   "execution_count": 12,
   "id": "666f59da",
   "metadata": {},
   "outputs": [],
   "source": [
    "html = browser.page_source\n"
   ]
  },
  {
   "cell_type": "markdown",
   "id": "3cb2b609",
   "metadata": {},
   "source": [
    "Que feo queda no?\n",
    "\n",
    "Vamos a usar BeautifulSoup para dejarlo mucho mejor. Y apto para sacar info."
   ]
  },
  {
   "cell_type": "code",
   "execution_count": 15,
   "id": "c7eca1a8",
   "metadata": {},
   "outputs": [],
   "source": [
    "soup = bs(html,'html')"
   ]
  },
  {
   "cell_type": "code",
   "execution_count": 23,
   "id": "092af6b3-5f02-4347-aad0-686e21f55263",
   "metadata": {},
   "outputs": [],
   "source": [
    "datos = soup.find('div',{'class':'mh-estate__section mh-estate__section--attributes'})"
   ]
  },
  {
   "cell_type": "code",
   "execution_count": 24,
   "id": "c37414ee-a13f-4020-9a9d-0033e4adf5f3",
   "metadata": {},
   "outputs": [],
   "source": [
    "correr=datos.find_all('li')\n",
    "colums =[]\n",
    "data = []\n",
    "for i in correr:\n",
    "    dt = re.sub(r'\\s+', '',i.text)\n",
    "    tem =dt.split(':')\n",
    "    colums.append(tem[0])\n",
    "    data.append(tem[1])"
   ]
  },
  {
   "cell_type": "code",
   "execution_count": 73,
   "id": "d6e88fdb-13b0-44fc-9b3d-743496a8d599",
   "metadata": {},
   "outputs": [
    {
     "data": {
      "text/html": [
       "<div>\n",
       "<style scoped>\n",
       "    .dataframe tbody tr th:only-of-type {\n",
       "        vertical-align: middle;\n",
       "    }\n",
       "\n",
       "    .dataframe tbody tr th {\n",
       "        vertical-align: top;\n",
       "    }\n",
       "\n",
       "    .dataframe thead th {\n",
       "        text-align: right;\n",
       "    }\n",
       "</style>\n",
       "<table border=\"1\" class=\"dataframe\">\n",
       "  <thead>\n",
       "    <tr style=\"text-align: right;\">\n",
       "      <th></th>\n",
       "      <th>Tipodepropiedad</th>\n",
       "      <th>CódigoInmueble</th>\n",
       "      <th>Venta/Arriendo</th>\n",
       "      <th>Ciudad</th>\n",
       "      <th>Sector</th>\n",
       "      <th>Baños</th>\n",
       "      <th>Tamaño</th>\n",
       "      <th>TamañoLote</th>\n",
       "      <th>Urbanización</th>\n",
       "      <th>Valor</th>\n",
       "      <th>ValorNegociable</th>\n",
       "      <th>PermutaPor</th>\n",
       "    </tr>\n",
       "  </thead>\n",
       "  <tbody>\n",
       "    <tr>\n",
       "      <th>0</th>\n",
       "      <td>Casa</td>\n",
       "      <td>31213</td>\n",
       "      <td>Venta</td>\n",
       "      <td>Sogamoso</td>\n",
       "      <td>Centro</td>\n",
       "      <td>4</td>\n",
       "      <td>179.0m²</td>\n",
       "      <td>109.0m²</td>\n",
       "      <td>LaCastellana</td>\n",
       "      <td>$380.000.000</td>\n",
       "      <td>Si</td>\n",
       "      <td>ApartamentoenTunja</td>\n",
       "    </tr>\n",
       "  </tbody>\n",
       "</table>\n",
       "</div>"
      ],
      "text/plain": [
       "  Tipodepropiedad CódigoInmueble Venta/Arriendo    Ciudad  Sector Baños  \\\n",
       "0            Casa          31213          Venta  Sogamoso  Centro     4   \n",
       "\n",
       "    Tamaño TamañoLote  Urbanización         Valor ValorNegociable  \\\n",
       "0  179.0m²    109.0m²  LaCastellana  $380.000.000              Si   \n",
       "\n",
       "           PermutaPor  \n",
       "0  ApartamentoenTunja  "
      ]
     },
     "execution_count": 73,
     "metadata": {},
     "output_type": "execute_result"
    }
   ],
   "source": [
    "df = pd.DataFrame([data],columns=colums)\n",
    "df"
   ]
  },
  {
   "cell_type": "code",
   "execution_count": 30,
   "id": "e797b34f-3945-4849-ba85-8defa2a0e877",
   "metadata": {},
   "outputs": [
    {
     "data": {
      "text/plain": [
       "'\\n\\n\\n\\t\\t\\t\\t\\t\\t\\n\\t\\t\\t\\t\\t\\t\\tBaño Independiente\\n\\t\\t\\t\\t\\t\\t\\n\\n\\t\\t\\t\\t\\t\\n\\n\\n\\t\\t\\t\\t\\t\\t\\n\\t\\t\\t\\t\\t\\t\\tBaño Privado\\n\\t\\t\\t\\t\\t\\t\\n\\n\\t\\t\\t\\t\\t\\n\\n\\n\\t\\t\\t\\t\\t\\t\\n\\t\\t\\t\\t\\t\\t\\tCocina Integral\\n\\t\\t\\t\\t\\t\\t\\n\\n\\t\\t\\t\\t\\t\\n\\n\\n\\t\\t\\t\\t\\t\\t\\n\\t\\t\\t\\t\\t\\t\\tColegios/Universidades\\n\\t\\t\\t\\t\\t\\t\\n\\n\\t\\t\\t\\t\\t\\n\\n\\n\\t\\t\\t\\t\\t\\t\\n\\t\\t\\t\\t\\t\\t\\tGaraje\\n\\t\\t\\t\\t\\t\\t\\n\\n\\t\\t\\t\\t\\t\\n\\n\\n\\t\\t\\t\\t\\t\\t\\n\\t\\t\\t\\t\\t\\t\\tIluminación natural\\n\\t\\t\\t\\t\\t\\t\\n\\n\\t\\t\\t\\t\\t\\n\\n\\n\\t\\t\\t\\t\\t\\t\\n\\t\\t\\t\\t\\t\\t\\tPredio Urbano\\n\\t\\t\\t\\t\\t\\t\\n\\n\\t\\t\\t\\t\\t\\n\\n\\n\\t\\t\\t\\t\\t\\t\\n\\t\\t\\t\\t\\t\\t\\tZona Residencial\\n\\t\\t\\t\\t\\t\\t\\n\\n\\t\\t\\t\\t\\t\\n'"
      ]
     },
     "execution_count": 30,
     "metadata": {},
     "output_type": "execute_result"
    }
   ],
   "source": [
    "caracteristicas = soup.find_all('ul',{'class':'mh-estate__list__inner'})\n",
    "caracterist"
   ]
  },
  {
   "cell_type": "code",
   "execution_count": 29,
   "id": "a32992fd-56db-45b8-b914-891e5f45e33a",
   "metadata": {},
   "outputs": [
    {
     "data": {
      "text/plain": [
       "3"
      ]
     },
     "execution_count": 29,
     "metadata": {},
     "output_type": "execute_result"
    }
   ],
   "source": [
    "caracter = soup.find('div',{'class':'mh-estate__section'})\n",
    "len(caracter)"
   ]
  },
  {
   "cell_type": "code",
   "execution_count": null,
   "id": "c6c1fc8c",
   "metadata": {},
   "outputs": [],
   "source": [
    "localizacion = soup.find('span',{'class':'main-info__title-minor'}).text.split(',')[0]\n",
    "localizacion"
   ]
  },
  {
   "cell_type": "code",
   "execution_count": null,
   "id": "f62e4574",
   "metadata": {},
   "outputs": [],
   "source": [
    "precio = int(soup.find('span',{'class':'txt-bold'}).text.replace('.',''))\n",
    "precio"
   ]
  },
  {
   "cell_type": "code",
   "execution_count": null,
   "id": "e0c2c452",
   "metadata": {},
   "outputs": [],
   "source": [
    "c1 = soup.find('div',{'class':'details-property'}).find('div',{'class': 'details-property-feature-one'})\n",
    "c1"
   ]
  },
  {
   "cell_type": "code",
   "execution_count": null,
   "id": "4c204f9c",
   "metadata": {},
   "outputs": [],
   "source": [
    "caract_basicas = [caract.text.strip() for caract in c1.find_all('li')]\n",
    "caract_basicas"
   ]
  },
  {
   "cell_type": "code",
   "execution_count": null,
   "id": "951d5349",
   "metadata": {},
   "outputs": [],
   "source": [
    "c2 = soup.find('div',{'class':'details-property'}).find('div',{'class': 'details-property-feature-two'})\n",
    "c2"
   ]
  },
  {
   "cell_type": "code",
   "execution_count": null,
   "id": "ae38b025",
   "metadata": {},
   "outputs": [],
   "source": [
    "caract_extra = [caract.text.strip() for caract in c2.find_all('li')]\n",
    "caract_extra"
   ]
  },
  {
   "cell_type": "code",
   "execution_count": null,
   "id": "3f560a8d",
   "metadata": {},
   "outputs": [],
   "source": [
    "ubicacion = soup.find('div',{'id':'headerMap'})\n",
    "ubicacion"
   ]
  },
  {
   "cell_type": "code",
   "execution_count": null,
   "id": "e55e9e46",
   "metadata": {},
   "outputs": [],
   "source": [
    "ubicacion_desg = [zona.text.strip() for zona in ubicacion.find_all('li')]\n",
    "ubicacion_desg"
   ]
  },
  {
   "cell_type": "markdown",
   "id": "5cdc0a00",
   "metadata": {},
   "source": [
    "Vale, ya hemos sacado todos los datos que queremos!\n",
    "\n",
    "Lo bueno es, que, si quieres, puedes sacar los datos que tú quieras."
   ]
  },
  {
   "cell_type": "markdown",
   "id": "0b7cd68f",
   "metadata": {},
   "source": [
    "## Casas de Tunja"
   ]
  },
  {
   "cell_type": "code",
   "execution_count": 13,
   "id": "b4b7c3a3",
   "metadata": {},
   "outputs": [],
   "source": [
    "url_grande = \"https://www.inmobiliariaeskala.com/propiedades/casa/tunja/\""
   ]
  },
  {
   "cell_type": "code",
   "execution_count": 14,
   "id": "508604db",
   "metadata": {},
   "outputs": [],
   "source": [
    "browser.get(url_grande)"
   ]
  },
  {
   "cell_type": "code",
   "execution_count": null,
   "id": "2a8bebb2",
   "metadata": {},
   "outputs": [],
   "source": [
    "##browser.find_element(\"xpath\",'//*[@id=\"didomi-notice-agree-button\"]').click()"
   ]
  },
  {
   "cell_type": "code",
   "execution_count": 15,
   "id": "7d799b22",
   "metadata": {},
   "outputs": [],
   "source": [
    "html = browser.page_source"
   ]
  },
  {
   "cell_type": "code",
   "execution_count": 16,
   "id": "54dc0ca4",
   "metadata": {},
   "outputs": [],
   "source": [
    "soup = bs(html, 'html')\n"
   ]
  },
  {
   "cell_type": "code",
   "execution_count": 17,
   "id": "b4197569",
   "metadata": {},
   "outputs": [],
   "source": [
    "datos = soup.find('div',{'class':'mh-layout__content-right'}).find_all('div',{'class':'mh-estate-vertical__content'})"
   ]
  },
  {
   "cell_type": "code",
   "execution_count": 25,
   "id": "de5bd01f-9517-4463-8546-15daf0f29741",
   "metadata": {},
   "outputs": [],
   "source": [
    "l = []\n",
    "for i in datos:\n",
    "    a = i.find('h3',{'class':'mh-estate-vertical__heading'}).text\n",
    "    l.append(a.lower().replace(' ','-'))"
   ]
  },
  {
   "cell_type": "code",
   "execution_count": 26,
   "id": "4639702c-81ac-48b7-96e9-814fbc5cca2f",
   "metadata": {},
   "outputs": [
    {
     "data": {
      "text/plain": [
       "['vende-casa-barrio-el-topo',\n",
       " 'vende-espectacular-casa-para-estrenar',\n",
       " 'arrienda-casa-en-las-quintas',\n",
       " 'vende-casa-en-conjunto-cerrado',\n",
       " 'vende-casa-barrio-cooservicios',\n",
       " 'vende-casa-barrio-la-calleja']"
      ]
     },
     "execution_count": 26,
     "metadata": {},
     "output_type": "execute_result"
    }
   ],
   "source": [
    "l"
   ]
  },
  {
   "cell_type": "code",
   "execution_count": 27,
   "id": "ff967121-cb25-4ca6-8fe4-83994d7e3e2a",
   "metadata": {},
   "outputs": [
    {
     "ename": "AttributeError",
     "evalue": "'NoneType' object has no attribute 'find_all'",
     "output_type": "error",
     "traceback": [
      "\u001b[0;31m---------------------------------------------------------------------------\u001b[0m",
      "\u001b[0;31mAttributeError\u001b[0m                            Traceback (most recent call last)",
      "Cell \u001b[0;32mIn[27], line 8\u001b[0m\n\u001b[1;32m      6\u001b[0m soup \u001b[38;5;241m=\u001b[39m bs(parce,\u001b[38;5;124m'\u001b[39m\u001b[38;5;124mhtml\u001b[39m\u001b[38;5;124m'\u001b[39m)\n\u001b[1;32m      7\u001b[0m datos \u001b[38;5;241m=\u001b[39m soup\u001b[38;5;241m.\u001b[39mfind(\u001b[38;5;124m'\u001b[39m\u001b[38;5;124mdiv\u001b[39m\u001b[38;5;124m'\u001b[39m,{\u001b[38;5;124m'\u001b[39m\u001b[38;5;124mclass\u001b[39m\u001b[38;5;124m'\u001b[39m:\u001b[38;5;124m'\u001b[39m\u001b[38;5;124mmh-estate__section mh-estate__section--attributes\u001b[39m\u001b[38;5;124m'\u001b[39m})\n\u001b[0;32m----> 8\u001b[0m correr\u001b[38;5;241m=\u001b[39mdatos\u001b[38;5;241m.\u001b[39mfind_all(\u001b[38;5;124m'\u001b[39m\u001b[38;5;124mli\u001b[39m\u001b[38;5;124m'\u001b[39m)\n\u001b[1;32m      9\u001b[0m colums \u001b[38;5;241m=\u001b[39m[]\n\u001b[1;32m     10\u001b[0m data \u001b[38;5;241m=\u001b[39m []\n",
      "\u001b[0;31mAttributeError\u001b[0m: 'NoneType' object has no attribute 'find_all'"
     ]
    }
   ],
   "source": [
    "\n",
    "for i in l:\n",
    "    url = f\"https://www.inmobiliariaeskala.com/propiedades/casa/tunja/{i}/\"\n",
    "    browser.get(url)\n",
    "    time.sleep(random.randint(10,12))\n",
    "    parce= browser.page_source\n",
    "    soup = bs(parce,'html')\n",
    "    datos = soup.find('div',{'class':'mh-estate__section mh-estate__section--attributes'})\n",
    "    correr=datos.find_all('li')\n",
    "    colums =[]\n",
    "    data = []\n",
    "    for i in correr:\n",
    "        dt = re.sub(r'\\s+', '',i.text)\n",
    "        tem =dt.split(':')\n",
    "        colums.append(tem[0])\n",
    "        data.append(tem[1])"
   ]
  },
  {
   "cell_type": "code",
   "execution_count": 33,
   "id": "3ab503cb-1224-4d80-a2c2-75dc9212dc05",
   "metadata": {},
   "outputs": [
    {
     "ename": "AttributeError",
     "evalue": "'NoneType' object has no attribute 'find_all'",
     "output_type": "error",
     "traceback": [
      "\u001b[0;31m---------------------------------------------------------------------------\u001b[0m",
      "\u001b[0;31mAttributeError\u001b[0m                            Traceback (most recent call last)",
      "Cell \u001b[0;32mIn[33], line 7\u001b[0m\n\u001b[1;32m      5\u001b[0m soup \u001b[38;5;241m=\u001b[39m bs(parce,\u001b[38;5;124m'\u001b[39m\u001b[38;5;124mhtml\u001b[39m\u001b[38;5;124m'\u001b[39m)\n\u001b[1;32m      6\u001b[0m datos \u001b[38;5;241m=\u001b[39m soup\u001b[38;5;241m.\u001b[39mfind(\u001b[38;5;124m'\u001b[39m\u001b[38;5;124mdiv\u001b[39m\u001b[38;5;124m'\u001b[39m,{\u001b[38;5;124m'\u001b[39m\u001b[38;5;124mclass\u001b[39m\u001b[38;5;124m'\u001b[39m:\u001b[38;5;124m'\u001b[39m\u001b[38;5;124mmh-estate__section mh-estate__section--attributes\u001b[39m\u001b[38;5;124m'\u001b[39m})\n\u001b[0;32m----> 7\u001b[0m correr\u001b[38;5;241m=\u001b[39mdatos\u001b[38;5;241m.\u001b[39mfind_all(\u001b[38;5;124m'\u001b[39m\u001b[38;5;124mli\u001b[39m\u001b[38;5;124m'\u001b[39m)\n\u001b[1;32m      8\u001b[0m colums \u001b[38;5;241m=\u001b[39m[]\n\u001b[1;32m      9\u001b[0m data \u001b[38;5;241m=\u001b[39m []\n",
      "\u001b[0;31mAttributeError\u001b[0m: 'NoneType' object has no attribute 'find_all'"
     ]
    }
   ],
   "source": [
    "url = f\"https://www.inmobiliariaeskala.com/propiedades/casa/tunja/{l[1]}/\"\n",
    "browser.get(url)\n",
    "time.sleep(random.randint(10,12))\n",
    "parce= browser.page_source\n",
    "soup = bs(parce,'html')\n",
    "datos = soup.find('div',{'class':'mh-estate__section mh-estate__section--attributes'})\n",
    "correr=datos.find_all('li')\n",
    "colums =[]\n",
    "data = []\n",
    "for i in correr:\n",
    "    dt = re.sub(r'\\s+', '',i.text)\n",
    "    tem =dt.split(':')\n",
    "    colums.append(tem[0])\n",
    "    data.append(tem[1])"
   ]
  },
  {
   "cell_type": "code",
   "execution_count": 32,
   "id": "65e6d226-0986-47f8-92b2-d480f5b7b982",
   "metadata": {},
   "outputs": [
    {
     "data": {
      "text/plain": [
       "['Tipodepropiedad',\n",
       " 'CódigoInmueble',\n",
       " 'Venta/Arriendo',\n",
       " 'Ciudad',\n",
       " 'Sector',\n",
       " 'Baños',\n",
       " 'Tamaño',\n",
       " 'TamañoLote',\n",
       " 'Estrato',\n",
       " 'Valor',\n",
       " 'PrecioNegociable']"
      ]
     },
     "execution_count": 32,
     "metadata": {},
     "output_type": "execute_result"
    }
   ],
   "source": [
    "colums"
   ]
  },
  {
   "cell_type": "code",
   "execution_count": null,
   "id": "fa29522f",
   "metadata": {},
   "outputs": [],
   "source": [
    "id_muebles = [article.get('data-adid') for article in articles]\n",
    "id_muebles"
   ]
  },
  {
   "cell_type": "markdown",
   "id": "096bef72",
   "metadata": {},
   "source": [
    "Filtramos los nones:"
   ]
  },
  {
   "cell_type": "code",
   "execution_count": null,
   "id": "0defc5e5",
   "metadata": {},
   "outputs": [],
   "source": [
    "id_muebles = [muebles for muebles in id_muebles if muebles is not None]\n",
    "id_muebles"
   ]
  },
  {
   "cell_type": "markdown",
   "id": "42e02327",
   "metadata": {},
   "source": [
    "Ahora que tenemos los ids de **una**, toca repetir este proceso para cada página de nuestra zona. Este proceso lo explico muy bien en el video."
   ]
  },
  {
   "cell_type": "code",
   "execution_count": null,
   "id": "ad8b2ee3",
   "metadata": {},
   "outputs": [],
   "source": [
    "busqueda = 'los remedios'\n",
    "\n",
    "busqueda = busqueda.replace(' ','-')\n",
    "\n",
    "x=1\n",
    "ids = []\n",
    "\n",
    "while True:\n",
    "    \n",
    "    url = f'https://www.idealista.com/venta-viviendas/sevilla/{busqueda}/pagina-{x}.htm'\n",
    "    \n",
    "    browser.get(url)\n",
    "    \n",
    "    time.sleep(random.randint(10,12))\n",
    "    \n",
    "    try:\n",
    "        \n",
    "        browser.find_element(\"xpath\",'//*[@id=\"didomi-notice-agree-button\"]').click()\n",
    "    except:\n",
    "        pass\n",
    "    \n",
    "    html = browser.page_source\n",
    "    \n",
    "    soup = bs(html, 'lxml')\n",
    "    \n",
    "    pagina_actual = int(soup.find('main',{'class':'listing-items'}).find('div',{'class':'pagination'}).find('li',{'class':'selected'}).text)\n",
    "    \n",
    "    if x == pagina_actual:\n",
    "\n",
    "        articles = soup.find('main',{'class':'listing-items'}).find_all('article')\n",
    "\n",
    "    else:\n",
    "        break\n",
    "    \n",
    "    x = x+1\n",
    "    \n",
    "    for article in articles:\n",
    "        \n",
    "        id_muebles = article.get('data-adid')\n",
    "        \n",
    "        ids.append(id_muebles)\n",
    "        \n",
    "        time.sleep(random.randint(1,3))\n",
    "        print(id_muebles)\n",
    "    \n",
    "    ids = [muebles for muebles in ids if muebles is not None]"
   ]
  },
  {
   "cell_type": "code",
   "execution_count": null,
   "id": "7edd0a13",
   "metadata": {},
   "outputs": [],
   "source": [
    "ids_casas = pd.DataFrame(ids)\n",
    "ids_casas.columns = ['id']\n",
    "ids_casas"
   ]
  },
  {
   "cell_type": "markdown",
   "id": "0244d1ab",
   "metadata": {},
   "source": [
    "Olé! Vamos a guardar estos ids para no perderlos.\n",
    "\n",
    "Lo gradaremos en un csv.\n",
    "\n",
    "Ojo al truqui de index= False!"
   ]
  },
  {
   "cell_type": "code",
   "execution_count": null,
   "id": "cd31685d",
   "metadata": {},
   "outputs": [],
   "source": [
    "ids_casas.to_csv('ids_casas.csv',index = False)"
   ]
  },
  {
   "cell_type": "markdown",
   "id": "b4e9cb7a",
   "metadata": {},
   "source": [
    "Ahora vamos a usar una técina muy utilizada en programación: crear algo vacío e ir rellenandolo.\n",
    "\n",
    "En este caso, creamos una serie llamada **casas** a la que vamos a ir añadiendo los datos scrapeados.\n",
    "\n",
    "Esta serie la pasamos a dataframe y vamos concatenandolas."
   ]
  },
  {
   "cell_type": "code",
   "execution_count": null,
   "id": "4ef9c049",
   "metadata": {},
   "outputs": [],
   "source": [
    "casas = pd.Series()"
   ]
  },
  {
   "cell_type": "markdown",
   "id": "035bebbc",
   "metadata": {},
   "source": [
    "Aquí tienes la función. He dejado algunos prints comentados, descoméntalos si quieres verlos mientras scrapeamos."
   ]
  },
  {
   "cell_type": "code",
   "execution_count": null,
   "id": "186b6566",
   "metadata": {},
   "outputs": [],
   "source": [
    "def parsear_inmueble(id_inmueble):\n",
    "    \n",
    "    print( '\\n Casa numero: ' + id_inmueble)\n",
    "    \n",
    "    url = \"https://www.idealista.com/inmueble/\" + id_inmueble + \"/\"\n",
    "    \n",
    "    browser.get(url)\n",
    "\n",
    "    html = browser.page_source\n",
    "    \n",
    "    soup = bs(html, 'lxml')\n",
    "\n",
    "    titulo = soup.find('span',{'class':'main-info__title-main'}).text\n",
    "    \n",
    "    print('\\n Titulo: ' + titulo)\n",
    "    \n",
    "    localizacion = soup.find('span',{'class':'main-info__title-minor'}).text.split(',')[0]\n",
    "\n",
    "    print('\\n Localizacion: ' + localizacion)\n",
    "    precio = int(soup.find('span',{'class':'txt-bold'}).text.replace('.',''))\n",
    "\n",
    "    c1 = soup.find('div',{'class':'details-property'}).find('div',{'class': 'details-property-feature-one'})\n",
    "\n",
    "    caract_basicas = [caract.text.strip() for caract in c1.find_all('li')]\n",
    "    \n",
    "    #print('Caracteristicas basicas:' + caract_basicas)\n",
    "\n",
    "    c2 = soup.find('div',{'class':'details-property'}).find('div',{'class': 'details-property-feature-two'})\n",
    "\n",
    "    caract_extra = [caract.text.strip() for caract in c2.find_all('li')]\n",
    "    \n",
    "    #print('Caracteristicas extras:' + caract_extra)\n",
    "    \n",
    "    casas['titulo'] = titulo\n",
    "    \n",
    "    casas['localizacion'] = localizacion\n",
    "    \n",
    "    casas['precio'] = precio\n",
    "    \n",
    "    casas['caracteristicas_basicas'] = caract_basicas\n",
    "    \n",
    "    casas['caracteristicas_extras'] = caract_extra\n",
    "    \n",
    "    df_casas = pd.DataFrame(casas)\n",
    "    \n",
    "    return(df_casas.T)"
   ]
  },
  {
   "cell_type": "code",
   "execution_count": null,
   "id": "c32f21dc",
   "metadata": {},
   "outputs": [],
   "source": [
    "df_casas = parsear_inmueble(ids_casas.iloc[0].id)\n",
    "\n",
    "for i in range(1,len(ids)):\n",
    "    \n",
    "    df_casas = pd.concat([df_casas,parsear_inmueble(ids[i])])\n",
    "    \n",
    "    time.sleep(random.randint(4,8))"
   ]
  },
  {
   "cell_type": "markdown",
   "id": "bb2a193b",
   "metadata": {},
   "source": [
    "A ver si funciona..."
   ]
  },
  {
   "cell_type": "code",
   "execution_count": null,
   "id": "ec775800",
   "metadata": {},
   "outputs": [],
   "source": [
    "df_casas"
   ]
  },
  {
   "cell_type": "markdown",
   "id": "6a278684",
   "metadata": {},
   "source": [
    "Perfecto! reseteemos el índice y guardemos estos datos en otro csv."
   ]
  },
  {
   "cell_type": "code",
   "execution_count": null,
   "id": "51161009",
   "metadata": {},
   "outputs": [],
   "source": [
    "df_casas.reset_index(drop=True, inplace=True)"
   ]
  },
  {
   "cell_type": "code",
   "execution_count": null,
   "id": "300c5dc5",
   "metadata": {},
   "outputs": [],
   "source": [
    "df_casas"
   ]
  },
  {
   "cell_type": "code",
   "execution_count": null,
   "id": "b082624d",
   "metadata": {},
   "outputs": [],
   "source": [
    "df_casas.to_csv('casas_idealista.csv', index = False, sep = ';', encoding = 'utf-16')"
   ]
  }
 ],
 "metadata": {
  "kernelspec": {
   "display_name": "Python 3 (ipykernel)",
   "language": "python",
   "name": "python3"
  },
  "language_info": {
   "codemirror_mode": {
    "name": "ipython",
    "version": 3
   },
   "file_extension": ".py",
   "mimetype": "text/x-python",
   "name": "python",
   "nbconvert_exporter": "python",
   "pygments_lexer": "ipython3",
   "version": "3.11.5"
  }
 },
 "nbformat": 4,
 "nbformat_minor": 5
}
