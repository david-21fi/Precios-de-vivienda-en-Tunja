{
 "cells": [
  {
   "cell_type": "markdown",
   "id": "7e11d28d-3709-4dad-bdbf-716590117816",
   "metadata": {},
   "source": [
    "## Vamos a realizar el preprocesado de los datos, para que nos permitan trabajar con ellos"
   ]
  },
  {
   "cell_type": "code",
   "execution_count": 1,
   "id": "143c9da6-ea03-4f05-ac85-11fb55ef6a1e",
   "metadata": {},
   "outputs": [],
   "source": [
    "import pandas as pd\n",
    "import numpy as np\n",
    "import matplotlib.pyplot as plt"
   ]
  },
  {
   "cell_type": "code",
   "execution_count": 2,
   "id": "46f98d4b-3065-4faf-b6c2-6c019d466521",
   "metadata": {},
   "outputs": [],
   "source": [
    "data = pd.read_csv('data_metro_cuadrado.csv')"
   ]
  },
  {
   "cell_type": "code",
   "execution_count": 5,
   "id": "9f583c24-1566-42ef-be57-cf39d3306bad",
   "metadata": {},
   "outputs": [
    {
     "name": "stdout",
     "output_type": "stream",
     "text": [
      "<class 'pandas.core.frame.DataFrame'>\n",
      "RangeIndex: 220 entries, 0 to 219\n",
      "Data columns (total 13 columns):\n",
      " #   Column                Non-Null Count  Dtype  \n",
      "---  ------                --------------  -----  \n",
      " 0   Habitaciones          220 non-null    int64  \n",
      " 1   Baños                 220 non-null    int64  \n",
      " 2   Estrato               220 non-null    int64  \n",
      " 3   Área_construida       220 non-null    int64  \n",
      " 4   Código inmueble       220 non-null    object \n",
      " 5   Barrio común          218 non-null    object \n",
      " 6   Precio                220 non-null    object \n",
      " 7   Antigüedad            220 non-null    object \n",
      " 8   Área construida       220 non-null    object \n",
      " 9   Área privada          220 non-null    object \n",
      " 10  Valor administración  113 non-null    object \n",
      " 11  Parqueaderos          176 non-null    float64\n",
      " 12  estado                211 non-null    object \n",
      "dtypes: float64(1), int64(4), object(8)\n",
      "memory usage: 22.5+ KB\n"
     ]
    }
   ],
   "source": [
    "data.info()"
   ]
  },
  {
   "cell_type": "markdown",
   "id": "8cf6f29d-e1eb-4f63-98e7-62b88730b916",
   "metadata": {},
   "source": [
    "- como vemos existen datos como precio que nos entereza que sean tipo numerico vallamos ello."
   ]
  },
  {
   "cell_type": "code",
   "execution_count": 9,
   "id": "e346ee33-fac9-476d-ab3c-16a71a4c13a6",
   "metadata": {},
   "outputs": [
    {
     "data": {
      "text/plain": [
       "0      $1.200.000.000\n",
       "1        $800.000.000\n",
       "2        $350.000.000\n",
       "3      $2.000.000.000\n",
       "4      $1.100.000.000\n",
       "            ...      \n",
       "215      $570.000.000\n",
       "216      $380.000.000\n",
       "217      $165.000.000\n",
       "218      $125.000.000\n",
       "219      $230.000.000\n",
       "Name: Precio, Length: 220, dtype: object"
      ]
     },
     "execution_count": 9,
     "metadata": {},
     "output_type": "execute_result"
    }
   ],
   "source": [
    "data['Precio']"
   ]
  },
  {
   "cell_type": "markdown",
   "id": "2f417b93-c895-4427-88ea-d219d363eddd",
   "metadata": {},
   "source": [
    "- eliminemos los valores de simbolo $ ,."
   ]
  },
  {
   "cell_type": "code",
   "execution_count": 12,
   "id": "cea2d520-9635-43e5-866a-a6eaec9d1b8a",
   "metadata": {},
   "outputs": [],
   "source": [
    "data['Precio'] = data['Precio'].str.replace('$','')"
   ]
  },
  {
   "cell_type": "code",
   "execution_count": 16,
   "id": "c93a941f-5182-4e52-bbd1-3fc575eb6549",
   "metadata": {},
   "outputs": [
    {
     "data": {
      "text/plain": [
       "'2.000.000.000'"
      ]
     },
     "execution_count": 16,
     "metadata": {},
     "output_type": "execute_result"
    }
   ],
   "source": [
    "data['Precio'].iloc[3]"
   ]
  },
  {
   "cell_type": "code",
   "execution_count": 17,
   "id": "e19d0a40-7012-46c0-a3dd-ed1795c41275",
   "metadata": {},
   "outputs": [
    {
     "data": {
      "text/plain": [
       "dtype('O')"
      ]
     },
     "execution_count": 17,
     "metadata": {},
     "output_type": "execute_result"
    }
   ],
   "source": [
    "data.Precio.dtype"
   ]
  },
  {
   "cell_type": "code",
   "execution_count": 20,
   "id": "ff4b8368-7554-42ca-9d10-4996e0648d96",
   "metadata": {},
   "outputs": [],
   "source": [
    "data['Precio'] = data['Precio'].str.replace('.','').astype(int)"
   ]
  },
  {
   "cell_type": "code",
   "execution_count": 21,
   "id": "dafb04e7-e39e-4d51-99d0-7d6d3456604c",
   "metadata": {},
   "outputs": [
    {
     "data": {
      "text/plain": [
       "dtype('int64')"
      ]
     },
     "execution_count": 21,
     "metadata": {},
     "output_type": "execute_result"
    }
   ],
   "source": [
    "data.Precio.dtype"
   ]
  },
  {
   "cell_type": "markdown",
   "id": "0db0e5dc-16aa-40cc-8ef6-238e63db852d",
   "metadata": {},
   "source": [
    "\n",
    "- Perfecto vallomos con los demas "
   ]
  },
  {
   "cell_type": "code",
   "execution_count": 22,
   "id": "17ea9c9b-170f-4490-9df5-04162ce07714",
   "metadata": {},
   "outputs": [
    {
     "data": {
      "text/html": [
       "<div>\n",
       "<style scoped>\n",
       "    .dataframe tbody tr th:only-of-type {\n",
       "        vertical-align: middle;\n",
       "    }\n",
       "\n",
       "    .dataframe tbody tr th {\n",
       "        vertical-align: top;\n",
       "    }\n",
       "\n",
       "    .dataframe thead th {\n",
       "        text-align: right;\n",
       "    }\n",
       "</style>\n",
       "<table border=\"1\" class=\"dataframe\">\n",
       "  <thead>\n",
       "    <tr style=\"text-align: right;\">\n",
       "      <th></th>\n",
       "      <th>Habitaciones</th>\n",
       "      <th>Baños</th>\n",
       "      <th>Estrato</th>\n",
       "      <th>Área_construida</th>\n",
       "      <th>Código inmueble</th>\n",
       "      <th>Barrio común</th>\n",
       "      <th>Precio</th>\n",
       "      <th>Antigüedad</th>\n",
       "      <th>Área construida</th>\n",
       "      <th>Área privada</th>\n",
       "      <th>Valor administración</th>\n",
       "      <th>Parqueaderos</th>\n",
       "      <th>estado</th>\n",
       "    </tr>\n",
       "  </thead>\n",
       "  <tbody>\n",
       "    <tr>\n",
       "      <th>0</th>\n",
       "      <td>5</td>\n",
       "      <td>3</td>\n",
       "      <td>4</td>\n",
       "      <td>386</td>\n",
       "      <td>16742-M4795726</td>\n",
       "      <td>Frente al Hotel hunza</td>\n",
       "      <td>1200000000</td>\n",
       "      <td>Más de 20 años</td>\n",
       "      <td>386 m²</td>\n",
       "      <td>386 m²</td>\n",
       "      <td>NaN</td>\n",
       "      <td>NaN</td>\n",
       "      <td>venta_casa</td>\n",
       "    </tr>\n",
       "    <tr>\n",
       "      <th>1</th>\n",
       "      <td>5</td>\n",
       "      <td>4</td>\n",
       "      <td>5</td>\n",
       "      <td>210</td>\n",
       "      <td>16742-M4795707</td>\n",
       "      <td>CONDOMINIO EL LAGO</td>\n",
       "      <td>800000000</td>\n",
       "      <td>Entre 10 y 20 años</td>\n",
       "      <td>210 m²</td>\n",
       "      <td>210 m²</td>\n",
       "      <td>$253.000</td>\n",
       "      <td>1.0</td>\n",
       "      <td>venta_casa</td>\n",
       "    </tr>\n",
       "    <tr>\n",
       "      <th>2</th>\n",
       "      <td>3</td>\n",
       "      <td>3</td>\n",
       "      <td>4</td>\n",
       "      <td>146</td>\n",
       "      <td>16742-M4795647</td>\n",
       "      <td>Tejarez del Norte</td>\n",
       "      <td>350000000</td>\n",
       "      <td>Entre 10 y 20 años</td>\n",
       "      <td>146 m²</td>\n",
       "      <td>146 m²</td>\n",
       "      <td>$230.000</td>\n",
       "      <td>1.0</td>\n",
       "      <td>venta_casa</td>\n",
       "    </tr>\n",
       "    <tr>\n",
       "      <th>3</th>\n",
       "      <td>5</td>\n",
       "      <td>5</td>\n",
       "      <td>4</td>\n",
       "      <td>480</td>\n",
       "      <td>13873-M3706524</td>\n",
       "      <td>Condominio Campestre Santa Elena</td>\n",
       "      <td>2000000000</td>\n",
       "      <td>Entre 10 y 20 años</td>\n",
       "      <td>480 m²</td>\n",
       "      <td>480 m²</td>\n",
       "      <td>$352.000</td>\n",
       "      <td>4.0</td>\n",
       "      <td>venta_casa</td>\n",
       "    </tr>\n",
       "    <tr>\n",
       "      <th>4</th>\n",
       "      <td>5</td>\n",
       "      <td>5</td>\n",
       "      <td>5</td>\n",
       "      <td>420</td>\n",
       "      <td>16742-M4796230</td>\n",
       "      <td>LA MARIA</td>\n",
       "      <td>1100000000</td>\n",
       "      <td>Más de 20 años</td>\n",
       "      <td>420 m²</td>\n",
       "      <td>420 m²</td>\n",
       "      <td>NaN</td>\n",
       "      <td>1.0</td>\n",
       "      <td>venta_casa</td>\n",
       "    </tr>\n",
       "  </tbody>\n",
       "</table>\n",
       "</div>"
      ],
      "text/plain": [
       "   Habitaciones  Baños  Estrato  Área_construida Código inmueble  \\\n",
       "0             5      3        4              386  16742-M4795726   \n",
       "1             5      4        5              210  16742-M4795707   \n",
       "2             3      3        4              146  16742-M4795647   \n",
       "3             5      5        4              480  13873-M3706524   \n",
       "4             5      5        5              420  16742-M4796230   \n",
       "\n",
       "                       Barrio común      Precio          Antigüedad  \\\n",
       "0             Frente al Hotel hunza  1200000000      Más de 20 años   \n",
       "1                CONDOMINIO EL LAGO   800000000  Entre 10 y 20 años   \n",
       "2                 Tejarez del Norte   350000000  Entre 10 y 20 años   \n",
       "3  Condominio Campestre Santa Elena  2000000000  Entre 10 y 20 años   \n",
       "4                          LA MARIA  1100000000      Más de 20 años   \n",
       "\n",
       "  Área construida Área privada Valor administración  Parqueaderos      estado  \n",
       "0          386 m²       386 m²                  NaN           NaN  venta_casa  \n",
       "1          210 m²       210 m²             $253.000           1.0  venta_casa  \n",
       "2          146 m²       146 m²             $230.000           1.0  venta_casa  \n",
       "3          480 m²       480 m²             $352.000           4.0  venta_casa  \n",
       "4          420 m²       420 m²                  NaN           1.0  venta_casa  "
      ]
     },
     "execution_count": 22,
     "metadata": {},
     "output_type": "execute_result"
    }
   ],
   "source": [
    "data.head()"
   ]
  },
  {
   "cell_type": "markdown",
   "id": "4a016625-6660-42f2-810f-1dbf7687c978",
   "metadata": {},
   "source": [
    "- ahora para Area construida y Privada eliminaremos los m2"
   ]
  },
  {
   "cell_type": "code",
   "execution_count": 27,
   "id": "3e01083c-b922-41a7-b230-7453dcc36cd6",
   "metadata": {},
   "outputs": [],
   "source": [
    "data['Área construida'] = data['Área construida'].str.replace(' m²','')"
   ]
  },
  {
   "cell_type": "code",
   "execution_count": 28,
   "id": "5bcfb0fa-390e-4eeb-a0db-859035c556f8",
   "metadata": {},
   "outputs": [
    {
     "data": {
      "text/plain": [
       "'386'"
      ]
     },
     "execution_count": 28,
     "metadata": {},
     "output_type": "execute_result"
    }
   ],
   "source": [
    "data['Área construida'].iloc[0]"
   ]
  },
  {
   "cell_type": "code",
   "execution_count": null,
   "id": "c5136f4b-4af2-4dae-b28e-2426b21a2903",
   "metadata": {},
   "outputs": [],
   "source": [
    "data['Área privada'] = data['Área privada'].str.replace(' m²','')"
   ]
  },
  {
   "cell_type": "code",
   "execution_count": 33,
   "id": "d13ff1cc-b047-4cc1-9b08-327768a61aa0",
   "metadata": {},
   "outputs": [],
   "source": [
    "data['Área construida'] = data['Área construida'].str.replace('.','').astype(int)\n",
    "data['Área privada'] = data['Área privada'].str.replace('.','').astype(int)"
   ]
  },
  {
   "cell_type": "code",
   "execution_count": 34,
   "id": "ca44f3a1-c3cd-448a-a213-21a18c82eb12",
   "metadata": {},
   "outputs": [
    {
     "data": {
      "text/html": [
       "<div>\n",
       "<style scoped>\n",
       "    .dataframe tbody tr th:only-of-type {\n",
       "        vertical-align: middle;\n",
       "    }\n",
       "\n",
       "    .dataframe tbody tr th {\n",
       "        vertical-align: top;\n",
       "    }\n",
       "\n",
       "    .dataframe thead th {\n",
       "        text-align: right;\n",
       "    }\n",
       "</style>\n",
       "<table border=\"1\" class=\"dataframe\">\n",
       "  <thead>\n",
       "    <tr style=\"text-align: right;\">\n",
       "      <th></th>\n",
       "      <th>Habitaciones</th>\n",
       "      <th>Baños</th>\n",
       "      <th>Estrato</th>\n",
       "      <th>Área_construida</th>\n",
       "      <th>Código inmueble</th>\n",
       "      <th>Barrio común</th>\n",
       "      <th>Precio</th>\n",
       "      <th>Antigüedad</th>\n",
       "      <th>Área construida</th>\n",
       "      <th>Área privada</th>\n",
       "      <th>Valor administración</th>\n",
       "      <th>Parqueaderos</th>\n",
       "      <th>estado</th>\n",
       "    </tr>\n",
       "  </thead>\n",
       "  <tbody>\n",
       "    <tr>\n",
       "      <th>0</th>\n",
       "      <td>5</td>\n",
       "      <td>3</td>\n",
       "      <td>4</td>\n",
       "      <td>386</td>\n",
       "      <td>16742-M4795726</td>\n",
       "      <td>Frente al Hotel hunza</td>\n",
       "      <td>1200000000</td>\n",
       "      <td>Más de 20 años</td>\n",
       "      <td>386</td>\n",
       "      <td>386</td>\n",
       "      <td>NaN</td>\n",
       "      <td>NaN</td>\n",
       "      <td>venta_casa</td>\n",
       "    </tr>\n",
       "    <tr>\n",
       "      <th>1</th>\n",
       "      <td>5</td>\n",
       "      <td>4</td>\n",
       "      <td>5</td>\n",
       "      <td>210</td>\n",
       "      <td>16742-M4795707</td>\n",
       "      <td>CONDOMINIO EL LAGO</td>\n",
       "      <td>800000000</td>\n",
       "      <td>Entre 10 y 20 años</td>\n",
       "      <td>210</td>\n",
       "      <td>210</td>\n",
       "      <td>$253.000</td>\n",
       "      <td>1.0</td>\n",
       "      <td>venta_casa</td>\n",
       "    </tr>\n",
       "    <tr>\n",
       "      <th>2</th>\n",
       "      <td>3</td>\n",
       "      <td>3</td>\n",
       "      <td>4</td>\n",
       "      <td>146</td>\n",
       "      <td>16742-M4795647</td>\n",
       "      <td>Tejarez del Norte</td>\n",
       "      <td>350000000</td>\n",
       "      <td>Entre 10 y 20 años</td>\n",
       "      <td>146</td>\n",
       "      <td>146</td>\n",
       "      <td>$230.000</td>\n",
       "      <td>1.0</td>\n",
       "      <td>venta_casa</td>\n",
       "    </tr>\n",
       "    <tr>\n",
       "      <th>3</th>\n",
       "      <td>5</td>\n",
       "      <td>5</td>\n",
       "      <td>4</td>\n",
       "      <td>480</td>\n",
       "      <td>13873-M3706524</td>\n",
       "      <td>Condominio Campestre Santa Elena</td>\n",
       "      <td>2000000000</td>\n",
       "      <td>Entre 10 y 20 años</td>\n",
       "      <td>480</td>\n",
       "      <td>480</td>\n",
       "      <td>$352.000</td>\n",
       "      <td>4.0</td>\n",
       "      <td>venta_casa</td>\n",
       "    </tr>\n",
       "    <tr>\n",
       "      <th>4</th>\n",
       "      <td>5</td>\n",
       "      <td>5</td>\n",
       "      <td>5</td>\n",
       "      <td>420</td>\n",
       "      <td>16742-M4796230</td>\n",
       "      <td>LA MARIA</td>\n",
       "      <td>1100000000</td>\n",
       "      <td>Más de 20 años</td>\n",
       "      <td>420</td>\n",
       "      <td>420</td>\n",
       "      <td>NaN</td>\n",
       "      <td>1.0</td>\n",
       "      <td>venta_casa</td>\n",
       "    </tr>\n",
       "  </tbody>\n",
       "</table>\n",
       "</div>"
      ],
      "text/plain": [
       "   Habitaciones  Baños  Estrato  Área_construida Código inmueble  \\\n",
       "0             5      3        4              386  16742-M4795726   \n",
       "1             5      4        5              210  16742-M4795707   \n",
       "2             3      3        4              146  16742-M4795647   \n",
       "3             5      5        4              480  13873-M3706524   \n",
       "4             5      5        5              420  16742-M4796230   \n",
       "\n",
       "                       Barrio común      Precio          Antigüedad  \\\n",
       "0             Frente al Hotel hunza  1200000000      Más de 20 años   \n",
       "1                CONDOMINIO EL LAGO   800000000  Entre 10 y 20 años   \n",
       "2                 Tejarez del Norte   350000000  Entre 10 y 20 años   \n",
       "3  Condominio Campestre Santa Elena  2000000000  Entre 10 y 20 años   \n",
       "4                          LA MARIA  1100000000      Más de 20 años   \n",
       "\n",
       "   Área construida  Área privada Valor administración  Parqueaderos  \\\n",
       "0              386           386                  NaN           NaN   \n",
       "1              210           210             $253.000           1.0   \n",
       "2              146           146             $230.000           1.0   \n",
       "3              480           480             $352.000           4.0   \n",
       "4              420           420                  NaN           1.0   \n",
       "\n",
       "       estado  \n",
       "0  venta_casa  \n",
       "1  venta_casa  \n",
       "2  venta_casa  \n",
       "3  venta_casa  \n",
       "4  venta_casa  "
      ]
     },
     "execution_count": 34,
     "metadata": {},
     "output_type": "execute_result"
    }
   ],
   "source": [
    "data.head()"
   ]
  },
  {
   "cell_type": "markdown",
   "id": "3476907a-690e-4716-ac53-11a27891c9f7",
   "metadata": {},
   "source": [
    "- por ultimo vallamos con elvalor administracion"
   ]
  },
  {
   "cell_type": "code",
   "execution_count": 40,
   "id": "84d30282-be1a-4360-8f68-770458e3bb40",
   "metadata": {},
   "outputs": [],
   "source": [
    "data['Valor administración'] = data['Valor administración'].str.replace('$','')\n",
    "data['Valor administración'] = data['Valor administración'].str.replace('.','')"
   ]
  },
  {
   "cell_type": "code",
   "execution_count": 53,
   "id": "80ce830a-376d-49da-88e9-1a089b0a9327",
   "metadata": {},
   "outputs": [
    {
     "data": {
      "text/plain": [
       "float"
      ]
     },
     "execution_count": 53,
     "metadata": {},
     "output_type": "execute_result"
    }
   ],
   "source": [
    "type(data['Valor administración'].iloc[0])"
   ]
  },
  {
   "cell_type": "code",
   "execution_count": 56,
   "id": "d7a90953-7714-4d2b-891d-a801190ff9d5",
   "metadata": {},
   "outputs": [],
   "source": [
    "data['Valor administración'] = data['Valor administración'].astype(float)"
   ]
  },
  {
   "cell_type": "code",
   "execution_count": 57,
   "id": "6d1ec79e-8ae9-485a-9028-e92a3d4fbda7",
   "metadata": {},
   "outputs": [
    {
     "data": {
      "text/html": [
       "<div>\n",
       "<style scoped>\n",
       "    .dataframe tbody tr th:only-of-type {\n",
       "        vertical-align: middle;\n",
       "    }\n",
       "\n",
       "    .dataframe tbody tr th {\n",
       "        vertical-align: top;\n",
       "    }\n",
       "\n",
       "    .dataframe thead th {\n",
       "        text-align: right;\n",
       "    }\n",
       "</style>\n",
       "<table border=\"1\" class=\"dataframe\">\n",
       "  <thead>\n",
       "    <tr style=\"text-align: right;\">\n",
       "      <th></th>\n",
       "      <th>Habitaciones</th>\n",
       "      <th>Baños</th>\n",
       "      <th>Estrato</th>\n",
       "      <th>Área_construida</th>\n",
       "      <th>Código inmueble</th>\n",
       "      <th>Barrio común</th>\n",
       "      <th>Precio</th>\n",
       "      <th>Antigüedad</th>\n",
       "      <th>Área construida</th>\n",
       "      <th>Área privada</th>\n",
       "      <th>Valor administración</th>\n",
       "      <th>Parqueaderos</th>\n",
       "      <th>estado</th>\n",
       "    </tr>\n",
       "  </thead>\n",
       "  <tbody>\n",
       "    <tr>\n",
       "      <th>0</th>\n",
       "      <td>5</td>\n",
       "      <td>3</td>\n",
       "      <td>4</td>\n",
       "      <td>386</td>\n",
       "      <td>16742-M4795726</td>\n",
       "      <td>Frente al Hotel hunza</td>\n",
       "      <td>1200000000</td>\n",
       "      <td>Más de 20 años</td>\n",
       "      <td>386</td>\n",
       "      <td>386</td>\n",
       "      <td>NaN</td>\n",
       "      <td>NaN</td>\n",
       "      <td>venta_casa</td>\n",
       "    </tr>\n",
       "    <tr>\n",
       "      <th>1</th>\n",
       "      <td>5</td>\n",
       "      <td>4</td>\n",
       "      <td>5</td>\n",
       "      <td>210</td>\n",
       "      <td>16742-M4795707</td>\n",
       "      <td>CONDOMINIO EL LAGO</td>\n",
       "      <td>800000000</td>\n",
       "      <td>Entre 10 y 20 años</td>\n",
       "      <td>210</td>\n",
       "      <td>210</td>\n",
       "      <td>253000.0</td>\n",
       "      <td>1.0</td>\n",
       "      <td>venta_casa</td>\n",
       "    </tr>\n",
       "    <tr>\n",
       "      <th>2</th>\n",
       "      <td>3</td>\n",
       "      <td>3</td>\n",
       "      <td>4</td>\n",
       "      <td>146</td>\n",
       "      <td>16742-M4795647</td>\n",
       "      <td>Tejarez del Norte</td>\n",
       "      <td>350000000</td>\n",
       "      <td>Entre 10 y 20 años</td>\n",
       "      <td>146</td>\n",
       "      <td>146</td>\n",
       "      <td>230000.0</td>\n",
       "      <td>1.0</td>\n",
       "      <td>venta_casa</td>\n",
       "    </tr>\n",
       "    <tr>\n",
       "      <th>3</th>\n",
       "      <td>5</td>\n",
       "      <td>5</td>\n",
       "      <td>4</td>\n",
       "      <td>480</td>\n",
       "      <td>13873-M3706524</td>\n",
       "      <td>Condominio Campestre Santa Elena</td>\n",
       "      <td>2000000000</td>\n",
       "      <td>Entre 10 y 20 años</td>\n",
       "      <td>480</td>\n",
       "      <td>480</td>\n",
       "      <td>352000.0</td>\n",
       "      <td>4.0</td>\n",
       "      <td>venta_casa</td>\n",
       "    </tr>\n",
       "    <tr>\n",
       "      <th>4</th>\n",
       "      <td>5</td>\n",
       "      <td>5</td>\n",
       "      <td>5</td>\n",
       "      <td>420</td>\n",
       "      <td>16742-M4796230</td>\n",
       "      <td>LA MARIA</td>\n",
       "      <td>1100000000</td>\n",
       "      <td>Más de 20 años</td>\n",
       "      <td>420</td>\n",
       "      <td>420</td>\n",
       "      <td>NaN</td>\n",
       "      <td>1.0</td>\n",
       "      <td>venta_casa</td>\n",
       "    </tr>\n",
       "  </tbody>\n",
       "</table>\n",
       "</div>"
      ],
      "text/plain": [
       "   Habitaciones  Baños  Estrato  Área_construida Código inmueble  \\\n",
       "0             5      3        4              386  16742-M4795726   \n",
       "1             5      4        5              210  16742-M4795707   \n",
       "2             3      3        4              146  16742-M4795647   \n",
       "3             5      5        4              480  13873-M3706524   \n",
       "4             5      5        5              420  16742-M4796230   \n",
       "\n",
       "                       Barrio común      Precio          Antigüedad  \\\n",
       "0             Frente al Hotel hunza  1200000000      Más de 20 años   \n",
       "1                CONDOMINIO EL LAGO   800000000  Entre 10 y 20 años   \n",
       "2                 Tejarez del Norte   350000000  Entre 10 y 20 años   \n",
       "3  Condominio Campestre Santa Elena  2000000000  Entre 10 y 20 años   \n",
       "4                          LA MARIA  1100000000      Más de 20 años   \n",
       "\n",
       "   Área construida  Área privada  Valor administración  Parqueaderos  \\\n",
       "0              386           386                   NaN           NaN   \n",
       "1              210           210              253000.0           1.0   \n",
       "2              146           146              230000.0           1.0   \n",
       "3              480           480              352000.0           4.0   \n",
       "4              420           420                   NaN           1.0   \n",
       "\n",
       "       estado  \n",
       "0  venta_casa  \n",
       "1  venta_casa  \n",
       "2  venta_casa  \n",
       "3  venta_casa  \n",
       "4  venta_casa  "
      ]
     },
     "execution_count": 57,
     "metadata": {},
     "output_type": "execute_result"
    }
   ],
   "source": [
    "data.head()"
   ]
  },
  {
   "cell_type": "code",
   "execution_count": 42,
   "id": "514b54db-8689-4162-a329-8d43b1167cc2",
   "metadata": {},
   "outputs": [
    {
     "name": "stdout",
     "output_type": "stream",
     "text": [
      "<class 'pandas.core.frame.DataFrame'>\n",
      "RangeIndex: 220 entries, 0 to 219\n",
      "Data columns (total 13 columns):\n",
      " #   Column                Non-Null Count  Dtype  \n",
      "---  ------                --------------  -----  \n",
      " 0   Habitaciones          220 non-null    int64  \n",
      " 1   Baños                 220 non-null    int64  \n",
      " 2   Estrato               220 non-null    int64  \n",
      " 3   Área_construida       220 non-null    int64  \n",
      " 4   Código inmueble       220 non-null    object \n",
      " 5   Barrio común          218 non-null    object \n",
      " 6   Precio                220 non-null    int64  \n",
      " 7   Antigüedad            220 non-null    object \n",
      " 8   Área construida       220 non-null    int64  \n",
      " 9   Área privada          220 non-null    int64  \n",
      " 10  Valor administración  113 non-null    object \n",
      " 11  Parqueaderos          176 non-null    float64\n",
      " 12  estado                211 non-null    object \n",
      "dtypes: float64(1), int64(7), object(5)\n",
      "memory usage: 22.5+ KB\n"
     ]
    }
   ],
   "source": [
    "data.info()"
   ]
  },
  {
   "cell_type": "code",
   "execution_count": 59,
   "id": "f61bd423-05f1-41a8-9358-1158dbb924f8",
   "metadata": {},
   "outputs": [
    {
     "data": {
      "text/plain": [
       "count    1.130000e+02\n",
       "mean     1.340014e+07\n",
       "std      5.724459e+07\n",
       "min      1.000000e+01\n",
       "25%      1.390000e+05\n",
       "50%      2.200000e+05\n",
       "75%      2.910000e+05\n",
       "max      4.200000e+08\n",
       "Name: Valor administración, dtype: float64"
      ]
     },
     "execution_count": 59,
     "metadata": {},
     "output_type": "execute_result"
    }
   ],
   "source": [
    "data['Valor administración'].describe()"
   ]
  },
  {
   "cell_type": "code",
   "execution_count": 60,
   "id": "33098472-0677-4158-9d52-e5d138ba03eb",
   "metadata": {},
   "outputs": [
    {
     "data": {
      "text/plain": [
       "420000000.0"
      ]
     },
     "execution_count": 60,
     "metadata": {},
     "output_type": "execute_result"
    }
   ],
   "source": [
    "data['Valor administración'].max()"
   ]
  },
  {
   "cell_type": "code",
   "execution_count": 61,
   "id": "e725ce4f-85b0-4855-8b67-5fcd2eedd3e2",
   "metadata": {},
   "outputs": [],
   "source": [
    "data.to_csv('metro_cuadrado/data_metro_cuadrado_p.csv',index=False)"
   ]
  },
  {
   "cell_type": "code",
   "execution_count": null,
   "id": "bc3c3d34-69c9-450c-8a2b-10c0c6db0aab",
   "metadata": {},
   "outputs": [],
   "source": []
  }
 ],
 "metadata": {
  "kernelspec": {
   "display_name": "Python 3 (ipykernel)",
   "language": "python",
   "name": "python3"
  },
  "language_info": {
   "codemirror_mode": {
    "name": "ipython",
    "version": 3
   },
   "file_extension": ".py",
   "mimetype": "text/x-python",
   "name": "python",
   "nbconvert_exporter": "python",
   "pygments_lexer": "ipython3",
   "version": "3.11.5"
  }
 },
 "nbformat": 4,
 "nbformat_minor": 5
}
