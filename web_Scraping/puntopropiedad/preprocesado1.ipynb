{
 "cells": [
  {
   "cell_type": "code",
   "execution_count": 1,
   "id": "6b8886e6-5a36-4857-a99f-b0b8d5bed8cd",
   "metadata": {},
   "outputs": [],
   "source": [
    "import pandas as pd\n",
    "import numpy as np"
   ]
  },
  {
   "cell_type": "code",
   "execution_count": 2,
   "id": "9310743d-c02c-4fc3-8120-6922a435b014",
   "metadata": {},
   "outputs": [],
   "source": [
    "data = pd.read_csv('data_punto_propiedad.csv')"
   ]
  },
  {
   "cell_type": "code",
   "execution_count": 3,
   "id": "5ce18353-39b4-421f-b55a-24791c21f81c",
   "metadata": {},
   "outputs": [
    {
     "name": "stdout",
     "output_type": "stream",
     "text": [
      "<class 'pandas.core.frame.DataFrame'>\n",
      "RangeIndex: 136 entries, 0 to 135\n",
      "Data columns (total 12 columns):\n",
      " #   Column      Non-Null Count  Dtype  \n",
      "---  ------      --------------  -----  \n",
      " 0   path        136 non-null    object \n",
      " 1   tipo        136 non-null    object \n",
      " 2   estado      136 non-null    object \n",
      " 3   ubicacion   136 non-null    object \n",
      " 4   url         136 non-null    object \n",
      " 5   habitacion  136 non-null    object \n",
      " 6   baño        136 non-null    object \n",
      " 7   dimension   136 non-null    object \n",
      " 8   precio      136 non-null    object \n",
      " 9   estrato     24 non-null     float64\n",
      " 10  latitud     136 non-null    float64\n",
      " 11  longitud    136 non-null    float64\n",
      "dtypes: float64(3), object(9)\n",
      "memory usage: 12.9+ KB\n"
     ]
    }
   ],
   "source": [
    "data.info()"
   ]
  },
  {
   "cell_type": "code",
   "execution_count": 5,
   "id": "ce6920b3-0349-487f-85a2-9120d4280dd3",
   "metadata": {},
   "outputs": [
    {
     "data": {
      "text/html": [
       "<div>\n",
       "<style scoped>\n",
       "    .dataframe tbody tr th:only-of-type {\n",
       "        vertical-align: middle;\n",
       "    }\n",
       "\n",
       "    .dataframe tbody tr th {\n",
       "        vertical-align: top;\n",
       "    }\n",
       "\n",
       "    .dataframe thead th {\n",
       "        text-align: right;\n",
       "    }\n",
       "</style>\n",
       "<table border=\"1\" class=\"dataframe\">\n",
       "  <thead>\n",
       "    <tr style=\"text-align: right;\">\n",
       "      <th></th>\n",
       "      <th>path</th>\n",
       "      <th>tipo</th>\n",
       "      <th>estado</th>\n",
       "      <th>ubicacion</th>\n",
       "      <th>url</th>\n",
       "      <th>habitacion</th>\n",
       "      <th>baño</th>\n",
       "      <th>dimension</th>\n",
       "      <th>precio</th>\n",
       "      <th>estrato</th>\n",
       "      <th>latitud</th>\n",
       "      <th>longitud</th>\n",
       "    </tr>\n",
       "  </thead>\n",
       "  <tbody>\n",
       "    <tr>\n",
       "      <th>0</th>\n",
       "      <td>2b72-82fe-18fc293-722dc1ef005c-7129</td>\n",
       "      <td>Apartamento</td>\n",
       "      <td>venta</td>\n",
       "      <td>Las Nieves-Centro/Centro Histórico/Tunja/Boyacá</td>\n",
       "      <td>2b72-82fe-18fc293-722dc1ef005c-7129</td>\n",
       "      <td>2</td>\n",
       "      <td>2</td>\n",
       "      <td>75m2</td>\n",
       "      <td>290.000.000</td>\n",
       "      <td>5.0</td>\n",
       "      <td>5.532431</td>\n",
       "      <td>-73.361601</td>\n",
       "    </tr>\n",
       "    <tr>\n",
       "      <th>1</th>\n",
       "      <td>2688-879f-6b245957-690b01267248-3152</td>\n",
       "      <td>Apartamento</td>\n",
       "      <td>venta</td>\n",
       "      <td>Las Nieves-Centro/Centro Histórico/Tunja/Boyacá</td>\n",
       "      <td>2688-879f-6b245957-690b01267248-3152</td>\n",
       "      <td>3</td>\n",
       "      <td>2</td>\n",
       "      <td>78m2</td>\n",
       "      <td>250.000.000</td>\n",
       "      <td>NaN</td>\n",
       "      <td>5.534000</td>\n",
       "      <td>-73.362000</td>\n",
       "    </tr>\n",
       "  </tbody>\n",
       "</table>\n",
       "</div>"
      ],
      "text/plain": [
       "                                   path         tipo estado  \\\n",
       "0   2b72-82fe-18fc293-722dc1ef005c-7129  Apartamento  venta   \n",
       "1  2688-879f-6b245957-690b01267248-3152  Apartamento  venta   \n",
       "\n",
       "                                         ubicacion  \\\n",
       "0  Las Nieves-Centro/Centro Histórico/Tunja/Boyacá   \n",
       "1  Las Nieves-Centro/Centro Histórico/Tunja/Boyacá   \n",
       "\n",
       "                                    url habitacion baño dimension  \\\n",
       "0   2b72-82fe-18fc293-722dc1ef005c-7129          2    2      75m2   \n",
       "1  2688-879f-6b245957-690b01267248-3152          3    2      78m2   \n",
       "\n",
       "        precio  estrato   latitud   longitud  \n",
       "0  290.000.000      5.0  5.532431 -73.361601  \n",
       "1  250.000.000      NaN  5.534000 -73.362000  "
      ]
     },
     "execution_count": 5,
     "metadata": {},
     "output_type": "execute_result"
    }
   ],
   "source": [
    "data.head(2)"
   ]
  },
  {
   "cell_type": "markdown",
   "id": "0297a344-7ba1-4564-9f25-39d549b8dbcd",
   "metadata": {},
   "source": [
    "### vamos a cambiar el tipo de dato en `habitacion`,`baño`,`dimension` y `precio`"
   ]
  },
  {
   "cell_type": "code",
   "execution_count": 7,
   "id": "85b92a8e-74dc-4f2f-807b-c4e375f8ba1a",
   "metadata": {},
   "outputs": [
    {
     "data": {
      "text/plain": [
       "array(['2', '3', 'N', '5', '4', '1', '6', '7', '9'], dtype=object)"
      ]
     },
     "execution_count": 7,
     "metadata": {},
     "output_type": "execute_result"
    }
   ],
   "source": [
    "data['habitacion'].unique()"
   ]
  },
  {
   "cell_type": "code",
   "execution_count": 9,
   "id": "18c3850e-449b-4ad2-88dc-a6b8fc8e713b",
   "metadata": {},
   "outputs": [],
   "source": [
    "data['habitacion'] = data['habitacion'].apply(lambda x: np.nan if x=='N' else x)"
   ]
  },
  {
   "cell_type": "code",
   "execution_count": 10,
   "id": "cdd06cd8-0213-4db9-bb23-888b5f10b137",
   "metadata": {},
   "outputs": [
    {
     "data": {
      "text/plain": [
       "array(['2', '3', nan, '5', '4', '1', '6', '7', '9'], dtype=object)"
      ]
     },
     "execution_count": 10,
     "metadata": {},
     "output_type": "execute_result"
    }
   ],
   "source": [
    "data.habitacion.unique()"
   ]
  },
  {
   "cell_type": "code",
   "execution_count": 11,
   "id": "72986b1a-3785-4e72-8c01-b267152d25d9",
   "metadata": {},
   "outputs": [],
   "source": [
    "data['habitacion']=data['habitacion'].astype(float)"
   ]
  },
  {
   "cell_type": "code",
   "execution_count": 12,
   "id": "4e84a35e-297c-4fd4-af15-68696d126afc",
   "metadata": {},
   "outputs": [
    {
     "data": {
      "text/plain": [
       "dtype('float64')"
      ]
     },
     "execution_count": 12,
     "metadata": {},
     "output_type": "execute_result"
    }
   ],
   "source": [
    "data.habitacion.dtype"
   ]
  },
  {
   "cell_type": "code",
   "execution_count": 13,
   "id": "4e8a122e-0211-44a2-9bb9-769815be4086",
   "metadata": {},
   "outputs": [
    {
     "data": {
      "text/plain": [
       "array(['2', '1', '3', '6', '4', '5', '8', 'N'], dtype=object)"
      ]
     },
     "execution_count": 13,
     "metadata": {},
     "output_type": "execute_result"
    }
   ],
   "source": [
    "## ahora con baño\n",
    "data['baño'].unique()"
   ]
  },
  {
   "cell_type": "code",
   "execution_count": 14,
   "id": "e71949bf-5168-4481-8557-1adcc050f188",
   "metadata": {},
   "outputs": [
    {
     "data": {
      "text/plain": [
       "dtype('float64')"
      ]
     },
     "execution_count": 14,
     "metadata": {},
     "output_type": "execute_result"
    }
   ],
   "source": [
    "data.baño = data.baño.apply(lambda x: np.nan if x == 'N' else x).astype(float)\n",
    "data.baño.dtype"
   ]
  },
  {
   "cell_type": "code",
   "execution_count": 15,
   "id": "f6e996b4-b0d8-48eb-a7f1-df3fb3c37f2a",
   "metadata": {},
   "outputs": [
    {
     "data": {
      "text/plain": [
       "array(['75m2', '78m2', '56m2', '62,32m2', '24m2', '68m2', '79m2', '89m2',\n",
       "       '66m2', '137,5m2', '50m2', '126,82m2', '150m2', '52m2', '152m2',\n",
       "       '56,85m2', '60m2', '74,2m2', '100m2', '182,1m2', '173m2',\n",
       "       '101,5m2', '110m2', '49m2', '125m2', '58m2', '48,79m2', '73,17m2',\n",
       "       '131m2', '55m2', '27m2', '23,47m2', '30,35m2', '132,9m2',\n",
       "       '137,54m2', '102m2', '73m2', '112,53m2', '38m2', '65,75m2',\n",
       "       '67,56m2', '88,6m2', '57m2', '54,34m2', '76m2', '105m2', '165m2',\n",
       "       '88m2', '95m2', '126,67m2', '63m2', '354m2', '864m2', '300m2',\n",
       "       '550m2', '250m2', '172m2', '438,5m2', 'NAN', '130,5m2', '258,41m2',\n",
       "       '354,07m2', '142m2', '163m2', '112m2', '210m2', '146m2', '211m2',\n",
       "       '433,46m2', '140m2', '184m2', '209m2', '91m2', '244m2', '200m2',\n",
       "       '358m2', '400m2', '375m2', '138m2', '101m2', '590m2', '220m2',\n",
       "       '118m2', '86,8m2', '136m2', '228m2', '72m2', '127,4m2', '80m2',\n",
       "       '201m2', '129m2', '166,22m2', '215m2', '246m2', '122m2', '218m2',\n",
       "       '227m2', '103m2', '167m2'], dtype=object)"
      ]
     },
     "execution_count": 15,
     "metadata": {},
     "output_type": "execute_result"
    }
   ],
   "source": [
    "# ahora con dimension\n",
    "data.dimension.unique()"
   ]
  },
  {
   "cell_type": "markdown",
   "id": "98de88a3-695e-4ff1-8e31-f8a102191638",
   "metadata": {},
   "source": [
    "- no nos interaza m2 asi que procederemos a eliminarlo"
   ]
  },
  {
   "cell_type": "code",
   "execution_count": 17,
   "id": "dbe33131-df80-4b10-82e8-997545cc52ea",
   "metadata": {},
   "outputs": [],
   "source": [
    "data['dimension'] = data.dimension.str.replace('m2','')\n",
    "data['dimension'] = data.dimension.str.replace(',','.').astype(float)\n"
   ]
  },
  {
   "cell_type": "code",
   "execution_count": 18,
   "id": "64ea4723-d137-4841-a8ea-2e2e870398b8",
   "metadata": {},
   "outputs": [
    {
     "data": {
      "text/plain": [
       "dtype('float64')"
      ]
     },
     "execution_count": 18,
     "metadata": {},
     "output_type": "execute_result"
    }
   ],
   "source": [
    "data.dimension.dtypes"
   ]
  },
  {
   "cell_type": "code",
   "execution_count": 21,
   "id": "5ce72eec-e9c0-4c3c-b580-67d2ac67328d",
   "metadata": {},
   "outputs": [
    {
     "data": {
      "text/plain": [
       "array(['290.000.000', '250.000.000', '170.000.000', '262.900.000',\n",
       "       '202.900.000', '201.900.000', '110.000.000', '160.000.000',\n",
       "       '240.000.000', '230.000.000', '175.000.000', '531.000.000',\n",
       "       '340.000.000', '280.000.000', '415.000.000', '190.000.000',\n",
       "       '400.000.000', '600.000.000', '406.000.000', '350.000.000',\n",
       "       '430.000.000', '320.000.000', '180.000.000', '195.000.000',\n",
       "       '273.000.000', '233.943.500', '122.500.000', '100.000.000',\n",
       "       '315.000.000', '450.000.000', '270.000.000', '295.000.000',\n",
       "       '460.000.000', '135.000.000', '140.000.000', '220.000.000',\n",
       "       '210.000.000', '330.000.000', '200.000.000', '265.000.000',\n",
       "       '300.000.000', '260.000.000', '540.000.000', '158.000.000',\n",
       "       '1.900.000.000', '2.300.000.000', '1.850.000.000', '1.700.000.000',\n",
       "       '1.977.983.412', '1.100.000.000', '680.000.000', '2.200.000.000',\n",
       "       '480.000.000', '895.132.240', '530.427.129', '360.000.000',\n",
       "       '410.000.000', '950.000.000', '298.000.000', '800.000.000',\n",
       "       '580.000.000', '285.000.000', '700.000.000', '839.832.500',\n",
       "       '470.000.000', '880.000.000', '380.000.000', '289.000.000',\n",
       "       '650.000.000', '900.000.000', '310.000.000', '329.000.000',\n",
       "       '750.000.000', '278.000.000', '1.200.000.000', '255.000.000',\n",
       "       '1.800.000.000', '275.000.000'], dtype=object)"
      ]
     },
     "execution_count": 21,
     "metadata": {},
     "output_type": "execute_result"
    }
   ],
   "source": [
    "## por ultimo vallamos con el precio\n",
    "data.precio.unique()"
   ]
  },
  {
   "cell_type": "code",
   "execution_count": 27,
   "id": "b2fbf9ce-dd76-4b54-a144-b90f83ee9368",
   "metadata": {},
   "outputs": [
    {
     "data": {
      "text/plain": [
       "dtype('float64')"
      ]
     },
     "execution_count": 27,
     "metadata": {},
     "output_type": "execute_result"
    }
   ],
   "source": [
    "data.precio = data.precio.str.replace('.','')\n",
    "data.precio=data.precio.astype(float)\n",
    "data.precio.dtype"
   ]
  },
  {
   "cell_type": "code",
   "execution_count": 29,
   "id": "0d760c28-153f-4c17-a3b5-3c833d7641dc",
   "metadata": {},
   "outputs": [
    {
     "data": {
      "text/plain": [
       "path           object\n",
       "tipo           object\n",
       "estado         object\n",
       "ubicacion      object\n",
       "url            object\n",
       "habitacion    float64\n",
       "baño          float64\n",
       "dimension     float64\n",
       "precio        float64\n",
       "estrato       float64\n",
       "latitud       float64\n",
       "longitud      float64\n",
       "dtype: object"
      ]
     },
     "execution_count": 29,
     "metadata": {},
     "output_type": "execute_result"
    }
   ],
   "source": [
    "data.dtypes"
   ]
  },
  {
   "cell_type": "code",
   "execution_count": 31,
   "id": "531d997b-bee3-49d4-be97-baec6f4f217f",
   "metadata": {},
   "outputs": [],
   "source": [
    "data.to_csv('data_punto_propiedad_p.csv',index=False)"
   ]
  },
  {
   "cell_type": "code",
   "execution_count": null,
   "id": "1b3496af-22e0-4027-b95d-9ecbcb209cdd",
   "metadata": {},
   "outputs": [],
   "source": []
  }
 ],
 "metadata": {
  "kernelspec": {
   "display_name": "Python 3 (ipykernel)",
   "language": "python",
   "name": "python3"
  },
  "language_info": {
   "codemirror_mode": {
    "name": "ipython",
    "version": 3
   },
   "file_extension": ".py",
   "mimetype": "text/x-python",
   "name": "python",
   "nbconvert_exporter": "python",
   "pygments_lexer": "ipython3",
   "version": "3.11.5"
  }
 },
 "nbformat": 4,
 "nbformat_minor": 5
}
