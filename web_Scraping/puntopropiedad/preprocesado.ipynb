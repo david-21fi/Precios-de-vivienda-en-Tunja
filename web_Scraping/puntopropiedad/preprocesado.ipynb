{
 "cells": [
  {
   "cell_type": "code",
   "execution_count": 2,
   "id": "a7f10246-e5ae-488f-b0b3-cb0121dc0b14",
   "metadata": {},
   "outputs": [],
   "source": [
    "import numpy as np\n",
    "import pandas as pd"
   ]
  },
  {
   "cell_type": "code",
   "execution_count": 3,
   "id": "98d55110-0ba0-4fe6-8ff1-634498abb90c",
   "metadata": {},
   "outputs": [],
   "source": [
    "data1 = pd.read_csv('data1.csv')\n",
    "data2 = pd.read_csv('data2.csv')"
   ]
  },
  {
   "cell_type": "code",
   "execution_count": 4,
   "id": "8c4ce2c6-4516-470e-b536-29530c2a2efb",
   "metadata": {},
   "outputs": [
    {
     "data": {
      "text/plain": [
       "(141, 4)"
      ]
     },
     "execution_count": 4,
     "metadata": {},
     "output_type": "execute_result"
    }
   ],
   "source": [
    "data1.shape"
   ]
  },
  {
   "cell_type": "code",
   "execution_count": 5,
   "id": "eb4475e9-6d40-4633-83b1-4c27675e8608",
   "metadata": {},
   "outputs": [
    {
     "data": {
      "text/plain": [
       "(136, 8)"
      ]
     },
     "execution_count": 5,
     "metadata": {},
     "output_type": "execute_result"
    }
   ],
   "source": [
    "data2.shape"
   ]
  },
  {
   "cell_type": "code",
   "execution_count": 6,
   "id": "03a3c633-866d-468d-91ad-8f422308758e",
   "metadata": {},
   "outputs": [
    {
     "data": {
      "text/html": [
       "<div>\n",
       "<style scoped>\n",
       "    .dataframe tbody tr th:only-of-type {\n",
       "        vertical-align: middle;\n",
       "    }\n",
       "\n",
       "    .dataframe tbody tr th {\n",
       "        vertical-align: top;\n",
       "    }\n",
       "\n",
       "    .dataframe thead th {\n",
       "        text-align: right;\n",
       "    }\n",
       "</style>\n",
       "<table border=\"1\" class=\"dataframe\">\n",
       "  <thead>\n",
       "    <tr style=\"text-align: right;\">\n",
       "      <th></th>\n",
       "      <th>path</th>\n",
       "      <th>tipo</th>\n",
       "      <th>estado</th>\n",
       "      <th>ubicacion</th>\n",
       "    </tr>\n",
       "  </thead>\n",
       "  <tbody>\n",
       "    <tr>\n",
       "      <th>0</th>\n",
       "      <td>2b72-82fe-18fc293-722dc1ef005c-7129</td>\n",
       "      <td>Apartamento</td>\n",
       "      <td>venta</td>\n",
       "      <td>Las Nieves-Centro/Centro Histórico/Tunja/Boyacá</td>\n",
       "    </tr>\n",
       "    <tr>\n",
       "      <th>1</th>\n",
       "      <td>2688-879f-6b245957-690b01267248-3152</td>\n",
       "      <td>Apartamento</td>\n",
       "      <td>venta</td>\n",
       "      <td>Las Nieves-Centro/Centro Histórico/Tunja/Boyacá</td>\n",
       "    </tr>\n",
       "    <tr>\n",
       "      <th>2</th>\n",
       "      <td>9e55-b016-c7b4375e-2882ef5e1b71-43d9</td>\n",
       "      <td>Apartamento</td>\n",
       "      <td>venta</td>\n",
       "      <td>San Ignacio/Centro Histórico/Tunja/Boyacá</td>\n",
       "    </tr>\n",
       "    <tr>\n",
       "      <th>3</th>\n",
       "      <td>eacb-885b-18f4d5b-1661e30e9c86-7c1e</td>\n",
       "      <td>Apartamento</td>\n",
       "      <td>venta</td>\n",
       "      <td>San Ignacio/Centro Histórico/Tunja/Boyacá</td>\n",
       "    </tr>\n",
       "    <tr>\n",
       "      <th>4</th>\n",
       "      <td>b6e8-98d2-18f4d8f-a982c7d04954-7a3c</td>\n",
       "      <td>Apartamento</td>\n",
       "      <td>venta</td>\n",
       "      <td>San Ignacio/Centro Histórico/Tunja/Boyacá</td>\n",
       "    </tr>\n",
       "  </tbody>\n",
       "</table>\n",
       "</div>"
      ],
      "text/plain": [
       "                                   path         tipo estado  \\\n",
       "0   2b72-82fe-18fc293-722dc1ef005c-7129  Apartamento  venta   \n",
       "1  2688-879f-6b245957-690b01267248-3152  Apartamento  venta   \n",
       "2  9e55-b016-c7b4375e-2882ef5e1b71-43d9  Apartamento  venta   \n",
       "3   eacb-885b-18f4d5b-1661e30e9c86-7c1e  Apartamento  venta   \n",
       "4   b6e8-98d2-18f4d8f-a982c7d04954-7a3c  Apartamento  venta   \n",
       "\n",
       "                                         ubicacion  \n",
       "0  Las Nieves-Centro/Centro Histórico/Tunja/Boyacá  \n",
       "1  Las Nieves-Centro/Centro Histórico/Tunja/Boyacá  \n",
       "2        San Ignacio/Centro Histórico/Tunja/Boyacá  \n",
       "3        San Ignacio/Centro Histórico/Tunja/Boyacá  \n",
       "4        San Ignacio/Centro Histórico/Tunja/Boyacá  "
      ]
     },
     "execution_count": 6,
     "metadata": {},
     "output_type": "execute_result"
    }
   ],
   "source": [
    "data1.head()"
   ]
  },
  {
   "cell_type": "code",
   "execution_count": 7,
   "id": "4784133e-a8c6-453c-b1fd-6a8083345cce",
   "metadata": {},
   "outputs": [],
   "source": [
    "data1.drop_duplicates('path',inplace=True)"
   ]
  },
  {
   "cell_type": "code",
   "execution_count": 9,
   "id": "f4bf9184-acf1-4e7a-85fa-fef8bcc2d9ec",
   "metadata": {},
   "outputs": [
    {
     "data": {
      "text/plain": [
       "True"
      ]
     },
     "execution_count": 9,
     "metadata": {},
     "output_type": "execute_result"
    }
   ],
   "source": [
    "len(data1)== len(data2)"
   ]
  },
  {
   "cell_type": "code",
   "execution_count": 10,
   "id": "36e76880-bd7d-4ca1-82ba-0ea7bfa8b696",
   "metadata": {},
   "outputs": [],
   "source": [
    "data = pd.merge(left=data1,right=data2,left_on='path',right_on='url')"
   ]
  },
  {
   "cell_type": "code",
   "execution_count": 11,
   "id": "1ee8370a-1232-4ddb-9e40-10fd840572c7",
   "metadata": {},
   "outputs": [
    {
     "data": {
      "text/plain": [
       "(136, 12)"
      ]
     },
     "execution_count": 11,
     "metadata": {},
     "output_type": "execute_result"
    }
   ],
   "source": [
    "data.shape"
   ]
  },
  {
   "cell_type": "code",
   "execution_count": 12,
   "id": "8fe95f2f-a69f-4986-8751-cb927afdeefc",
   "metadata": {},
   "outputs": [
    {
     "data": {
      "text/html": [
       "<div>\n",
       "<style scoped>\n",
       "    .dataframe tbody tr th:only-of-type {\n",
       "        vertical-align: middle;\n",
       "    }\n",
       "\n",
       "    .dataframe tbody tr th {\n",
       "        vertical-align: top;\n",
       "    }\n",
       "\n",
       "    .dataframe thead th {\n",
       "        text-align: right;\n",
       "    }\n",
       "</style>\n",
       "<table border=\"1\" class=\"dataframe\">\n",
       "  <thead>\n",
       "    <tr style=\"text-align: right;\">\n",
       "      <th></th>\n",
       "      <th>path</th>\n",
       "      <th>tipo</th>\n",
       "      <th>estado</th>\n",
       "      <th>ubicacion</th>\n",
       "      <th>url</th>\n",
       "      <th>habitacion</th>\n",
       "      <th>baño</th>\n",
       "      <th>dimension</th>\n",
       "      <th>precio</th>\n",
       "      <th>estrato</th>\n",
       "      <th>latitud</th>\n",
       "      <th>longitud</th>\n",
       "    </tr>\n",
       "  </thead>\n",
       "  <tbody>\n",
       "    <tr>\n",
       "      <th>0</th>\n",
       "      <td>2b72-82fe-18fc293-722dc1ef005c-7129</td>\n",
       "      <td>Apartamento</td>\n",
       "      <td>venta</td>\n",
       "      <td>Las Nieves-Centro/Centro Histórico/Tunja/Boyacá</td>\n",
       "      <td>2b72-82fe-18fc293-722dc1ef005c-7129</td>\n",
       "      <td>2</td>\n",
       "      <td>2</td>\n",
       "      <td>75m2</td>\n",
       "      <td>290.000.000</td>\n",
       "      <td>5.0</td>\n",
       "      <td>5.532431</td>\n",
       "      <td>-73.361601</td>\n",
       "    </tr>\n",
       "    <tr>\n",
       "      <th>1</th>\n",
       "      <td>2688-879f-6b245957-690b01267248-3152</td>\n",
       "      <td>Apartamento</td>\n",
       "      <td>venta</td>\n",
       "      <td>Las Nieves-Centro/Centro Histórico/Tunja/Boyacá</td>\n",
       "      <td>2688-879f-6b245957-690b01267248-3152</td>\n",
       "      <td>3</td>\n",
       "      <td>2</td>\n",
       "      <td>78m2</td>\n",
       "      <td>250.000.000</td>\n",
       "      <td>NaN</td>\n",
       "      <td>5.534000</td>\n",
       "      <td>-73.362000</td>\n",
       "    </tr>\n",
       "    <tr>\n",
       "      <th>2</th>\n",
       "      <td>9e55-b016-c7b4375e-2882ef5e1b71-43d9</td>\n",
       "      <td>Apartamento</td>\n",
       "      <td>venta</td>\n",
       "      <td>San Ignacio/Centro Histórico/Tunja/Boyacá</td>\n",
       "      <td>9e55-b016-c7b4375e-2882ef5e1b71-43d9</td>\n",
       "      <td>3</td>\n",
       "      <td>2</td>\n",
       "      <td>56m2</td>\n",
       "      <td>170.000.000</td>\n",
       "      <td>3.0</td>\n",
       "      <td>5.514202</td>\n",
       "      <td>-73.368592</td>\n",
       "    </tr>\n",
       "    <tr>\n",
       "      <th>3</th>\n",
       "      <td>eacb-885b-18f4d5b-1661e30e9c86-7c1e</td>\n",
       "      <td>Apartamento</td>\n",
       "      <td>venta</td>\n",
       "      <td>San Ignacio/Centro Histórico/Tunja/Boyacá</td>\n",
       "      <td>eacb-885b-18f4d5b-1661e30e9c86-7c1e</td>\n",
       "      <td>3</td>\n",
       "      <td>2</td>\n",
       "      <td>62,32m2</td>\n",
       "      <td>262.900.000</td>\n",
       "      <td>3.0</td>\n",
       "      <td>5.512884</td>\n",
       "      <td>-73.367969</td>\n",
       "    </tr>\n",
       "    <tr>\n",
       "      <th>4</th>\n",
       "      <td>b6e8-98d2-18f4d8f-a982c7d04954-7a3c</td>\n",
       "      <td>Apartamento</td>\n",
       "      <td>venta</td>\n",
       "      <td>San Ignacio/Centro Histórico/Tunja/Boyacá</td>\n",
       "      <td>b6e8-98d2-18f4d8f-a982c7d04954-7a3c</td>\n",
       "      <td>3</td>\n",
       "      <td>2</td>\n",
       "      <td>62,32m2</td>\n",
       "      <td>202.900.000</td>\n",
       "      <td>3.0</td>\n",
       "      <td>5.512952</td>\n",
       "      <td>-73.367884</td>\n",
       "    </tr>\n",
       "  </tbody>\n",
       "</table>\n",
       "</div>"
      ],
      "text/plain": [
       "                                   path         tipo estado  \\\n",
       "0   2b72-82fe-18fc293-722dc1ef005c-7129  Apartamento  venta   \n",
       "1  2688-879f-6b245957-690b01267248-3152  Apartamento  venta   \n",
       "2  9e55-b016-c7b4375e-2882ef5e1b71-43d9  Apartamento  venta   \n",
       "3   eacb-885b-18f4d5b-1661e30e9c86-7c1e  Apartamento  venta   \n",
       "4   b6e8-98d2-18f4d8f-a982c7d04954-7a3c  Apartamento  venta   \n",
       "\n",
       "                                         ubicacion  \\\n",
       "0  Las Nieves-Centro/Centro Histórico/Tunja/Boyacá   \n",
       "1  Las Nieves-Centro/Centro Histórico/Tunja/Boyacá   \n",
       "2        San Ignacio/Centro Histórico/Tunja/Boyacá   \n",
       "3        San Ignacio/Centro Histórico/Tunja/Boyacá   \n",
       "4        San Ignacio/Centro Histórico/Tunja/Boyacá   \n",
       "\n",
       "                                    url habitacion baño dimension  \\\n",
       "0   2b72-82fe-18fc293-722dc1ef005c-7129          2    2      75m2   \n",
       "1  2688-879f-6b245957-690b01267248-3152          3    2      78m2   \n",
       "2  9e55-b016-c7b4375e-2882ef5e1b71-43d9          3    2      56m2   \n",
       "3   eacb-885b-18f4d5b-1661e30e9c86-7c1e          3    2   62,32m2   \n",
       "4   b6e8-98d2-18f4d8f-a982c7d04954-7a3c          3    2   62,32m2   \n",
       "\n",
       "        precio  estrato   latitud   longitud  \n",
       "0  290.000.000      5.0  5.532431 -73.361601  \n",
       "1  250.000.000      NaN  5.534000 -73.362000  \n",
       "2  170.000.000      3.0  5.514202 -73.368592  \n",
       "3  262.900.000      3.0  5.512884 -73.367969  \n",
       "4  202.900.000      3.0  5.512952 -73.367884  "
      ]
     },
     "execution_count": 12,
     "metadata": {},
     "output_type": "execute_result"
    }
   ],
   "source": [
    "data.head()"
   ]
  },
  {
   "cell_type": "code",
   "execution_count": 13,
   "id": "d308e327-da9e-4f75-be76-1bd2aace749b",
   "metadata": {},
   "outputs": [],
   "source": [
    "data.to_csv('data_punto_propiedad.csv',index=False)"
   ]
  },
  {
   "cell_type": "code",
   "execution_count": null,
   "id": "9dd2530f-e8b2-4fce-a00a-93296c0e830a",
   "metadata": {},
   "outputs": [],
   "source": []
  }
 ],
 "metadata": {
  "kernelspec": {
   "display_name": "Python 3 (ipykernel)",
   "language": "python",
   "name": "python3"
  },
  "language_info": {
   "codemirror_mode": {
    "name": "ipython",
    "version": 3
   },
   "file_extension": ".py",
   "mimetype": "text/x-python",
   "name": "python",
   "nbconvert_exporter": "python",
   "pygments_lexer": "ipython3",
   "version": "3.11.5"
  }
 },
 "nbformat": 4,
 "nbformat_minor": 5
}
