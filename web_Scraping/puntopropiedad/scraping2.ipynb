{
 "cells": [
  {
   "cell_type": "code",
   "execution_count": 1,
   "id": "6cb736ef-ebc9-4689-b73d-9254c4c02e56",
   "metadata": {},
   "outputs": [],
   "source": [
    "from bs4 import BeautifulSoup as bs\n",
    "import random\n",
    "import time\n",
    "import re\n",
    "import pandas as pd\n",
    "import numpy as np\n",
    "from selenium import webdriver\n",
    "from selenium.webdriver.common.by import By\n",
    "from selenium.webdriver.common.keys import Keys\n",
    "import undetected_chromedriver as uc\n",
    "from selenium.webdriver.support import expected_conditions as EC"
   ]
  },
  {
   "cell_type": "code",
   "execution_count": 2,
   "id": "a8ac685d-080e-478a-8a06-29b4687727d3",
   "metadata": {},
   "outputs": [],
   "source": [
    "browser = uc.Chrome(driver_executable_path='../chromedriver-linux64/chromedriver')"
   ]
  },
  {
   "cell_type": "code",
   "execution_count": 3,
   "id": "4d09354d-e488-4cb4-9ba5-c26fb58aa893",
   "metadata": {},
   "outputs": [],
   "source": [
    "df = pd.read_csv('data1.csv')"
   ]
  },
  {
   "cell_type": "code",
   "execution_count": 4,
   "id": "39f3194d-0ed6-4cf4-bcab-09d600499086",
   "metadata": {},
   "outputs": [
    {
     "name": "stdout",
     "output_type": "stream",
     "text": [
      "<class 'pandas.core.frame.DataFrame'>\n",
      "RangeIndex: 141 entries, 0 to 140\n",
      "Data columns (total 4 columns):\n",
      " #   Column     Non-Null Count  Dtype \n",
      "---  ------     --------------  ----- \n",
      " 0   path       141 non-null    object\n",
      " 1   tipo       141 non-null    object\n",
      " 2   estado     141 non-null    object\n",
      " 3   ubicacion  141 non-null    object\n",
      "dtypes: object(4)\n",
      "memory usage: 4.5+ KB\n"
     ]
    }
   ],
   "source": [
    "df.info()"
   ]
  },
  {
   "cell_type": "code",
   "execution_count": 5,
   "id": "1dd9bf62-7936-4191-88ac-1af52b7684e3",
   "metadata": {},
   "outputs": [
    {
     "data": {
      "text/plain": [
       "path\n",
       "4a8f-ba4b-18fa5dd-894c5d123024-765f     2\n",
       "6bd5-a4c8-1bfc2b17-3c2284aa93f5-3425    2\n",
       "2826-9d40-74f94578-153348823f72-30a7    2\n",
       "c356-9bd3-ad48bf6c-5f2d1d014225-308c    2\n",
       "2a35-9bb6-111c69a1-1d8dd4f1069a-3600    2\n",
       "                                       ..\n",
       "171a-bd69-a424b003-50d6c9afb973-33bc    1\n",
       "7740-b75c-93b4aa1d-b43d08fd7331-32d6    1\n",
       "1ff7-9ad0-29f49d26-165ad78f1f1d-3c34    1\n",
       "4afc-8c75-2d34c208-b6e46b815570-364d    1\n",
       "f00c-ab1a-18ff0f4-af52b79b3e4c-7663     1\n",
       "Name: count, Length: 136, dtype: int64"
      ]
     },
     "execution_count": 5,
     "metadata": {},
     "output_type": "execute_result"
    }
   ],
   "source": [
    "df['path'].value_counts()"
   ]
  },
  {
   "cell_type": "code",
   "execution_count": 5,
   "id": "4a4601b2-a537-4622-881b-e20786826ce9",
   "metadata": {},
   "outputs": [
    {
     "data": {
      "text/plain": [
       "0      False\n",
       "1      False\n",
       "2      False\n",
       "3      False\n",
       "4      False\n",
       "       ...  \n",
       "131    False\n",
       "132    False\n",
       "133    False\n",
       "134    False\n",
       "135    False\n",
       "Length: 136, dtype: bool"
      ]
     },
     "execution_count": 5,
     "metadata": {},
     "output_type": "execute_result"
    }
   ],
   "source": [
    "df.drop_duplicates('path',ignore_index=True,inplace=True)\n",
    "df.duplicated('path')"
   ]
  },
  {
   "cell_type": "code",
   "execution_count": 71,
   "id": "e650450b-d6dd-4eac-b813-0746764496ad",
   "metadata": {},
   "outputs": [
    {
     "data": {
      "text/plain": [
       "(136, 4)"
      ]
     },
     "execution_count": 71,
     "metadata": {},
     "output_type": "execute_result"
    }
   ],
   "source": [
    "df.shape"
   ]
  },
  {
   "cell_type": "code",
   "execution_count": 20,
   "id": "4fbdb718-aa63-4f4c-afdd-77c00a7ccf6c",
   "metadata": {},
   "outputs": [
    {
     "name": "stdout",
     "output_type": "stream",
     "text": [
      "2b72-82fe-18fc293-722dc1ef005c-7129\n"
     ]
    }
   ],
   "source": [
    "print(str(df.iloc[0,0]).strip(\"''[]\"))\n"
   ]
  },
  {
   "cell_type": "code",
   "execution_count": 6,
   "id": "d1eaba9a-90ce-48b3-ac2f-fe7d487a5413",
   "metadata": {},
   "outputs": [],
   "source": [
    "path = 'https://www.puntopropiedad.com/inmueble/'\n",
    "url = str(df.iloc[0,0]).strip(\"''[]\")\n",
    "browser.get(path+url)"
   ]
  },
  {
   "cell_type": "code",
   "execution_count": 7,
   "id": "a366d3c3-4f61-44e3-ad1c-bf0c7fcd073c",
   "metadata": {},
   "outputs": [],
   "source": [
    "html = browser.page_source\n",
    "soup= bs(html,'html')"
   ]
  },
  {
   "cell_type": "code",
   "execution_count": 9,
   "id": "dd4077ea-b16e-4141-9900-1e8589f34c5c",
   "metadata": {},
   "outputs": [
    {
     "data": {
      "text/plain": [
       "<div class=\"priceChars\">\n",
       "<div class=\"price\">\n",
       "<h2>\n",
       "                            \n",
       "                                \n",
       "                                290.000.000 COP$\n",
       "                            \n",
       "                        </h2>\n",
       "</div>\n",
       "<ul class=\"details_list\">\n",
       "<li class=\"dimensions\">75m2</li>\n",
       "<li class=\"bedrooms\">2 Habitaciones</li>\n",
       "<li class=\"bathrooms\">2 Baños</li>\n",
       "</ul>\n",
       "</div>"
      ]
     },
     "execution_count": 9,
     "metadata": {},
     "output_type": "execute_result"
    }
   ],
   "source": [
    "temp = soup.find('div',{'class':'priceChars'})\n",
    "temp"
   ]
  },
  {
   "cell_type": "code",
   "execution_count": 10,
   "id": "3b391998-3de3-47b3-b6ba-0acc53298f05",
   "metadata": {},
   "outputs": [],
   "source": [
    "p = temp.find('div',{'class':'price'})\n",
    "patron = r'[\\d.]+'\n",
    "condi = re.findall(patron,p.text)\n",
    "t=''.join(condi)"
   ]
  },
  {
   "cell_type": "code",
   "execution_count": 11,
   "id": "873359d9-32a7-4f68-ac6e-0de7b013f2e0",
   "metadata": {},
   "outputs": [],
   "source": [
    "a=temp.find('li',{'class':'bedrooms'}).text\n",
    "b = temp.find('li',{'class':'bathrooms'}).text\n",
    "c = temp.find('li',{'class':'dimensions'}).text\n",
    "clave = ['url','habitacion','baño','dimension','precio']\n",
    "valor = [url,a[0],b[0],c,t]"
   ]
  },
  {
   "cell_type": "code",
   "execution_count": 12,
   "id": "9c677f0b-6f70-4295-8afb-6347d6073c30",
   "metadata": {},
   "outputs": [],
   "source": [
    "li_elements=soup.find('div',{'class':'dropdown-list open'}).find_all('li',{'class':'tick'})"
   ]
  },
  {
   "cell_type": "code",
   "execution_count": 13,
   "id": "7f0977af-406e-4f70-8b13-e889c1cb8b0e",
   "metadata": {},
   "outputs": [],
   "source": [
    "for li in li_elements:\n",
    "    if 'Estrato' in li.text:\n",
    "        # Usa una expresión regular para extraer el número de estrato\n",
    "        estrato_match = re.search(r'Estrato:\\s*(\\d+)', li.text)\n",
    "        if estrato_match:\n",
    "            estrato_value = estrato_match.group(1)\n",
    "            valor.append(estrato_value)\n",
    "            clave.append('estrato')\n",
    "            "
   ]
  },
  {
   "cell_type": "code",
   "execution_count": 23,
   "id": "037a4527-0945-4dfe-94c8-e70b6043eaf7",
   "metadata": {},
   "outputs": [],
   "source": [
    "latitud= soup.find('div',{'class':'dropdown-list light open map-section'}).find('button').get('data-x')\n",
    "longitud= soup.find('div',{'class':'dropdown-list light open map-section'}).find('button').get('data-y')\n",
    "valor.append(latitud)\n",
    "clave.append('latitud')\n",
    "valor.append(longitud)\n",
    "clave.append('longitud')\n"
   ]
  },
  {
   "cell_type": "code",
   "execution_count": 24,
   "id": "46c9b9a3-f152-4d66-9caf-7d2eb0b95313",
   "metadata": {},
   "outputs": [
    {
     "data": {
      "text/html": [
       "<div>\n",
       "<style scoped>\n",
       "    .dataframe tbody tr th:only-of-type {\n",
       "        vertical-align: middle;\n",
       "    }\n",
       "\n",
       "    .dataframe tbody tr th {\n",
       "        vertical-align: top;\n",
       "    }\n",
       "\n",
       "    .dataframe thead th {\n",
       "        text-align: right;\n",
       "    }\n",
       "</style>\n",
       "<table border=\"1\" class=\"dataframe\">\n",
       "  <thead>\n",
       "    <tr style=\"text-align: right;\">\n",
       "      <th></th>\n",
       "      <th>url</th>\n",
       "      <th>habitacion</th>\n",
       "      <th>baño</th>\n",
       "      <th>dimension</th>\n",
       "      <th>precio</th>\n",
       "      <th>estrato</th>\n",
       "      <th>latitud</th>\n",
       "      <th>longitud</th>\n",
       "    </tr>\n",
       "  </thead>\n",
       "  <tbody>\n",
       "    <tr>\n",
       "      <th>0</th>\n",
       "      <td>2b72-82fe-18fc293-722dc1ef005c-7129</td>\n",
       "      <td>2</td>\n",
       "      <td>2</td>\n",
       "      <td>75m2</td>\n",
       "      <td>290.000.000</td>\n",
       "      <td>5</td>\n",
       "      <td>5.532431</td>\n",
       "      <td>-73.361601</td>\n",
       "    </tr>\n",
       "  </tbody>\n",
       "</table>\n",
       "</div>"
      ],
      "text/plain": [
       "                                   url habitacion baño dimension       precio  \\\n",
       "0  2b72-82fe-18fc293-722dc1ef005c-7129          2    2      75m2  290.000.000   \n",
       "\n",
       "  estrato   latitud    longitud  \n",
       "0       5  5.532431  -73.361601  "
      ]
     },
     "execution_count": 24,
     "metadata": {},
     "output_type": "execute_result"
    }
   ],
   "source": [
    "data = pd.DataFrame(data=[valor],columns=clave)\n",
    "data"
   ]
  },
  {
   "cell_type": "code",
   "execution_count": 49,
   "id": "390bde9b-60fd-4223-9908-0042679448da",
   "metadata": {},
   "outputs": [],
   "source": [
    "data1 = data.copy()"
   ]
  },
  {
   "cell_type": "markdown",
   "id": "0dc89262-0c5f-4355-9722-d9979591dca2",
   "metadata": {},
   "source": [
    "## Automatizando para datos de punto_propiedad"
   ]
  },
  {
   "cell_type": "code",
   "execution_count": 75,
   "id": "07618946-fccb-4940-bd58-69580569e311",
   "metadata": {},
   "outputs": [],
   "source": [
    "path = 'https://www.puntopropiedad.com/inmueble/'\n",
    "for i in range(77,df.shape[0]):\n",
    "    url = str(df.iloc[i,0]).strip(\"''[]\")\n",
    "    browser.get(path+url)\n",
    "    time.sleep(random.randint(10,12))\n",
    "    html = browser.page_source\n",
    "    soup = bs(html,'html')                             \n",
    "    temp = soup.find('div',{'class':'priceChars'})\n",
    "    p = temp.find('div',{'class':'price'})\n",
    "    patron = r'[\\d.]+'\n",
    "    condi = re.findall(patron,p.text)\n",
    "    p =''.join(condi)\n",
    "    try:\n",
    "        a=temp.find('li',{'class':'bedrooms'}).text\n",
    "    except AttributeError:\n",
    "        a = 'NAN' \n",
    "    try:\n",
    "        b = temp.find('li',{'class':'bathrooms'}).text\n",
    "    except AttributeError:\n",
    "        b = 'NAN' \n",
    "    try:\n",
    "        c = temp.find('li',{'class':'dimensions'}).text\n",
    "    except:\n",
    "        c= 'NAN'\n",
    "    clave = ['url','habitacion','baño','dimension','precio']\n",
    "    valor = [url,a[0],b[0],c,p]\n",
    "    # vallamos a por el estrato \n",
    "    c = True\n",
    "    try:\n",
    "        li_elements=soup.find('div',{'class':'dropdown-list open'}).find_all('li',{'class':'tick'})\n",
    "    except:\n",
    "        c = False\n",
    "        \n",
    "    if c: \n",
    "        for li in li_elements:\n",
    "            if 'Estrato' in li.text:\n",
    "        # Usa una expresión regular para extraer el número de estrato\n",
    "                estrato_match = re.search(r'Estrato:\\s*(\\d+)', li.text)\n",
    "                if estrato_match:\n",
    "                    estrato_value = estrato_match.group(1)\n",
    "                    valor.append(estrato_value)\n",
    "                    clave.append('estrato')\n",
    "            \n",
    "    else:\n",
    "        valor.append(np.NAN)\n",
    "        clave.append('estrato')\n",
    "    # por ultimo el latitud y longutud\n",
    "    latitud= soup.find('div',{'class':'dropdown-list light open map-section'}).find('button').get('data-x')\n",
    "    longitud= soup.find('div',{'class':'dropdown-list light open map-section'}).find('button').get('data-y')\n",
    "    valor.append(latitud)\n",
    "    clave.append('latitud')\n",
    "    valor.append(longitud)\n",
    "    clave.append('longitud')\n",
    "    df1 = pd.DataFrame(data=[valor],columns=clave)\n",
    "    data1 = pd.concat([data1,df1],axis=0) "
   ]
  },
  {
   "cell_type": "code",
   "execution_count": 76,
   "id": "43e411f5-6819-48a0-9feb-e9787f118060",
   "metadata": {},
   "outputs": [
    {
     "data": {
      "text/html": [
       "<div>\n",
       "<style scoped>\n",
       "    .dataframe tbody tr th:only-of-type {\n",
       "        vertical-align: middle;\n",
       "    }\n",
       "\n",
       "    .dataframe tbody tr th {\n",
       "        vertical-align: top;\n",
       "    }\n",
       "\n",
       "    .dataframe thead th {\n",
       "        text-align: right;\n",
       "    }\n",
       "</style>\n",
       "<table border=\"1\" class=\"dataframe\">\n",
       "  <thead>\n",
       "    <tr style=\"text-align: right;\">\n",
       "      <th></th>\n",
       "      <th>url</th>\n",
       "      <th>habitacion</th>\n",
       "      <th>baño</th>\n",
       "      <th>dimension</th>\n",
       "      <th>precio</th>\n",
       "      <th>estrato</th>\n",
       "      <th>latitud</th>\n",
       "      <th>longitud</th>\n",
       "    </tr>\n",
       "  </thead>\n",
       "  <tbody>\n",
       "    <tr>\n",
       "      <th>0</th>\n",
       "      <td>2b72-82fe-18fc293-722dc1ef005c-7129</td>\n",
       "      <td>2</td>\n",
       "      <td>2</td>\n",
       "      <td>75m2</td>\n",
       "      <td>290.000.000</td>\n",
       "      <td>5</td>\n",
       "      <td>5.532431</td>\n",
       "      <td>-73.361601</td>\n",
       "    </tr>\n",
       "    <tr>\n",
       "      <th>0</th>\n",
       "      <td>2688-879f-6b245957-690b01267248-3152</td>\n",
       "      <td>3</td>\n",
       "      <td>2</td>\n",
       "      <td>78m2</td>\n",
       "      <td>250.000.000</td>\n",
       "      <td>NaN</td>\n",
       "      <td>5.534</td>\n",
       "      <td>-73.362</td>\n",
       "    </tr>\n",
       "    <tr>\n",
       "      <th>0</th>\n",
       "      <td>9e55-b016-c7b4375e-2882ef5e1b71-43d9</td>\n",
       "      <td>3</td>\n",
       "      <td>2</td>\n",
       "      <td>56m2</td>\n",
       "      <td>170.000.000</td>\n",
       "      <td>3</td>\n",
       "      <td>5.514202</td>\n",
       "      <td>-73.368592</td>\n",
       "    </tr>\n",
       "    <tr>\n",
       "      <th>0</th>\n",
       "      <td>eacb-885b-18f4d5b-1661e30e9c86-7c1e</td>\n",
       "      <td>3</td>\n",
       "      <td>2</td>\n",
       "      <td>62,32m2</td>\n",
       "      <td>262.900.000</td>\n",
       "      <td>3</td>\n",
       "      <td>5.512884</td>\n",
       "      <td>-73.367969</td>\n",
       "    </tr>\n",
       "    <tr>\n",
       "      <th>0</th>\n",
       "      <td>b6e8-98d2-18f4d8f-a982c7d04954-7a3c</td>\n",
       "      <td>3</td>\n",
       "      <td>2</td>\n",
       "      <td>62,32m2</td>\n",
       "      <td>202.900.000</td>\n",
       "      <td>3</td>\n",
       "      <td>5.512952</td>\n",
       "      <td>-73.367884</td>\n",
       "    </tr>\n",
       "    <tr>\n",
       "      <th>...</th>\n",
       "      <td>...</td>\n",
       "      <td>...</td>\n",
       "      <td>...</td>\n",
       "      <td>...</td>\n",
       "      <td>...</td>\n",
       "      <td>...</td>\n",
       "      <td>...</td>\n",
       "      <td>...</td>\n",
       "    </tr>\n",
       "    <tr>\n",
       "      <th>0</th>\n",
       "      <td>eda1-adab-3f411cfe-bcf06cbe2b18-3d86</td>\n",
       "      <td>3</td>\n",
       "      <td>2</td>\n",
       "      <td>150m2</td>\n",
       "      <td>255.000.000</td>\n",
       "      <td>NaN</td>\n",
       "      <td>5.534</td>\n",
       "      <td>-73.362</td>\n",
       "    </tr>\n",
       "    <tr>\n",
       "      <th>0</th>\n",
       "      <td>59f1-a652-9a1311b9-257c0504a580-47d7</td>\n",
       "      <td>N</td>\n",
       "      <td>N</td>\n",
       "      <td>NAN</td>\n",
       "      <td>250.000.000</td>\n",
       "      <td>NaN</td>\n",
       "      <td>5.5144414</td>\n",
       "      <td>-73.3577575</td>\n",
       "    </tr>\n",
       "    <tr>\n",
       "      <th>0</th>\n",
       "      <td>e18-ba34-3c693d9b-382d6d9d9900-3416</td>\n",
       "      <td>7</td>\n",
       "      <td>6</td>\n",
       "      <td>300m2</td>\n",
       "      <td>1.800.000.000</td>\n",
       "      <td>6</td>\n",
       "      <td>5.527421</td>\n",
       "      <td>-73.361366</td>\n",
       "    </tr>\n",
       "    <tr>\n",
       "      <th>0</th>\n",
       "      <td>b23a-8c5f-59b874b5-d9eb0f41cb1d-4997</td>\n",
       "      <td>3</td>\n",
       "      <td>2</td>\n",
       "      <td>NAN</td>\n",
       "      <td>220.000.000</td>\n",
       "      <td>3</td>\n",
       "      <td>5.5172766</td>\n",
       "      <td>-73.3603543</td>\n",
       "    </tr>\n",
       "    <tr>\n",
       "      <th>0</th>\n",
       "      <td>f00c-ab1a-18ff0f4-af52b79b3e4c-7663</td>\n",
       "      <td>7</td>\n",
       "      <td>4</td>\n",
       "      <td>220m2</td>\n",
       "      <td>275.000.000</td>\n",
       "      <td>2</td>\n",
       "      <td>5.534694</td>\n",
       "      <td>-73.355344</td>\n",
       "    </tr>\n",
       "  </tbody>\n",
       "</table>\n",
       "<p>136 rows × 8 columns</p>\n",
       "</div>"
      ],
      "text/plain": [
       "                                     url habitacion baño dimension  \\\n",
       "0    2b72-82fe-18fc293-722dc1ef005c-7129          2    2      75m2   \n",
       "0   2688-879f-6b245957-690b01267248-3152          3    2      78m2   \n",
       "0   9e55-b016-c7b4375e-2882ef5e1b71-43d9          3    2      56m2   \n",
       "0    eacb-885b-18f4d5b-1661e30e9c86-7c1e          3    2   62,32m2   \n",
       "0    b6e8-98d2-18f4d8f-a982c7d04954-7a3c          3    2   62,32m2   \n",
       "..                                   ...        ...  ...       ...   \n",
       "0   eda1-adab-3f411cfe-bcf06cbe2b18-3d86          3    2     150m2   \n",
       "0   59f1-a652-9a1311b9-257c0504a580-47d7          N    N       NAN   \n",
       "0    e18-ba34-3c693d9b-382d6d9d9900-3416          7    6     300m2   \n",
       "0   b23a-8c5f-59b874b5-d9eb0f41cb1d-4997          3    2       NAN   \n",
       "0    f00c-ab1a-18ff0f4-af52b79b3e4c-7663          7    4     220m2   \n",
       "\n",
       "           precio estrato    latitud     longitud  \n",
       "0     290.000.000       5   5.532431   -73.361601  \n",
       "0     250.000.000     NaN      5.534      -73.362  \n",
       "0     170.000.000       3   5.514202   -73.368592  \n",
       "0     262.900.000       3   5.512884   -73.367969  \n",
       "0     202.900.000       3   5.512952   -73.367884  \n",
       "..            ...     ...        ...          ...  \n",
       "0     255.000.000     NaN      5.534      -73.362  \n",
       "0     250.000.000     NaN  5.5144414  -73.3577575  \n",
       "0   1.800.000.000       6   5.527421   -73.361366  \n",
       "0     220.000.000       3  5.5172766  -73.3603543  \n",
       "0     275.000.000       2   5.534694   -73.355344  \n",
       "\n",
       "[136 rows x 8 columns]"
      ]
     },
     "execution_count": 76,
     "metadata": {},
     "output_type": "execute_result"
    }
   ],
   "source": [
    "data1"
   ]
  },
  {
   "cell_type": "code",
   "execution_count": 69,
   "id": "203ae3f2-11bf-4c6b-b1cf-eb7f4d0d7dcf",
   "metadata": {},
   "outputs": [
    {
     "data": {
      "text/plain": [
       "path              be83-9dfb-343693d2-bb81d637038f-40d2\n",
       "tipo                                              Casa\n",
       "estado                                           venta\n",
       "ubicacion    San Ignacio/Centro Histórico/Tunja/Boyacá\n",
       "Name: 77, dtype: object"
      ]
     },
     "execution_count": 69,
     "metadata": {},
     "output_type": "execute_result"
    }
   ],
   "source": [
    "df.iloc[i]"
   ]
  },
  {
   "cell_type": "code",
   "execution_count": 70,
   "id": "7ef588f7-5271-428e-a832-12b234c68acd",
   "metadata": {},
   "outputs": [
    {
     "data": {
      "text/plain": [
       "'https://www.puntopropiedad.com/inmueble/be83-9dfb-343693d2-bb81d637038f-40d2'"
      ]
     },
     "execution_count": 70,
     "metadata": {},
     "output_type": "execute_result"
    }
   ],
   "source": [
    "path+'be83-9dfb-343693d2-bb81d637038f-40d2'"
   ]
  },
  {
   "cell_type": "code",
   "execution_count": 77,
   "id": "784c3fe8-73c6-470b-b4da-9a92c66f87e9",
   "metadata": {},
   "outputs": [],
   "source": [
    "data1.to_csv('data2.csv',index=False)"
   ]
  },
  {
   "cell_type": "code",
   "execution_count": 57,
   "id": "e8d1c82a-b293-4688-8c76-8035d6339ab5",
   "metadata": {},
   "outputs": [
    {
     "data": {
      "text/plain": [
       "(1, 0)"
      ]
     },
     "execution_count": 57,
     "metadata": {},
     "output_type": "execute_result"
    }
   ],
   "source": [
    "a = 5\n",
    "b = 0\n",
    "try:\n",
    "    c = a/b\n",
    "except ZeroDivisionError:\n",
    "    b = 1\n",
    "    c = 0\n",
    "b,c    "
   ]
  },
  {
   "cell_type": "code",
   "execution_count": 78,
   "id": "8204af86-e3af-4e4f-9a7f-60d0ca14e809",
   "metadata": {},
   "outputs": [
    {
     "name": "stdout",
     "output_type": "stream",
     "text": [
      "<class 'pandas.core.frame.DataFrame'>\n",
      "Index: 136 entries, 0 to 0\n",
      "Data columns (total 8 columns):\n",
      " #   Column      Non-Null Count  Dtype \n",
      "---  ------      --------------  ----- \n",
      " 0   url         136 non-null    object\n",
      " 1   habitacion  136 non-null    object\n",
      " 2   baño        136 non-null    object\n",
      " 3   dimension   136 non-null    object\n",
      " 4   precio      136 non-null    object\n",
      " 5   estrato     24 non-null     object\n",
      " 6   latitud     136 non-null    object\n",
      " 7   longitud    136 non-null    object\n",
      "dtypes: object(8)\n",
      "memory usage: 9.6+ KB\n"
     ]
    }
   ],
   "source": [
    "data1.info()"
   ]
  },
  {
   "cell_type": "code",
   "execution_count": 73,
   "id": "00fb6263-16b2-482b-99d5-f809269132a4",
   "metadata": {},
   "outputs": [
    {
     "data": {
      "text/plain": [
       "77"
      ]
     },
     "execution_count": 73,
     "metadata": {},
     "output_type": "execute_result"
    }
   ],
   "source": [
    "i"
   ]
  },
  {
   "cell_type": "code",
   "execution_count": null,
   "id": "79378622-ed3e-43cb-8392-f75b1f6028cc",
   "metadata": {},
   "outputs": [],
   "source": []
  }
 ],
 "metadata": {
  "kernelspec": {
   "display_name": "Python 3 (ipykernel)",
   "language": "python",
   "name": "python3"
  },
  "language_info": {
   "codemirror_mode": {
    "name": "ipython",
    "version": 3
   },
   "file_extension": ".py",
   "mimetype": "text/x-python",
   "name": "python",
   "nbconvert_exporter": "python",
   "pygments_lexer": "ipython3",
   "version": "3.11.5"
  }
 },
 "nbformat": 4,
 "nbformat_minor": 5
}
