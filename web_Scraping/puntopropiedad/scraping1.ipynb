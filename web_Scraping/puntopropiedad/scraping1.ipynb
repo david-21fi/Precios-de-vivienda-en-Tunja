{
 "cells": [
  {
   "cell_type": "code",
   "execution_count": 1,
   "id": "96e10fa7-70e3-42c3-804b-83fa3b3486cb",
   "metadata": {},
   "outputs": [],
   "source": [
    "from bs4 import BeautifulSoup as bs\n",
    "import random\n",
    "import time\n",
    "import re\n",
    "import pandas as pd\n",
    "import numpy as np\n",
    "from selenium import webdriver\n",
    "from selenium.webdriver.common.by import By\n",
    "from selenium.webdriver.common.keys import Keys\n",
    "import undetected_chromedriver as uc\n",
    "from selenium.webdriver.support import expected_conditions as EC"
   ]
  },
  {
   "cell_type": "code",
   "execution_count": 2,
   "id": "5ed56310-d218-49d8-9c33-68883994a037",
   "metadata": {},
   "outputs": [],
   "source": [
    "browser = uc.Chrome(driver_executable_path='../chromedriver-linux64/chromedriver')"
   ]
  },
  {
   "cell_type": "code",
   "execution_count": 3,
   "id": "df7f248f-d2e8-4381-8a38-8f5352e150cf",
   "metadata": {},
   "outputs": [],
   "source": [
    "URL = 'https://www.puntopropiedad.com/venta/apartamentos/tunja/centro-historico'"
   ]
  },
  {
   "cell_type": "code",
   "execution_count": 4,
   "id": "b7c4fdb3-1366-4fe4-8d78-7f2c96465f33",
   "metadata": {},
   "outputs": [],
   "source": [
    "browser.get(URL)"
   ]
  },
  {
   "cell_type": "code",
   "execution_count": 201,
   "id": "0c53b909-2246-45c4-8917-d373ec1ccd37",
   "metadata": {},
   "outputs": [],
   "source": [
    "html = browser.page_source ## sacamos el html de la pagina"
   ]
  },
  {
   "cell_type": "code",
   "execution_count": 202,
   "id": "ebd4c08e-912f-4d52-a946-f7b1245614a5",
   "metadata": {},
   "outputs": [],
   "source": [
    "soup = bs(html,\"html\")"
   ]
  },
  {
   "cell_type": "code",
   "execution_count": 203,
   "id": "def1ca20-7e9a-4875-81d5-900798f0c364",
   "metadata": {},
   "outputs": [],
   "source": [
    "temp=soup.find('article',{'class':'padre'})"
   ]
  },
  {
   "cell_type": "code",
   "execution_count": 204,
   "id": "7483ea8e-2e71-4a53-855b-d93e0a86a1f1",
   "metadata": {},
   "outputs": [
    {
     "data": {
      "text/plain": [
       "11"
      ]
     },
     "execution_count": 204,
     "metadata": {},
     "output_type": "execute_result"
    }
   ],
   "source": [
    "len(temp)"
   ]
  },
  {
   "cell_type": "code",
   "execution_count": 205,
   "id": "547f64bb-8402-4c66-b5fc-70486efd3cdf",
   "metadata": {},
   "outputs": [],
   "source": [
    "lista =[i for i in temp]"
   ]
  },
  {
   "cell_type": "code",
   "execution_count": 157,
   "id": "ac21a6bd-f0c9-4474-9bee-74da0571e419",
   "metadata": {},
   "outputs": [
    {
     "data": {
      "text/plain": [
       "11"
      ]
     },
     "execution_count": 157,
     "metadata": {},
     "output_type": "execute_result"
    }
   ],
   "source": [
    "len(lista)"
   ]
  },
  {
   "cell_type": "code",
   "execution_count": 206,
   "id": "1cd75179-a3c3-4857-bee1-3227dcda5b3c",
   "metadata": {},
   "outputs": [
    {
     "data": {
      "text/plain": [
       "'\\n    var gAListings = {\"bb8fde56-9f06-3af0-a86a-397a0b310c60\":{\"item_id\":\"9f8c-a8f0-bb8fdedc-397a0b310ce6-3b76\",\"item_name\":\"Casa en  Las Nieves-centro, Tunja\",\"index\":1,\"item_brand\":\"0b34ccb6-1848-4589-812c-7ac3119dca6f\",\"item_category\":\"Casa\",\"item_category2\":\"venta\",\"item_category3\":\"Las Nieves-Centro/Centro Histórico/Tunja/Boyacá\",\"price\":6.0E8,\"currency\":\"COP\",\"item_list_id\":\"/venta/casas/tunja/centro-historico/p_5\",\"item_list_name\":\"69 casas en venta en Centro Histórico, Tunja\",\"quantity\":1},\"7a61c095-9cc9-3d88-a93b-d2af31407762\":{\"item_id\":\"9d4f-a9c1-7a61c11b-d2af314077e8-3e0e\",\"item_name\":\"Casa en  San Ignacio, Centro Histórico, Tunja\",\"index\":2,\"item_brand\":\"0b34ccb6-1848-4589-812c-7ac3119dca6f\",\"item_category\":\"Casa\",\"item_category2\":\"venta\",\"item_category3\":\"San Ignacio/Centro Histórico/Tunja/Boyacá\",\"price\":2.2E8,\"currency\":\"COP\",\"item_list_id\":\"/venta/casas/tunja/centro-historico/p_5\",\"item_list_name\":\"69 casas en venta en Centro Histórico, Tunja\",\"quantity\":1},\"bfc48f25-2d61-3bf7-a437-49d6af565ce1\":{\"item_id\":\"2de7-a4bd-bfc48fab-49d6af565d67-3c7d\",\"item_name\":\"Casa en  Las Nieves-centro, Tunja\",\"index\":3,\"item_brand\":\"0b34ccb6-1848-4589-812c-7ac3119dca6f\",\"item_category\":\"Casa\",\"item_category2\":\"venta\",\"item_category3\":\"Las Nieves-Centro/Centro Histórico/Tunja/Boyacá\",\"price\":1.2E9,\"currency\":\"COP\",\"item_list_id\":\"/venta/casas/tunja/centro-historico/p_5\",\"item_list_name\":\"69 casas en venta en Centro Histórico, Tunja\",\"quantity\":1},\"53530d38-a274-338a-ad6e-972c6d4d337b\":{\"item_id\":\"a2fa-adf4-53530dbe-972c6d4d3401-3410\",\"item_name\":\"Casa en  20 De Julio, Centro Histórico, Tunja\",\"index\":4,\"item_brand\":\"0b34ccb6-1848-4589-812c-7ac3119dca6f\",\"item_category\":\"Casa\",\"item_category2\":\"venta\",\"item_category3\":\"20 de Julio/Centro Histórico/Tunja/Boyacá\",\"price\":2.3E8,\"currency\":\"COP\",\"item_list_id\":\"/venta/casas/tunja/centro-historico/p_5\",\"item_list_name\":\"69 casas en venta en Centro Histórico, Tunja\",\"quantity\":1},\"3f411c78-ed1b-3d00-ad25-bcf06cbe2a92\":{\"item_id\":\"eda1-adab-3f411cfe-bcf06cbe2b18-3d86\",\"item_name\":\"Casa en  Las Nieves-centro, Tunja\",\"index\":5,\"item_brand\":\"0b34ccb6-1848-4589-812c-7ac3119dca6f\",\"item_category\":\"Casa\",\"item_category2\":\"venta\",\"item_category3\":\"Las Nieves-Centro/Centro Histórico/Tunja/Boyacá\",\"price\":2.55E8,\"currency\":\"COP\",\"item_list_id\":\"/venta/casas/tunja/centro-historico/p_5\",\"item_list_name\":\"69 casas en venta en Centro Histórico, Tunja\",\"quantity\":1},\"9a131133-596b-4751-a5cc-257c0504a4fa\":{\"item_id\":\"59f1-a652-9a1311b9-257c0504a580-47d7\",\"item_name\":\"Casa en  Habitaciones Altos De Cooservicios, Carrera 1e, Cooservicios, Tunja, Boyacá, Colombia\",\"index\":6,\"item_brand\":\"7f5653df-416e-49a2-899a-596acb173d40\",\"item_category\":\"Casa\",\"item_category2\":\"venta\",\"item_category3\":\"San Ignacio/Centro Histórico/Tunja/Boyacá\",\"price\":2.5E8,\"currency\":\"COP\",\"item_list_id\":\"/venta/casas/tunja/centro-historico/p_5\",\"item_list_name\":\"69 casas en venta en Centro Histórico, Tunja\",\"quantity\":1},\"3c693d15-0d92-3390-b9ae-382d6d9d987a\":{\"item_id\":\"e18-ba34-3c693d9b-382d6d9d9900-3416\",\"item_name\":\"Casa en  San Ignacio, Centro Histórico, Tunja\",\"index\":7,\"item_brand\":\"1560ef8c-8646-49cd-aff8-617f56e1007c\",\"item_category\":\"Casa\",\"item_category2\":\"venta\",\"item_category3\":\"San Ignacio/Centro Histórico/Tunja/Boyacá\",\"price\":1.8E9,\"currency\":\"COP\",\"item_list_id\":\"/venta/casas/tunja/centro-historico/p_5\",\"item_list_name\":\"69 casas en venta en Centro Histórico, Tunja\",\"quantity\":1},\"59b8742f-b1b4-4911-8bd9-d9eb0f41ca97\":{\"item_id\":\"b23a-8c5f-59b874b5-d9eb0f41cb1d-4997\",\"item_name\":\"Casa en  Calle 5a #4-32, Tunja, Boyacá, Colombia\",\"index\":8,\"item_brand\":\"1f0c4ebe-9b54-4f6c-ac42-f1152a156bec\",\"item_category\":\"Casa\",\"item_category2\":\"venta\",\"item_category3\":\"San Ignacio/Centro Histórico/Tunja/Boyacá\",\"price\":2.2E8,\"currency\":\"COP\",\"item_list_id\":\"/venta/casas/tunja/centro-historico/p_5\",\"item_list_name\":\"69 casas en venta en Centro Histórico, Tunja\",\"quantity\":1},\"018ff06e-ef86-75dd-aa94-af52b79b3dc6\":{\"item_id\":\"f00c-ab1a-18ff0f4-af52b79b3e4c-7663\",\"item_name\":\"Casa en  Las Nieves-centro, Tunja\",\"index\":9,\"item_brand\":\"e8f1eaf4-3198-4fe5-8dbb-754b6cb246c0\",\"item_category\":\"Casa\",\"item_category2\":\"venta\",\"item_category3\":\"Las Nieves-Centro/Centro Histórico/Tunja/Boyacá\",\"price\":2.75E8,\"currency\":\"COP\",\"item_list_id\":\"/venta/casas/tunja/centro-historico/p_5\",\"item_list_name\":\"69 casas en venta en Centro Histórico, Tunja\",\"quantity\":1}};\\n    var gaPageType = \\'serp\\';\\n    var gaPageTitle = \\'69 casas en venta en Centro Histórico, Tunja\\';\\n'"
      ]
     },
     "execution_count": 206,
     "metadata": {},
     "output_type": "execute_result"
    }
   ],
   "source": [
    "lista[7].string"
   ]
  },
  {
   "cell_type": "code",
   "execution_count": 207,
   "id": "18814f72-2e89-4a27-8f2d-494ed09bd767",
   "metadata": {},
   "outputs": [],
   "source": [
    "a=lista[7].string"
   ]
  },
  {
   "cell_type": "code",
   "execution_count": 65,
   "id": "d6611118-e74a-4308-85e7-2435a5379fce",
   "metadata": {},
   "outputs": [],
   "source": [
    "#import json"
   ]
  },
  {
   "cell_type": "code",
   "execution_count": 208,
   "id": "5cb4f939-87a6-4900-90a0-9976a6efa937",
   "metadata": {},
   "outputs": [],
   "source": [
    "json_text = re.search(r'var gAListings = ({.*?});',a).group(1)\n",
    "data = json.loads(json_text)\n",
    "item_ids = [item['item_id'] for item in data.values()]\n",
    "category = [item['item_category'] for item in data.values()]\n",
    "category2 = [item['item_category2'] for item in data.values()]\n",
    "ubicacion = [item['item_category3'] for item in data.values()]\n",
    "df=pd.DataFrame({\n",
    "    'path':item_ids,\n",
    "    'tipo':category,\n",
    "    'estado':category2,\n",
    "    'ubicacion':ubicacion\n",
    "})\n"
   ]
  },
  {
   "cell_type": "code",
   "execution_count": 199,
   "id": "e23d994c-8c3c-45af-88e9-6656b24fe311",
   "metadata": {},
   "outputs": [
    {
     "data": {
      "text/html": [
       "<div>\n",
       "<style scoped>\n",
       "    .dataframe tbody tr th:only-of-type {\n",
       "        vertical-align: middle;\n",
       "    }\n",
       "\n",
       "    .dataframe tbody tr th {\n",
       "        vertical-align: top;\n",
       "    }\n",
       "\n",
       "    .dataframe thead th {\n",
       "        text-align: right;\n",
       "    }\n",
       "</style>\n",
       "<table border=\"1\" class=\"dataframe\">\n",
       "  <thead>\n",
       "    <tr style=\"text-align: right;\">\n",
       "      <th></th>\n",
       "      <th>path</th>\n",
       "      <th>tipo</th>\n",
       "      <th>estado</th>\n",
       "      <th>ubicacion</th>\n",
       "    </tr>\n",
       "  </thead>\n",
       "  <tbody>\n",
       "    <tr>\n",
       "      <th>0</th>\n",
       "      <td>88b8-9182-d4fc0b35-b6730a63a3b3-38cb</td>\n",
       "      <td>Casa</td>\n",
       "      <td>venta</td>\n",
       "      <td>San Ignacio/Centro Histórico/Tunja/Boyacá</td>\n",
       "    </tr>\n",
       "    <tr>\n",
       "      <th>1</th>\n",
       "      <td>787b-81d6-2e98aad1-b18447c17498-3a95</td>\n",
       "      <td>Casa</td>\n",
       "      <td>venta</td>\n",
       "      <td>San Ignacio/Centro Histórico/Tunja/Boyacá</td>\n",
       "    </tr>\n",
       "    <tr>\n",
       "      <th>2</th>\n",
       "      <td>a3fa-9e5d-290786dd-27f35be5dfc4-3543</td>\n",
       "      <td>Casa</td>\n",
       "      <td>venta</td>\n",
       "      <td>San Ignacio/Centro Histórico/Tunja/Boyacá</td>\n",
       "    </tr>\n",
       "    <tr>\n",
       "      <th>3</th>\n",
       "      <td>3aba-947c-137fbb52-55b715324260-326b</td>\n",
       "      <td>Casa</td>\n",
       "      <td>venta</td>\n",
       "      <td>San Ignacio/Centro Histórico/Tunja/Boyacá</td>\n",
       "    </tr>\n",
       "    <tr>\n",
       "      <th>4</th>\n",
       "      <td>5cf1-ba2a-6b16f76-78fb4e458811-34dd</td>\n",
       "      <td>Casa</td>\n",
       "      <td>venta</td>\n",
       "      <td>San Ignacio/Centro Histórico/Tunja/Boyacá</td>\n",
       "    </tr>\n",
       "    <tr>\n",
       "      <th>5</th>\n",
       "      <td>c637-98f7-18f9b90-fddef7c159a8-7870</td>\n",
       "      <td>Casa</td>\n",
       "      <td>venta</td>\n",
       "      <td>Maldonado/Centro Histórico/Tunja/Boyacá</td>\n",
       "    </tr>\n",
       "    <tr>\n",
       "      <th>6</th>\n",
       "      <td>46b9-be08-82990708-2512b9e916e8-309a</td>\n",
       "      <td>Casa</td>\n",
       "      <td>venta</td>\n",
       "      <td>San Ignacio/Centro Histórico/Tunja/Boyacá</td>\n",
       "    </tr>\n",
       "    <tr>\n",
       "      <th>7</th>\n",
       "      <td>1d69-a7f8-586edfb2-6c2829122d1b-4082</td>\n",
       "      <td>Casa</td>\n",
       "      <td>venta</td>\n",
       "      <td>San Ignacio/Centro Histórico/Tunja/Boyacá</td>\n",
       "    </tr>\n",
       "    <tr>\n",
       "      <th>8</th>\n",
       "      <td>71e6-94de-adaa6ba0-3d973ca48706-3936</td>\n",
       "      <td>Casa</td>\n",
       "      <td>venta</td>\n",
       "      <td>Las Nieves-Centro/Centro Histórico/Tunja/Boyacá</td>\n",
       "    </tr>\n",
       "    <tr>\n",
       "      <th>9</th>\n",
       "      <td>75ae-b026-3604fe72-78e9011b1df9-3804</td>\n",
       "      <td>Casa</td>\n",
       "      <td>venta</td>\n",
       "      <td>San Ignacio/Centro Histórico/Tunja/Boyacá</td>\n",
       "    </tr>\n",
       "    <tr>\n",
       "      <th>10</th>\n",
       "      <td>95a2-bd90-cf56964d-39fef98192e-3638</td>\n",
       "      <td>Casa</td>\n",
       "      <td>venta</td>\n",
       "      <td>Las Nieves-Centro/Centro Histórico/Tunja/Boyacá</td>\n",
       "    </tr>\n",
       "    <tr>\n",
       "      <th>11</th>\n",
       "      <td>ddd3-8bbd-ad382879-ae1b9fda4e64-3824</td>\n",
       "      <td>Casa</td>\n",
       "      <td>venta</td>\n",
       "      <td>San Ignacio/Centro Histórico/Tunja/Boyacá</td>\n",
       "    </tr>\n",
       "    <tr>\n",
       "      <th>12</th>\n",
       "      <td>2e69-8881-6af55aff-f1d41c04bf67-3333</td>\n",
       "      <td>Casa</td>\n",
       "      <td>venta</td>\n",
       "      <td>San Ignacio/Centro Histórico/Tunja/Boyacá</td>\n",
       "    </tr>\n",
       "    <tr>\n",
       "      <th>13</th>\n",
       "      <td>ad7b-8fe0-408248bf-870e0e71764d-4ccf</td>\n",
       "      <td>Casa</td>\n",
       "      <td>venta</td>\n",
       "      <td>Las Nieves-Centro/Centro Histórico/Tunja/Boyacá</td>\n",
       "    </tr>\n",
       "    <tr>\n",
       "      <th>14</th>\n",
       "      <td>b94b-883d-c4883f46-61704558bc0f-3725</td>\n",
       "      <td>Casa</td>\n",
       "      <td>venta</td>\n",
       "      <td>San Ignacio/Centro Histórico/Tunja/Boyacá</td>\n",
       "    </tr>\n",
       "  </tbody>\n",
       "</table>\n",
       "</div>"
      ],
      "text/plain": [
       "                                    path  tipo estado  \\\n",
       "0   88b8-9182-d4fc0b35-b6730a63a3b3-38cb  Casa  venta   \n",
       "1   787b-81d6-2e98aad1-b18447c17498-3a95  Casa  venta   \n",
       "2   a3fa-9e5d-290786dd-27f35be5dfc4-3543  Casa  venta   \n",
       "3   3aba-947c-137fbb52-55b715324260-326b  Casa  venta   \n",
       "4    5cf1-ba2a-6b16f76-78fb4e458811-34dd  Casa  venta   \n",
       "5    c637-98f7-18f9b90-fddef7c159a8-7870  Casa  venta   \n",
       "6   46b9-be08-82990708-2512b9e916e8-309a  Casa  venta   \n",
       "7   1d69-a7f8-586edfb2-6c2829122d1b-4082  Casa  venta   \n",
       "8   71e6-94de-adaa6ba0-3d973ca48706-3936  Casa  venta   \n",
       "9   75ae-b026-3604fe72-78e9011b1df9-3804  Casa  venta   \n",
       "10   95a2-bd90-cf56964d-39fef98192e-3638  Casa  venta   \n",
       "11  ddd3-8bbd-ad382879-ae1b9fda4e64-3824  Casa  venta   \n",
       "12  2e69-8881-6af55aff-f1d41c04bf67-3333  Casa  venta   \n",
       "13  ad7b-8fe0-408248bf-870e0e71764d-4ccf  Casa  venta   \n",
       "14  b94b-883d-c4883f46-61704558bc0f-3725  Casa  venta   \n",
       "\n",
       "                                          ubicacion  \n",
       "0         San Ignacio/Centro Histórico/Tunja/Boyacá  \n",
       "1         San Ignacio/Centro Histórico/Tunja/Boyacá  \n",
       "2         San Ignacio/Centro Histórico/Tunja/Boyacá  \n",
       "3         San Ignacio/Centro Histórico/Tunja/Boyacá  \n",
       "4         San Ignacio/Centro Histórico/Tunja/Boyacá  \n",
       "5           Maldonado/Centro Histórico/Tunja/Boyacá  \n",
       "6         San Ignacio/Centro Histórico/Tunja/Boyacá  \n",
       "7         San Ignacio/Centro Histórico/Tunja/Boyacá  \n",
       "8   Las Nieves-Centro/Centro Histórico/Tunja/Boyacá  \n",
       "9         San Ignacio/Centro Histórico/Tunja/Boyacá  \n",
       "10  Las Nieves-Centro/Centro Histórico/Tunja/Boyacá  \n",
       "11        San Ignacio/Centro Histórico/Tunja/Boyacá  \n",
       "12        San Ignacio/Centro Histórico/Tunja/Boyacá  \n",
       "13  Las Nieves-Centro/Centro Histórico/Tunja/Boyacá  \n",
       "14        San Ignacio/Centro Histórico/Tunja/Boyacá  "
      ]
     },
     "execution_count": 199,
     "metadata": {},
     "output_type": "execute_result"
    }
   ],
   "source": [
    "df"
   ]
  },
  {
   "cell_type": "code",
   "execution_count": 209,
   "id": "4383b210-dba8-4cc9-9787-e8f20acccdbb",
   "metadata": {},
   "outputs": [],
   "source": [
    "datos = pd.concat([datos,df],axis=0,ignore_index=True)"
   ]
  },
  {
   "cell_type": "code",
   "execution_count": 187,
   "id": "5b6387d5-bff8-4e6b-bcda-12b0b38881dd",
   "metadata": {},
   "outputs": [
    {
     "ename": "SyntaxError",
     "evalue": "invalid syntax (3059789838.py, line 2)",
     "output_type": "error",
     "traceback": [
      "\u001b[0;36m  Cell \u001b[0;32mIn[187], line 2\u001b[0;36m\u001b[0m\n\u001b[0;31m    print(item_id)item_category3\u001b[0m\n\u001b[0m                  ^\u001b[0m\n\u001b[0;31mSyntaxError\u001b[0m\u001b[0;31m:\u001b[0m invalid syntax\n"
     ]
    }
   ],
   "source": [
    "\n",
    "for item_id in item_ids:\n",
    "    print(item_id)item_category3"
   ]
  },
  {
   "cell_type": "code",
   "execution_count": 210,
   "id": "f3b98d46-ed5a-4a0b-acae-ac0e3f5d9790",
   "metadata": {},
   "outputs": [
    {
     "name": "stdout",
     "output_type": "stream",
     "text": [
      "<class 'pandas.core.frame.DataFrame'>\n",
      "RangeIndex: 141 entries, 0 to 140\n",
      "Data columns (total 4 columns):\n",
      " #   Column     Non-Null Count  Dtype \n",
      "---  ------     --------------  ----- \n",
      " 0   path       141 non-null    object\n",
      " 1   tipo       141 non-null    object\n",
      " 2   estado     141 non-null    object\n",
      " 3   ubicacion  141 non-null    object\n",
      "dtypes: object(4)\n",
      "memory usage: 4.5+ KB\n"
     ]
    }
   ],
   "source": [
    "datos.info()"
   ]
  },
  {
   "cell_type": "code",
   "execution_count": 127,
   "id": "c2292342-709a-4b98-b450-2cac9a24152b",
   "metadata": {},
   "outputs": [
    {
     "data": {
      "text/html": [
       "<div>\n",
       "<style scoped>\n",
       "    .dataframe tbody tr th:only-of-type {\n",
       "        vertical-align: middle;\n",
       "    }\n",
       "\n",
       "    .dataframe tbody tr th {\n",
       "        vertical-align: top;\n",
       "    }\n",
       "\n",
       "    .dataframe thead th {\n",
       "        text-align: right;\n",
       "    }\n",
       "</style>\n",
       "<table border=\"1\" class=\"dataframe\">\n",
       "  <thead>\n",
       "    <tr style=\"text-align: right;\">\n",
       "      <th></th>\n",
       "      <th>path</th>\n",
       "      <th>tipo</th>\n",
       "      <th>estado</th>\n",
       "      <th>ubicacion</th>\n",
       "    </tr>\n",
       "  </thead>\n",
       "  <tbody>\n",
       "    <tr>\n",
       "      <th>0</th>\n",
       "      <td>2b72-82fe-18fc293-722dc1ef005c-7129</td>\n",
       "      <td>Apartamento</td>\n",
       "      <td>venta</td>\n",
       "      <td>Las Nieves-Centro/Centro Histórico/Tunja/Boyacá</td>\n",
       "    </tr>\n",
       "    <tr>\n",
       "      <th>1</th>\n",
       "      <td>2688-879f-6b245957-690b01267248-3152</td>\n",
       "      <td>Apartamento</td>\n",
       "      <td>venta</td>\n",
       "      <td>Las Nieves-Centro/Centro Histórico/Tunja/Boyacá</td>\n",
       "    </tr>\n",
       "    <tr>\n",
       "      <th>2</th>\n",
       "      <td>9e55-b016-c7b4375e-2882ef5e1b71-43d9</td>\n",
       "      <td>Apartamento</td>\n",
       "      <td>venta</td>\n",
       "      <td>San Ignacio/Centro Histórico/Tunja/Boyacá</td>\n",
       "    </tr>\n",
       "    <tr>\n",
       "      <th>3</th>\n",
       "      <td>eacb-885b-18f4d5b-1661e30e9c86-7c1e</td>\n",
       "      <td>Apartamento</td>\n",
       "      <td>venta</td>\n",
       "      <td>San Ignacio/Centro Histórico/Tunja/Boyacá</td>\n",
       "    </tr>\n",
       "    <tr>\n",
       "      <th>4</th>\n",
       "      <td>b6e8-98d2-18f4d8f-a982c7d04954-7a3c</td>\n",
       "      <td>Apartamento</td>\n",
       "      <td>venta</td>\n",
       "      <td>San Ignacio/Centro Histórico/Tunja/Boyacá</td>\n",
       "    </tr>\n",
       "  </tbody>\n",
       "</table>\n",
       "</div>"
      ],
      "text/plain": [
       "                                   path         tipo estado  \\\n",
       "0   2b72-82fe-18fc293-722dc1ef005c-7129  Apartamento  venta   \n",
       "1  2688-879f-6b245957-690b01267248-3152  Apartamento  venta   \n",
       "2  9e55-b016-c7b4375e-2882ef5e1b71-43d9  Apartamento  venta   \n",
       "3   eacb-885b-18f4d5b-1661e30e9c86-7c1e  Apartamento  venta   \n",
       "4   b6e8-98d2-18f4d8f-a982c7d04954-7a3c  Apartamento  venta   \n",
       "\n",
       "                                         ubicacion  \n",
       "0  Las Nieves-Centro/Centro Histórico/Tunja/Boyacá  \n",
       "1  Las Nieves-Centro/Centro Histórico/Tunja/Boyacá  \n",
       "2        San Ignacio/Centro Histórico/Tunja/Boyacá  \n",
       "3        San Ignacio/Centro Histórico/Tunja/Boyacá  \n",
       "4        San Ignacio/Centro Histórico/Tunja/Boyacá  "
      ]
     },
     "execution_count": 127,
     "metadata": {},
     "output_type": "execute_result"
    }
   ],
   "source": [
    "datos.head()"
   ]
  },
  {
   "cell_type": "code",
   "execution_count": 212,
   "id": "b975b98a-0914-4aa5-abc3-16f8aea1bd6f",
   "metadata": {},
   "outputs": [],
   "source": [
    "datos.to_csv('data1.csv',index=False) "
   ]
  },
  {
   "cell_type": "code",
   "execution_count": 215,
   "id": "0a89c72e-a944-4ed4-a759-17d983b5e43a",
   "metadata": {},
   "outputs": [],
   "source": [
    "index=datos.duplicated('path')"
   ]
  },
  {
   "cell_type": "code",
   "execution_count": 151,
   "id": "fe428d5d-7170-48bd-abaa-3014c1871457",
   "metadata": {},
   "outputs": [
    {
     "data": {
      "text/plain": [
       "7     False\n",
       "8     False\n",
       "9     False\n",
       "10    False\n",
       "11    False\n",
       "12    False\n",
       "13    False\n",
       "14    False\n",
       "0     False\n",
       "1     False\n",
       "dtype: bool"
      ]
     },
     "execution_count": 151,
     "metadata": {},
     "output_type": "execute_result"
    }
   ],
   "source": [
    "index[7:17]"
   ]
  },
  {
   "cell_type": "code",
   "execution_count": 216,
   "id": "2352d435-fa7b-4aeb-9da3-52f436afb57d",
   "metadata": {},
   "outputs": [
    {
     "data": {
      "text/html": [
       "<div>\n",
       "<style scoped>\n",
       "    .dataframe tbody tr th:only-of-type {\n",
       "        vertical-align: middle;\n",
       "    }\n",
       "\n",
       "    .dataframe tbody tr th {\n",
       "        vertical-align: top;\n",
       "    }\n",
       "\n",
       "    .dataframe thead th {\n",
       "        text-align: right;\n",
       "    }\n",
       "</style>\n",
       "<table border=\"1\" class=\"dataframe\">\n",
       "  <thead>\n",
       "    <tr style=\"text-align: right;\">\n",
       "      <th></th>\n",
       "      <th>path</th>\n",
       "      <th>tipo</th>\n",
       "      <th>estado</th>\n",
       "      <th>ubicacion</th>\n",
       "    </tr>\n",
       "  </thead>\n",
       "  <tbody>\n",
       "    <tr>\n",
       "      <th>32</th>\n",
       "      <td>c356-9bd3-ad48bf6c-5f2d1d014225-308c</td>\n",
       "      <td>Apartamento</td>\n",
       "      <td>venta</td>\n",
       "      <td>Las Nieves-Centro/Centro Histórico/Tunja/Boyacá</td>\n",
       "    </tr>\n",
       "    <tr>\n",
       "      <th>43</th>\n",
       "      <td>4a8f-ba4b-18fa5dd-894c5d123024-765f</td>\n",
       "      <td>Apartamento</td>\n",
       "      <td>venta</td>\n",
       "      <td>San Ignacio/Centro Histórico/Tunja/Boyacá</td>\n",
       "    </tr>\n",
       "    <tr>\n",
       "      <th>50</th>\n",
       "      <td>2a35-9bb6-111c69a1-1d8dd4f1069a-3600</td>\n",
       "      <td>Apartamento</td>\n",
       "      <td>venta</td>\n",
       "      <td>Maldonado/Centro Histórico/Tunja/Boyacá</td>\n",
       "    </tr>\n",
       "    <tr>\n",
       "      <th>58</th>\n",
       "      <td>2826-9d40-74f94578-153348823f72-30a7</td>\n",
       "      <td>Apartamento</td>\n",
       "      <td>venta</td>\n",
       "      <td>Las Nieves-Centro/Centro Histórico/Tunja/Boyacá</td>\n",
       "    </tr>\n",
       "    <tr>\n",
       "      <th>60</th>\n",
       "      <td>6bd5-a4c8-1bfc2b17-3c2284aa93f5-3425</td>\n",
       "      <td>Apartamento</td>\n",
       "      <td>venta</td>\n",
       "      <td>Las Nieves-Centro/Centro Histórico/Tunja/Boyacá</td>\n",
       "    </tr>\n",
       "  </tbody>\n",
       "</table>\n",
       "</div>"
      ],
      "text/plain": [
       "                                    path         tipo estado  \\\n",
       "32  c356-9bd3-ad48bf6c-5f2d1d014225-308c  Apartamento  venta   \n",
       "43   4a8f-ba4b-18fa5dd-894c5d123024-765f  Apartamento  venta   \n",
       "50  2a35-9bb6-111c69a1-1d8dd4f1069a-3600  Apartamento  venta   \n",
       "58  2826-9d40-74f94578-153348823f72-30a7  Apartamento  venta   \n",
       "60  6bd5-a4c8-1bfc2b17-3c2284aa93f5-3425  Apartamento  venta   \n",
       "\n",
       "                                          ubicacion  \n",
       "32  Las Nieves-Centro/Centro Histórico/Tunja/Boyacá  \n",
       "43        San Ignacio/Centro Histórico/Tunja/Boyacá  \n",
       "50          Maldonado/Centro Histórico/Tunja/Boyacá  \n",
       "58  Las Nieves-Centro/Centro Histórico/Tunja/Boyacá  \n",
       "60  Las Nieves-Centro/Centro Histórico/Tunja/Boyacá  "
      ]
     },
     "execution_count": 216,
     "metadata": {},
     "output_type": "execute_result"
    }
   ],
   "source": [
    "datos[index]"
   ]
  },
  {
   "cell_type": "code",
   "execution_count": 211,
   "id": "306ce256-a944-4ca3-908d-d0a374dedd8b",
   "metadata": {},
   "outputs": [
    {
     "data": {
      "text/plain": [
       "path\n",
       "4a8f-ba4b-18fa5dd-894c5d123024-765f     2\n",
       "6bd5-a4c8-1bfc2b17-3c2284aa93f5-3425    2\n",
       "2826-9d40-74f94578-153348823f72-30a7    2\n",
       "c356-9bd3-ad48bf6c-5f2d1d014225-308c    2\n",
       "2a35-9bb6-111c69a1-1d8dd4f1069a-3600    2\n",
       "                                       ..\n",
       "171a-bd69-a424b003-50d6c9afb973-33bc    1\n",
       "7740-b75c-93b4aa1d-b43d08fd7331-32d6    1\n",
       "1ff7-9ad0-29f49d26-165ad78f1f1d-3c34    1\n",
       "4afc-8c75-2d34c208-b6e46b815570-364d    1\n",
       "f00c-ab1a-18ff0f4-af52b79b3e4c-7663     1\n",
       "Name: count, Length: 136, dtype: int64"
      ]
     },
     "execution_count": 211,
     "metadata": {},
     "output_type": "execute_result"
    }
   ],
   "source": [
    "datos['path'].value_counts()"
   ]
  },
  {
   "cell_type": "code",
   "execution_count": 213,
   "id": "d8067b97-1147-496a-a7fb-d4fd26048a0d",
   "metadata": {},
   "outputs": [
    {
     "data": {
      "text/html": [
       "<div>\n",
       "<style scoped>\n",
       "    .dataframe tbody tr th:only-of-type {\n",
       "        vertical-align: middle;\n",
       "    }\n",
       "\n",
       "    .dataframe tbody tr th {\n",
       "        vertical-align: top;\n",
       "    }\n",
       "\n",
       "    .dataframe thead th {\n",
       "        text-align: right;\n",
       "    }\n",
       "</style>\n",
       "<table border=\"1\" class=\"dataframe\">\n",
       "  <thead>\n",
       "    <tr style=\"text-align: right;\">\n",
       "      <th></th>\n",
       "      <th>path</th>\n",
       "      <th>tipo</th>\n",
       "      <th>estado</th>\n",
       "      <th>ubicacion</th>\n",
       "    </tr>\n",
       "  </thead>\n",
       "  <tbody>\n",
       "    <tr>\n",
       "      <th>10</th>\n",
       "      <td>4a8f-ba4b-18fa5dd-894c5d123024-765f</td>\n",
       "      <td>Apartamento</td>\n",
       "      <td>venta</td>\n",
       "      <td>San Ignacio/Centro Histórico/Tunja/Boyacá</td>\n",
       "    </tr>\n",
       "    <tr>\n",
       "      <th>43</th>\n",
       "      <td>4a8f-ba4b-18fa5dd-894c5d123024-765f</td>\n",
       "      <td>Apartamento</td>\n",
       "      <td>venta</td>\n",
       "      <td>San Ignacio/Centro Histórico/Tunja/Boyacá</td>\n",
       "    </tr>\n",
       "  </tbody>\n",
       "</table>\n",
       "</div>"
      ],
      "text/plain": [
       "                                   path         tipo estado  \\\n",
       "10  4a8f-ba4b-18fa5dd-894c5d123024-765f  Apartamento  venta   \n",
       "43  4a8f-ba4b-18fa5dd-894c5d123024-765f  Apartamento  venta   \n",
       "\n",
       "                                    ubicacion  \n",
       "10  San Ignacio/Centro Histórico/Tunja/Boyacá  \n",
       "43  San Ignacio/Centro Histórico/Tunja/Boyacá  "
      ]
     },
     "execution_count": 213,
     "metadata": {},
     "output_type": "execute_result"
    }
   ],
   "source": [
    "datos[datos['path']=='4a8f-ba4b-18fa5dd-894c5d123024-765f']"
   ]
  },
  {
   "cell_type": "code",
   "execution_count": null,
   "id": "ec2c4e32-0992-4673-a9f2-0f8dca44322e",
   "metadata": {},
   "outputs": [],
   "source": []
  }
 ],
 "metadata": {
  "kernelspec": {
   "display_name": "Python 3 (ipykernel)",
   "language": "python",
   "name": "python3"
  },
  "language_info": {
   "codemirror_mode": {
    "name": "ipython",
    "version": 3
   },
   "file_extension": ".py",
   "mimetype": "text/x-python",
   "name": "python",
   "nbconvert_exporter": "python",
   "pygments_lexer": "ipython3",
   "version": "3.11.5"
  }
 },
 "nbformat": 4,
 "nbformat_minor": 5
}
