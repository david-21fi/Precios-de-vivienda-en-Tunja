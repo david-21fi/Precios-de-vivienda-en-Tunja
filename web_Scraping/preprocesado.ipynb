{
 "cells": [
  {
   "cell_type": "code",
   "execution_count": 1,
   "id": "4cb135b5-6f86-4375-962d-b44c07060705",
   "metadata": {},
   "outputs": [],
   "source": [
    "import pandas as pd\n",
    "import numpy as np\n",
    "import matplotlib.pyplot as plt"
   ]
  },
  {
   "cell_type": "code",
   "execution_count": 2,
   "id": "1445d1d3-2f84-489e-b21f-32c13a2b1363",
   "metadata": {},
   "outputs": [],
   "source": [
    "data = pd.read_csv('df1.csv')\n",
    "path = 'df'\n",
    "for i in range(2,7):\n",
    "    tem = pd.read_csv('df'+str(i)+'.csv')\n",
    "    data = pd.concat([data,tem],ignore_index=True)\n"
   ]
  },
  {
   "cell_type": "code",
   "execution_count": 3,
   "id": "6fffda02-a3c7-4a1d-9dc6-9352295cb9e7",
   "metadata": {},
   "outputs": [
    {
     "data": {
      "text/plain": [
       "(281, 12)"
      ]
     },
     "execution_count": 3,
     "metadata": {},
     "output_type": "execute_result"
    }
   ],
   "source": [
    "data.shape"
   ]
  },
  {
   "cell_type": "code",
   "execution_count": 4,
   "id": "bb4c22cc-6609-43ac-a424-aa3cf0e1ddbe",
   "metadata": {},
   "outputs": [
    {
     "name": "stdout",
     "output_type": "stream",
     "text": [
      "<class 'pandas.core.frame.DataFrame'>\n",
      "RangeIndex: 281 entries, 0 to 280\n",
      "Data columns (total 12 columns):\n",
      " #   Column                Non-Null Count  Dtype  \n",
      "---  ------                --------------  -----  \n",
      " 0   Habitaciones          281 non-null    int64  \n",
      " 1   Baños                 281 non-null    int64  \n",
      " 2   Estrato               281 non-null    int64  \n",
      " 3   Área_construida       281 non-null    int64  \n",
      " 4   Código inmueble       281 non-null    object \n",
      " 5   Barrio común          278 non-null    object \n",
      " 6   Precio                281 non-null    object \n",
      " 7   Antigüedad            281 non-null    object \n",
      " 8   Área construida       281 non-null    object \n",
      " 9   Área privada          281 non-null    object \n",
      " 10  Valor administración  145 non-null    object \n",
      " 11  Parqueaderos          222 non-null    float64\n",
      "dtypes: float64(1), int64(4), object(7)\n",
      "memory usage: 26.5+ KB\n"
     ]
    }
   ],
   "source": [
    "data.info()"
   ]
  },
  {
   "cell_type": "code",
   "execution_count": 33,
   "id": "bdfb6a38-ed3d-4833-be77-2095e22a8e7f",
   "metadata": {},
   "outputs": [
    {
     "data": {
      "text/html": [
       "<div>\n",
       "<style scoped>\n",
       "    .dataframe tbody tr th:only-of-type {\n",
       "        vertical-align: middle;\n",
       "    }\n",
       "\n",
       "    .dataframe tbody tr th {\n",
       "        vertical-align: top;\n",
       "    }\n",
       "\n",
       "    .dataframe thead th {\n",
       "        text-align: right;\n",
       "    }\n",
       "</style>\n",
       "<table border=\"1\" class=\"dataframe\">\n",
       "  <thead>\n",
       "    <tr style=\"text-align: right;\">\n",
       "      <th></th>\n",
       "      <th>Habitaciones</th>\n",
       "      <th>Baños</th>\n",
       "      <th>Estrato</th>\n",
       "      <th>Área_construida</th>\n",
       "      <th>Código inmueble</th>\n",
       "      <th>Barrio común</th>\n",
       "      <th>Precio</th>\n",
       "      <th>Antigüedad</th>\n",
       "      <th>Área construida</th>\n",
       "      <th>Área privada</th>\n",
       "      <th>Valor administración</th>\n",
       "      <th>Parqueaderos</th>\n",
       "    </tr>\n",
       "  </thead>\n",
       "  <tbody>\n",
       "    <tr>\n",
       "      <th>254</th>\n",
       "      <td>2</td>\n",
       "      <td>1</td>\n",
       "      <td>3</td>\n",
       "      <td>42</td>\n",
       "      <td>MC4962781</td>\n",
       "      <td>UPTC MEDICINA   CENTRO</td>\n",
       "      <td>$178.000.000</td>\n",
       "      <td>Entre 0 y 5 años</td>\n",
       "      <td>42 m²</td>\n",
       "      <td>42 m²</td>\n",
       "      <td>NaN</td>\n",
       "      <td>NaN</td>\n",
       "    </tr>\n",
       "    <tr>\n",
       "      <th>255</th>\n",
       "      <td>3</td>\n",
       "      <td>1</td>\n",
       "      <td>2</td>\n",
       "      <td>83</td>\n",
       "      <td>MC4941029</td>\n",
       "      <td>Villa del Rosario</td>\n",
       "      <td>$95.000.000</td>\n",
       "      <td>Entre 0 y 5 años</td>\n",
       "      <td>83 m²</td>\n",
       "      <td>73 m²</td>\n",
       "      <td>NaN</td>\n",
       "      <td>1.0</td>\n",
       "    </tr>\n",
       "    <tr>\n",
       "      <th>256</th>\n",
       "      <td>5</td>\n",
       "      <td>4</td>\n",
       "      <td>5</td>\n",
       "      <td>210</td>\n",
       "      <td>MC4977324</td>\n",
       "      <td>El Lago</td>\n",
       "      <td>$800.000.000</td>\n",
       "      <td>Entre 0 y 5 años</td>\n",
       "      <td>210 m²</td>\n",
       "      <td>697 m²</td>\n",
       "      <td>$291.000</td>\n",
       "      <td>2.0</td>\n",
       "    </tr>\n",
       "    <tr>\n",
       "      <th>257</th>\n",
       "      <td>3</td>\n",
       "      <td>4</td>\n",
       "      <td>5</td>\n",
       "      <td>200</td>\n",
       "      <td>MC4951498</td>\n",
       "      <td>Santa Ines Reservado</td>\n",
       "      <td>$870.000.000</td>\n",
       "      <td>Entre 0 y 5 años</td>\n",
       "      <td>200.7 m²</td>\n",
       "      <td>191.8 m²</td>\n",
       "      <td>$892.000</td>\n",
       "      <td>2.0</td>\n",
       "    </tr>\n",
       "    <tr>\n",
       "      <th>258</th>\n",
       "      <td>4</td>\n",
       "      <td>3</td>\n",
       "      <td>4</td>\n",
       "      <td>156</td>\n",
       "      <td>MC4900716</td>\n",
       "      <td>Las Quintas</td>\n",
       "      <td>$430.000.000</td>\n",
       "      <td>Entre 10 y 20 años</td>\n",
       "      <td>156 m²</td>\n",
       "      <td>156 m²</td>\n",
       "      <td>NaN</td>\n",
       "      <td>1.0</td>\n",
       "    </tr>\n",
       "  </tbody>\n",
       "</table>\n",
       "</div>"
      ],
      "text/plain": [
       "     Habitaciones  Baños  Estrato  Área_construida Código inmueble  \\\n",
       "254             2      1        3               42       MC4962781   \n",
       "255             3      1        2               83       MC4941029   \n",
       "256             5      4        5              210       MC4977324   \n",
       "257             3      4        5              200       MC4951498   \n",
       "258             4      3        4              156       MC4900716   \n",
       "\n",
       "               Barrio común        Precio          Antigüedad Área construida  \\\n",
       "254  UPTC MEDICINA   CENTRO  $178.000.000    Entre 0 y 5 años           42 m²   \n",
       "255       Villa del Rosario   $95.000.000    Entre 0 y 5 años           83 m²   \n",
       "256                 El Lago  $800.000.000    Entre 0 y 5 años          210 m²   \n",
       "257    Santa Ines Reservado  $870.000.000    Entre 0 y 5 años        200.7 m²   \n",
       "258             Las Quintas  $430.000.000  Entre 10 y 20 años          156 m²   \n",
       "\n",
       "    Área privada Valor administración  Parqueaderos  \n",
       "254        42 m²                  NaN           NaN  \n",
       "255        73 m²                  NaN           1.0  \n",
       "256       697 m²             $291.000           2.0  \n",
       "257     191.8 m²             $892.000           2.0  \n",
       "258       156 m²                  NaN           1.0  "
      ]
     },
     "execution_count": 33,
     "metadata": {},
     "output_type": "execute_result"
    }
   ],
   "source": [
    "df.tail()"
   ]
  },
  {
   "cell_type": "code",
   "execution_count": 66,
   "id": "5118a882-0977-4587-ad8a-ec9100be4979",
   "metadata": {},
   "outputs": [
    {
     "data": {
      "text/plain": [
       "198"
      ]
     },
     "execution_count": 66,
     "metadata": {},
     "output_type": "execute_result"
    }
   ],
   "source": [
    "len(data['Código inmueble'].unique())"
   ]
  },
  {
   "cell_type": "code",
   "execution_count": 21,
   "id": "211b5e2a-865f-4dcf-964f-ab0820cf4b9f",
   "metadata": {
    "scrolled": true
   },
   "outputs": [
    {
     "data": {
      "text/html": [
       "<div>\n",
       "<style scoped>\n",
       "    .dataframe tbody tr th:only-of-type {\n",
       "        vertical-align: middle;\n",
       "    }\n",
       "\n",
       "    .dataframe tbody tr th {\n",
       "        vertical-align: top;\n",
       "    }\n",
       "\n",
       "    .dataframe thead th {\n",
       "        text-align: right;\n",
       "    }\n",
       "</style>\n",
       "<table border=\"1\" class=\"dataframe\">\n",
       "  <thead>\n",
       "    <tr style=\"text-align: right;\">\n",
       "      <th></th>\n",
       "      <th>Habitaciones</th>\n",
       "      <th>Baños</th>\n",
       "      <th>Estrato</th>\n",
       "      <th>Área_construida</th>\n",
       "      <th>Código inmueble</th>\n",
       "      <th>Barrio común</th>\n",
       "      <th>Precio</th>\n",
       "      <th>Antigüedad</th>\n",
       "      <th>Área construida</th>\n",
       "      <th>Área privada</th>\n",
       "      <th>Valor administración</th>\n",
       "      <th>Parqueaderos</th>\n",
       "    </tr>\n",
       "  </thead>\n",
       "  <tbody>\n",
       "    <tr>\n",
       "      <th>176</th>\n",
       "      <td>1</td>\n",
       "      <td>1</td>\n",
       "      <td>3</td>\n",
       "      <td>27</td>\n",
       "      <td>11295-M4770230</td>\n",
       "      <td>PARQUE PINZON TUNJA</td>\n",
       "      <td>$120.000.000</td>\n",
       "      <td>Entre 5 y 10 años</td>\n",
       "      <td>27 m²</td>\n",
       "      <td>27 m²</td>\n",
       "      <td>$120.000.000</td>\n",
       "      <td>NaN</td>\n",
       "    </tr>\n",
       "    <tr>\n",
       "      <th>178</th>\n",
       "      <td>1</td>\n",
       "      <td>1</td>\n",
       "      <td>3</td>\n",
       "      <td>27</td>\n",
       "      <td>11295-M4770230</td>\n",
       "      <td>PARQUE PINZON TUNJA</td>\n",
       "      <td>$120.000.000</td>\n",
       "      <td>Entre 5 y 10 años</td>\n",
       "      <td>27 m²</td>\n",
       "      <td>27 m²</td>\n",
       "      <td>$120.000.000</td>\n",
       "      <td>NaN</td>\n",
       "    </tr>\n",
       "    <tr>\n",
       "      <th>228</th>\n",
       "      <td>1</td>\n",
       "      <td>1</td>\n",
       "      <td>3</td>\n",
       "      <td>27</td>\n",
       "      <td>11295-M4770230</td>\n",
       "      <td>PARQUE PINZON TUNJA</td>\n",
       "      <td>$120.000.000</td>\n",
       "      <td>Entre 5 y 10 años</td>\n",
       "      <td>27 m²</td>\n",
       "      <td>27 m²</td>\n",
       "      <td>$120.000.000</td>\n",
       "      <td>NaN</td>\n",
       "    </tr>\n",
       "    <tr>\n",
       "      <th>230</th>\n",
       "      <td>1</td>\n",
       "      <td>1</td>\n",
       "      <td>3</td>\n",
       "      <td>27</td>\n",
       "      <td>11295-M4770230</td>\n",
       "      <td>PARQUE PINZON TUNJA</td>\n",
       "      <td>$120.000.000</td>\n",
       "      <td>Entre 5 y 10 años</td>\n",
       "      <td>27 m²</td>\n",
       "      <td>27 m²</td>\n",
       "      <td>$120.000.000</td>\n",
       "      <td>NaN</td>\n",
       "    </tr>\n",
       "  </tbody>\n",
       "</table>\n",
       "</div>"
      ],
      "text/plain": [
       "     Habitaciones  Baños  Estrato  Área_construida Código inmueble  \\\n",
       "176             1      1        3               27  11295-M4770230   \n",
       "178             1      1        3               27  11295-M4770230   \n",
       "228             1      1        3               27  11295-M4770230   \n",
       "230             1      1        3               27  11295-M4770230   \n",
       "\n",
       "            Barrio común        Precio         Antigüedad Área construida  \\\n",
       "176  PARQUE PINZON TUNJA  $120.000.000  Entre 5 y 10 años           27 m²   \n",
       "178  PARQUE PINZON TUNJA  $120.000.000  Entre 5 y 10 años           27 m²   \n",
       "228  PARQUE PINZON TUNJA  $120.000.000  Entre 5 y 10 años           27 m²   \n",
       "230  PARQUE PINZON TUNJA  $120.000.000  Entre 5 y 10 años           27 m²   \n",
       "\n",
       "    Área privada Valor administración  Parqueaderos  \n",
       "176        27 m²         $120.000.000           NaN  \n",
       "178        27 m²         $120.000.000           NaN  \n",
       "228        27 m²         $120.000.000           NaN  \n",
       "230        27 m²         $120.000.000           NaN  "
      ]
     },
     "execution_count": 21,
     "metadata": {},
     "output_type": "execute_result"
    }
   ],
   "source": [
    "df[df[\"Código inmueble\"]=='11295-M4770230']"
   ]
  },
  {
   "cell_type": "code",
   "execution_count": 5,
   "id": "21e9c3a1-0d94-4910-b8a5-4d94e3f74094",
   "metadata": {},
   "outputs": [],
   "source": [
    "data.drop_duplicates('Código inmueble',inplace=True,ignore_index=True)"
   ]
  },
  {
   "cell_type": "code",
   "execution_count": 6,
   "id": "cb18bbc0-6a9f-4991-a91f-6670d3c8289f",
   "metadata": {},
   "outputs": [
    {
     "data": {
      "text/plain": [
       "Código inmueble\n",
       "16742-M4795726    1\n",
       "11295-M4299919    1\n",
       "10159-M4892593    1\n",
       "10159-M4892542    1\n",
       "11295-M4195326    1\n",
       "                 ..\n",
       "10159-M4957914    1\n",
       "10159-M4958749    1\n",
       "10159-M4958113    1\n",
       "10159-M4958237    1\n",
       "MC4953938         1\n",
       "Name: count, Length: 220, dtype: int64"
      ]
     },
     "execution_count": 6,
     "metadata": {},
     "output_type": "execute_result"
    }
   ],
   "source": [
    "data['Código inmueble'].value_counts()"
   ]
  },
  {
   "cell_type": "code",
   "execution_count": 7,
   "id": "8962db26-62f6-430c-860a-19ae2bc81964",
   "metadata": {},
   "outputs": [
    {
     "data": {
      "text/plain": [
       "(220, 12)"
      ]
     },
     "execution_count": 7,
     "metadata": {},
     "output_type": "execute_result"
    }
   ],
   "source": [
    "data.shape"
   ]
  },
  {
   "cell_type": "code",
   "execution_count": 8,
   "id": "0126aa0f-abb2-49ce-b7a6-13fc9dea712e",
   "metadata": {},
   "outputs": [
    {
     "data": {
      "text/plain": [
       "Barrio común\n",
       "Tunja                           27\n",
       "Unicentro                       12\n",
       "La Florida                       7\n",
       "Las Nieves                       5\n",
       "Las Quintas                      4\n",
       "                                ..\n",
       "Los Muiskas                      1\n",
       "Villa Ruby                       1\n",
       "Conjunto Residencial Alameda     1\n",
       "Sta Helena                       1\n",
       "patriotas                        1\n",
       "Name: count, Length: 128, dtype: int64"
      ]
     },
     "execution_count": 8,
     "metadata": {},
     "output_type": "execute_result"
    }
   ],
   "source": [
    "data['Barrio común'].value_counts()"
   ]
  },
  {
   "cell_type": "code",
   "execution_count": 9,
   "id": "030f2092-8fd9-4b80-af8a-d9430f55ca8e",
   "metadata": {},
   "outputs": [],
   "source": [
    "data.to_csv('data_meatro_cuadrado.csv',index=False)"
   ]
  },
  {
   "cell_type": "code",
   "execution_count": 204,
   "id": "6afca0cc-1d09-4635-a156-340cd1d07ed4",
   "metadata": {},
   "outputs": [],
   "source": [
    "df = pd.read_csv('urls_metro_cuadrado.csv',sep='/')\n",
    "path = 'urls_metro_cuadrado'\n",
    "for i in range(2,6):\n",
    "    tem = pd.read_csv(path+str(i)+'.csv',sep= '/')\n",
    "    df = pd.concat([df,tem],ignore_index=True)\n"
   ]
  },
  {
   "cell_type": "code",
   "execution_count": 188,
   "id": "2192091e-c0dd-4395-9aa5-d794031c29b6",
   "metadata": {},
   "outputs": [
    {
     "data": {
      "text/plain": [
       "(244, 1)"
      ]
     },
     "execution_count": 188,
     "metadata": {},
     "output_type": "execute_result"
    }
   ],
   "source": [
    "df.shape"
   ]
  },
  {
   "cell_type": "code",
   "execution_count": 45,
   "id": "33b108d2-6041-44d7-ba2f-8f53d37adfb2",
   "metadata": {},
   "outputs": [
    {
     "data": {
      "text/html": [
       "<div>\n",
       "<style scoped>\n",
       "    .dataframe tbody tr th:only-of-type {\n",
       "        vertical-align: middle;\n",
       "    }\n",
       "\n",
       "    .dataframe tbody tr th {\n",
       "        vertical-align: top;\n",
       "    }\n",
       "\n",
       "    .dataframe thead th {\n",
       "        text-align: right;\n",
       "    }\n",
       "</style>\n",
       "<table border=\"1\" class=\"dataframe\">\n",
       "  <thead>\n",
       "    <tr style=\"text-align: right;\">\n",
       "      <th></th>\n",
       "      <th>encoded_url</th>\n",
       "    </tr>\n",
       "  </thead>\n",
       "  <tbody>\n",
       "    <tr>\n",
       "      <th>0</th>\n",
       "      <td>16742-M4795726</td>\n",
       "    </tr>\n",
       "    <tr>\n",
       "      <th>1</th>\n",
       "      <td>16742-M4795707</td>\n",
       "    </tr>\n",
       "    <tr>\n",
       "      <th>2</th>\n",
       "      <td>16742-M4795647</td>\n",
       "    </tr>\n",
       "    <tr>\n",
       "      <th>3</th>\n",
       "      <td>13873-M3706524</td>\n",
       "    </tr>\n",
       "    <tr>\n",
       "      <th>4</th>\n",
       "      <td>16742-M4796230</td>\n",
       "    </tr>\n",
       "  </tbody>\n",
       "</table>\n",
       "</div>"
      ],
      "text/plain": [
       "      encoded_url\n",
       "0  16742-M4795726\n",
       "1  16742-M4795707\n",
       "2  16742-M4795647\n",
       "3  13873-M3706524\n",
       "4  16742-M4796230"
      ]
     },
     "execution_count": 45,
     "metadata": {},
     "output_type": "execute_result"
    }
   ],
   "source": [
    "df.head()"
   ]
  },
  {
   "cell_type": "code",
   "execution_count": 46,
   "id": "39f2e576-c8ba-41ec-a670-da2d59094bd4",
   "metadata": {},
   "outputs": [
    {
     "data": {
      "text/html": [
       "<div>\n",
       "<style scoped>\n",
       "    .dataframe tbody tr th:only-of-type {\n",
       "        vertical-align: middle;\n",
       "    }\n",
       "\n",
       "    .dataframe tbody tr th {\n",
       "        vertical-align: top;\n",
       "    }\n",
       "\n",
       "    .dataframe thead th {\n",
       "        text-align: right;\n",
       "    }\n",
       "</style>\n",
       "<table border=\"1\" class=\"dataframe\">\n",
       "  <thead>\n",
       "    <tr style=\"text-align: right;\">\n",
       "      <th></th>\n",
       "      <th>encoded_url</th>\n",
       "    </tr>\n",
       "  </thead>\n",
       "  <tbody>\n",
       "    <tr>\n",
       "      <th>239</th>\n",
       "      <td>MC4950012</td>\n",
       "    </tr>\n",
       "    <tr>\n",
       "      <th>240</th>\n",
       "      <td>MC4983404</td>\n",
       "    </tr>\n",
       "    <tr>\n",
       "      <th>241</th>\n",
       "      <td>MC4991733</td>\n",
       "    </tr>\n",
       "    <tr>\n",
       "      <th>242</th>\n",
       "      <td>MC4962449</td>\n",
       "    </tr>\n",
       "    <tr>\n",
       "      <th>243</th>\n",
       "      <td>MC4972489</td>\n",
       "    </tr>\n",
       "  </tbody>\n",
       "</table>\n",
       "</div>"
      ],
      "text/plain": [
       "    encoded_url\n",
       "239   MC4950012\n",
       "240   MC4983404\n",
       "241   MC4991733\n",
       "242   MC4962449\n",
       "243   MC4972489"
      ]
     },
     "execution_count": 46,
     "metadata": {},
     "output_type": "execute_result"
    }
   ],
   "source": [
    "df.tail()"
   ]
  },
  {
   "cell_type": "code",
   "execution_count": 58,
   "id": "4b87bb83-afae-4940-849c-8fd33c4dcd06",
   "metadata": {},
   "outputs": [
    {
     "data": {
      "text/plain": [
       "encoded_url   \n",
       "10151-M4748986    2\n",
       "10159-M4968566    2\n",
       "652-M3455828      2\n",
       "482-M4420550      2\n",
       "10159-M4917532    2\n",
       "                 ..\n",
       "10159-M4958758    1\n",
       "10159-M4959959    1\n",
       "10159-M4979981    1\n",
       "10278-M4675763    1\n",
       "MC4991733         1\n",
       "Name: count, Length: 226, dtype: int64"
      ]
     },
     "execution_count": 58,
     "metadata": {},
     "output_type": "execute_result"
    }
   ],
   "source": [
    "df.value_counts()"
   ]
  },
  {
   "cell_type": "code",
   "execution_count": 68,
   "id": "74da8ffe-ae81-43b5-9010-e8d384793126",
   "metadata": {},
   "outputs": [
    {
     "data": {
      "text/html": [
       "<div>\n",
       "<style scoped>\n",
       "    .dataframe tbody tr th:only-of-type {\n",
       "        vertical-align: middle;\n",
       "    }\n",
       "\n",
       "    .dataframe tbody tr th {\n",
       "        vertical-align: top;\n",
       "    }\n",
       "\n",
       "    .dataframe thead th {\n",
       "        text-align: right;\n",
       "    }\n",
       "</style>\n",
       "<table border=\"1\" class=\"dataframe\">\n",
       "  <thead>\n",
       "    <tr style=\"text-align: right;\">\n",
       "      <th></th>\n",
       "      <th>encoded_url</th>\n",
       "    </tr>\n",
       "  </thead>\n",
       "  <tbody>\n",
       "    <tr>\n",
       "      <th>131</th>\n",
       "      <td>10159-M4957787</td>\n",
       "    </tr>\n",
       "  </tbody>\n",
       "</table>\n",
       "</div>"
      ],
      "text/plain": [
       "        encoded_url\n",
       "131  10159-M4957787"
      ]
     },
     "execution_count": 68,
     "metadata": {},
     "output_type": "execute_result"
    }
   ],
   "source": [
    "df[df['encoded_url']=='10159-M4957787']"
   ]
  },
  {
   "cell_type": "code",
   "execution_count": 189,
   "id": "6069f5f5-a542-42b9-a2d0-94b14e19145c",
   "metadata": {},
   "outputs": [],
   "source": [
    "df.drop_duplicates('encoded_url',inplace=True)"
   ]
  },
  {
   "cell_type": "code",
   "execution_count": 190,
   "id": "49a7eea9-edce-4501-8978-ab1bb059c129",
   "metadata": {},
   "outputs": [
    {
     "data": {
      "text/plain": [
       "(226, 1)"
      ]
     },
     "execution_count": 190,
     "metadata": {},
     "output_type": "execute_result"
    }
   ],
   "source": [
    "df.shape"
   ]
  },
  {
   "cell_type": "code",
   "execution_count": 191,
   "id": "399d6f30-75fc-42e2-8993-f139ea6d01c4",
   "metadata": {},
   "outputs": [],
   "source": [
    "lista_index = []\n",
    "inner = 0\n",
    "for i in df['encoded_url']:\n",
    "    if i not in data['Código inmueble'].values:\n",
    "        lista_index.append(df[df['encoded_url']==i].index.to_list())\n",
    "    else:\n",
    "        inner +=1\n",
    "        "
   ]
  },
  {
   "cell_type": "code",
   "execution_count": 192,
   "id": "47bb5a85-dc9b-494e-b9fe-ac0778723a43",
   "metadata": {},
   "outputs": [
    {
     "data": {
      "text/plain": [
       "37"
      ]
     },
     "execution_count": 192,
     "metadata": {},
     "output_type": "execute_result"
    }
   ],
   "source": [
    "len(lista_index)"
   ]
  },
  {
   "cell_type": "code",
   "execution_count": 193,
   "id": "5ec33881-4760-48b0-b78d-4a8004e4acf4",
   "metadata": {},
   "outputs": [
    {
     "data": {
      "text/plain": [
       "189"
      ]
     },
     "execution_count": 193,
     "metadata": {},
     "output_type": "execute_result"
    }
   ],
   "source": [
    "inner"
   ]
  },
  {
   "cell_type": "code",
   "execution_count": 201,
   "id": "5c50f667-aea8-43ae-90cb-99a419f4f6f6",
   "metadata": {},
   "outputs": [
    {
     "data": {
      "text/plain": [
       "62"
      ]
     },
     "execution_count": 201,
     "metadata": {},
     "output_type": "execute_result"
    }
   ],
   "source": [
    "lista_index[2][0]"
   ]
  },
  {
   "cell_type": "code",
   "execution_count": 183,
   "id": "0deee487-5677-4db3-aacd-ea47a9a3d427",
   "metadata": {},
   "outputs": [
    {
     "data": {
      "text/html": [
       "<div>\n",
       "<style scoped>\n",
       "    .dataframe tbody tr th:only-of-type {\n",
       "        vertical-align: middle;\n",
       "    }\n",
       "\n",
       "    .dataframe tbody tr th {\n",
       "        vertical-align: top;\n",
       "    }\n",
       "\n",
       "    .dataframe thead th {\n",
       "        text-align: right;\n",
       "    }\n",
       "</style>\n",
       "<table border=\"1\" class=\"dataframe\">\n",
       "  <thead>\n",
       "    <tr style=\"text-align: right;\">\n",
       "      <th></th>\n",
       "      <th>encoded_url</th>\n",
       "    </tr>\n",
       "  </thead>\n",
       "  <tbody>\n",
       "    <tr>\n",
       "      <th>50</th>\n",
       "      <td>11295-M3308508</td>\n",
       "    </tr>\n",
       "  </tbody>\n",
       "</table>\n",
       "</div>"
      ],
      "text/plain": [
       "       encoded_url\n",
       "50  11295-M3308508"
      ]
     },
     "execution_count": 183,
     "metadata": {},
     "output_type": "execute_result"
    }
   ],
   "source": [
    "df.iloc[lista_index[0]]"
   ]
  },
  {
   "cell_type": "code",
   "execution_count": 116,
   "id": "52747254-52d8-4324-aed3-3508977de0d4",
   "metadata": {},
   "outputs": [
    {
     "data": {
      "text/html": [
       "<div>\n",
       "<style scoped>\n",
       "    .dataframe tbody tr th:only-of-type {\n",
       "        vertical-align: middle;\n",
       "    }\n",
       "\n",
       "    .dataframe tbody tr th {\n",
       "        vertical-align: top;\n",
       "    }\n",
       "\n",
       "    .dataframe thead th {\n",
       "        text-align: right;\n",
       "    }\n",
       "</style>\n",
       "<table border=\"1\" class=\"dataframe\">\n",
       "  <thead>\n",
       "    <tr style=\"text-align: right;\">\n",
       "      <th></th>\n",
       "      <th>encoded_url</th>\n",
       "    </tr>\n",
       "  </thead>\n",
       "  <tbody>\n",
       "    <tr>\n",
       "      <th>0</th>\n",
       "      <td>16742-M4795726</td>\n",
       "    </tr>\n",
       "    <tr>\n",
       "      <th>2</th>\n",
       "      <td>16742-M4795647</td>\n",
       "    </tr>\n",
       "    <tr>\n",
       "      <th>5</th>\n",
       "      <td>16742-M4795788</td>\n",
       "    </tr>\n",
       "    <tr>\n",
       "      <th>6</th>\n",
       "      <td>16742-M4844700</td>\n",
       "    </tr>\n",
       "  </tbody>\n",
       "</table>\n",
       "</div>"
      ],
      "text/plain": [
       "      encoded_url\n",
       "0  16742-M4795726\n",
       "2  16742-M4795647\n",
       "5  16742-M4795788\n",
       "6  16742-M4844700"
      ]
     },
     "execution_count": 116,
     "metadata": {},
     "output_type": "execute_result"
    }
   ],
   "source": [
    "df.iloc[[0,2,5,6]]"
   ]
  },
  {
   "cell_type": "code",
   "execution_count": 202,
   "id": "b4cdaa94-4564-40bf-80e3-fa8fd480ec41",
   "metadata": {},
   "outputs": [
    {
     "data": {
      "text/plain": [
       "array([ 52,  57,  62,  66,  82, 205, 208, 209, 210, 211, 212, 213, 214,\n",
       "       215, 216, 217, 218, 219, 220, 221, 222, 223, 224, 225, 226, 232,\n",
       "       233, 234, 235, 236, 237, 238, 239, 240, 241, 242, 243])"
      ]
     },
     "execution_count": 202,
     "metadata": {},
     "output_type": "execute_result"
    }
   ],
   "source": [
    "a=np.array(lista_index).reshape((1,-1)).flatten()\n",
    "a\n",
    "   "
   ]
  },
  {
   "cell_type": "code",
   "execution_count": 205,
   "id": "4b78c0e8-043c-4248-85f6-1038c505bc3d",
   "metadata": {},
   "outputs": [
    {
     "data": {
      "text/html": [
       "<div>\n",
       "<style scoped>\n",
       "    .dataframe tbody tr th:only-of-type {\n",
       "        vertical-align: middle;\n",
       "    }\n",
       "\n",
       "    .dataframe tbody tr th {\n",
       "        vertical-align: top;\n",
       "    }\n",
       "\n",
       "    .dataframe thead th {\n",
       "        text-align: right;\n",
       "    }\n",
       "</style>\n",
       "<table border=\"1\" class=\"dataframe\">\n",
       "  <thead>\n",
       "    <tr style=\"text-align: right;\">\n",
       "      <th></th>\n",
       "      <th>encoded_url</th>\n",
       "    </tr>\n",
       "  </thead>\n",
       "  <tbody>\n",
       "    <tr>\n",
       "      <th>52</th>\n",
       "      <td>11295-M3308508</td>\n",
       "    </tr>\n",
       "    <tr>\n",
       "      <th>57</th>\n",
       "      <td>11295-M3972852</td>\n",
       "    </tr>\n",
       "    <tr>\n",
       "      <th>62</th>\n",
       "      <td>11295-M3470246</td>\n",
       "    </tr>\n",
       "    <tr>\n",
       "      <th>66</th>\n",
       "      <td>10159-M4892532</td>\n",
       "    </tr>\n",
       "    <tr>\n",
       "      <th>82</th>\n",
       "      <td>MC4925707</td>\n",
       "    </tr>\n",
       "    <tr>\n",
       "      <th>205</th>\n",
       "      <td>10278-M4675763</td>\n",
       "    </tr>\n",
       "    <tr>\n",
       "      <th>208</th>\n",
       "      <td>MC4723427</td>\n",
       "    </tr>\n",
       "    <tr>\n",
       "      <th>209</th>\n",
       "      <td>11295-M4893760</td>\n",
       "    </tr>\n",
       "    <tr>\n",
       "      <th>210</th>\n",
       "      <td>16742-M4943605</td>\n",
       "    </tr>\n",
       "    <tr>\n",
       "      <th>211</th>\n",
       "      <td>11295-M4851186</td>\n",
       "    </tr>\n",
       "    <tr>\n",
       "      <th>212</th>\n",
       "      <td>11295-M3607311</td>\n",
       "    </tr>\n",
       "    <tr>\n",
       "      <th>213</th>\n",
       "      <td>MC4343566</td>\n",
       "    </tr>\n",
       "    <tr>\n",
       "      <th>214</th>\n",
       "      <td>MC4492980</td>\n",
       "    </tr>\n",
       "    <tr>\n",
       "      <th>215</th>\n",
       "      <td>MC4765267</td>\n",
       "    </tr>\n",
       "    <tr>\n",
       "      <th>216</th>\n",
       "      <td>MC4946662</td>\n",
       "    </tr>\n",
       "    <tr>\n",
       "      <th>217</th>\n",
       "      <td>MC4962547</td>\n",
       "    </tr>\n",
       "    <tr>\n",
       "      <th>218</th>\n",
       "      <td>MC4947669</td>\n",
       "    </tr>\n",
       "    <tr>\n",
       "      <th>219</th>\n",
       "      <td>MC4954891</td>\n",
       "    </tr>\n",
       "    <tr>\n",
       "      <th>220</th>\n",
       "      <td>MC4986469</td>\n",
       "    </tr>\n",
       "    <tr>\n",
       "      <th>221</th>\n",
       "      <td>MC4990176</td>\n",
       "    </tr>\n",
       "    <tr>\n",
       "      <th>222</th>\n",
       "      <td>MC4963341</td>\n",
       "    </tr>\n",
       "    <tr>\n",
       "      <th>223</th>\n",
       "      <td>MC4953938</td>\n",
       "    </tr>\n",
       "    <tr>\n",
       "      <th>224</th>\n",
       "      <td>MC4971150</td>\n",
       "    </tr>\n",
       "    <tr>\n",
       "      <th>225</th>\n",
       "      <td>16432-C0001-01</td>\n",
       "    </tr>\n",
       "    <tr>\n",
       "      <th>226</th>\n",
       "      <td>16432-C0001-03</td>\n",
       "    </tr>\n",
       "    <tr>\n",
       "      <th>232</th>\n",
       "      <td>16607-C0001-01</td>\n",
       "    </tr>\n",
       "    <tr>\n",
       "      <th>233</th>\n",
       "      <td>16432-C0001-02</td>\n",
       "    </tr>\n",
       "    <tr>\n",
       "      <th>234</th>\n",
       "      <td>MC26191913</td>\n",
       "    </tr>\n",
       "    <tr>\n",
       "      <th>235</th>\n",
       "      <td>10159-M4747008</td>\n",
       "    </tr>\n",
       "    <tr>\n",
       "      <th>236</th>\n",
       "      <td>MC4806733</td>\n",
       "    </tr>\n",
       "    <tr>\n",
       "      <th>237</th>\n",
       "      <td>MC4985514</td>\n",
       "    </tr>\n",
       "    <tr>\n",
       "      <th>238</th>\n",
       "      <td>MC4956627</td>\n",
       "    </tr>\n",
       "    <tr>\n",
       "      <th>239</th>\n",
       "      <td>MC4950012</td>\n",
       "    </tr>\n",
       "    <tr>\n",
       "      <th>240</th>\n",
       "      <td>MC4983404</td>\n",
       "    </tr>\n",
       "    <tr>\n",
       "      <th>241</th>\n",
       "      <td>MC4991733</td>\n",
       "    </tr>\n",
       "    <tr>\n",
       "      <th>242</th>\n",
       "      <td>MC4962449</td>\n",
       "    </tr>\n",
       "    <tr>\n",
       "      <th>243</th>\n",
       "      <td>MC4972489</td>\n",
       "    </tr>\n",
       "  </tbody>\n",
       "</table>\n",
       "</div>"
      ],
      "text/plain": [
       "        encoded_url\n",
       "52   11295-M3308508\n",
       "57   11295-M3972852\n",
       "62   11295-M3470246\n",
       "66   10159-M4892532\n",
       "82        MC4925707\n",
       "205  10278-M4675763\n",
       "208       MC4723427\n",
       "209  11295-M4893760\n",
       "210  16742-M4943605\n",
       "211  11295-M4851186\n",
       "212  11295-M3607311\n",
       "213       MC4343566\n",
       "214       MC4492980\n",
       "215       MC4765267\n",
       "216       MC4946662\n",
       "217       MC4962547\n",
       "218       MC4947669\n",
       "219       MC4954891\n",
       "220       MC4986469\n",
       "221       MC4990176\n",
       "222       MC4963341\n",
       "223       MC4953938\n",
       "224       MC4971150\n",
       "225  16432-C0001-01\n",
       "226  16432-C0001-03\n",
       "232  16607-C0001-01\n",
       "233  16432-C0001-02\n",
       "234      MC26191913\n",
       "235  10159-M4747008\n",
       "236       MC4806733\n",
       "237       MC4985514\n",
       "238       MC4956627\n",
       "239       MC4950012\n",
       "240       MC4983404\n",
       "241       MC4991733\n",
       "242       MC4962449\n",
       "243       MC4972489"
      ]
     },
     "execution_count": 205,
     "metadata": {},
     "output_type": "execute_result"
    }
   ],
   "source": [
    "df.iloc[a]"
   ]
  },
  {
   "cell_type": "code",
   "execution_count": 206,
   "id": "ff85ff3d-e920-430c-a81a-cb73f5274c3a",
   "metadata": {},
   "outputs": [],
   "source": [
    "df = pd.read_csv('urls_metro_cuadrado.csv')\n",
    "path = 'urls_metro_cuadrado'\n",
    "for i in range(2,6):\n",
    "    tem = pd.read_csv(path+str(i)+'.csv')\n",
    "    df = pd.concat([df,tem],ignore_index=True)\n"
   ]
  },
  {
   "cell_type": "code",
   "execution_count": 208,
   "id": "eccb3cfd-19db-490d-a64f-d7fd2eb043af",
   "metadata": {},
   "outputs": [],
   "source": [
    "df=df.iloc[a]"
   ]
  },
  {
   "cell_type": "code",
   "execution_count": 209,
   "id": "1dff5810-1c1f-4dda-8d2b-6cd628ada6d9",
   "metadata": {},
   "outputs": [],
   "source": [
    "df.to_csv('faltan.csv',index=False)"
   ]
  },
  {
   "cell_type": "code",
   "execution_count": null,
   "id": "114a0eb7-0229-429f-814c-326e32430465",
   "metadata": {},
   "outputs": [],
   "source": []
  }
 ],
 "metadata": {
  "kernelspec": {
   "display_name": "Python 3 (ipykernel)",
   "language": "python",
   "name": "python3"
  },
  "language_info": {
   "codemirror_mode": {
    "name": "ipython",
    "version": 3
   },
   "file_extension": ".py",
   "mimetype": "text/x-python",
   "name": "python",
   "nbconvert_exporter": "python",
   "pygments_lexer": "ipython3",
   "version": "3.11.5"
  }
 },
 "nbformat": 4,
 "nbformat_minor": 5
}
